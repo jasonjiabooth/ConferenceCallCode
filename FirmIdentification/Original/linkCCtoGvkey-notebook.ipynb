{
 "cells": [
  {
   "cell_type": "code",
   "execution_count": 18,
   "id": "322ea7de",
   "metadata": {},
   "outputs": [],
   "source": [
    "using CSV\n",
    "using DataFrames\n",
    "using StringDistances\n",
    "\n",
    "# ``` parse CC datalist to match firm name to compustat gvkey and country ```\n",
    "# ``` to match 3 source are using: 1) Hassan dataset 2) compustat capital IQ companies dataset 3) compustat capital IQ ticker ```\n",
    "# ``` for unmatched firm's name, string distance comparison is using. ```"
   ]
  },
  {
   "cell_type": "code",
   "execution_count": 3,
   "id": "133ab808",
   "metadata": {},
   "outputs": [
    {
     "data": {
      "text/plain": [
       "getTicker (generic function with 1 method)"
      ]
     },
     "execution_count": 3,
     "metadata": {},
     "output_type": "execute_result"
    }
   ],
   "source": [
    "function getTicker(str) #``` parse tiker ```\n",
    "    try\n",
    "        # f=findfirst(\" - \",str)[1]\n",
    "        f=findfirst(\" \",str)[1]\n",
    "        p=f\n",
    "        if !isnothing(findfirst(\".\",str[1:f-1]))\n",
    "            p=findfirst(\".\",str[1:f-1])[1]\n",
    "        end\n",
    "        return replace(str[1:p-1],r\"[\\W]\"=>\"\")\n",
    "    catch\n",
    "        return \"\"\n",
    "    end\n",
    "end"
   ]
  },
  {
   "cell_type": "code",
   "execution_count": 4,
   "id": "892e311d",
   "metadata": {},
   "outputs": [
    {
     "data": {
      "text/plain": [
       "deleteCorpWords (generic function with 1 method)"
      ]
     },
     "execution_count": 4,
     "metadata": {},
     "output_type": "execute_result"
    }
   ],
   "source": [
    "function deleteCorpWords(fname) #``` delete common words```\n",
    "    words=[\"earnings conference call\",\"conference call on productivity\", \"earnings release conference\", \"financial release conference\",\n",
    "        \"conference call regarding\", \"earnings conference\", \"comprehensive review\", \"final transcript\", \"edited transcript\",\n",
    "        \"week conference\", \"conference call\", \"edited brief\", \"preliminary brief\", \"earnings call\", \"earning call\",\n",
    "        \"preliminary transcript\", \"final transcript\", \"call\",\"cal\",\"merger\",\"c\", \"earning\",\"earnings\", \"to discuss\",\n",
    "        \"group\",\"plc\",\"ltd\",\"limited\",\"ag\",\"corp\",\"corporation\",\"Incorporation\",\"laboratories\",\"labs\",\"the\",\"proposed\",\"propose\",\n",
    "                        \"holdings\",\"oyj\",\"inc\",\"conference\",\"co\", \"final\",\"preliminary\",\"and\",\"&\",\n",
    "                        \"company\",\"trust\",\"investment\",\"investments\",\"sln\",\"sa\",\"s.p.a.\",\"spa\",\"transc\",\n",
    "                        \"quarter\",\"st\",\"nd\",\"rd\",\"th\",\n",
    "                        \"q\", \"jan\",\"feb\",\"mar\",\"apr\",\"may\",\"jun\",\"jul\",\"aug\",\"sep\",\"oct\",\"nov\",\"dec\",\n",
    "                        ]\n",
    "\n",
    "    fname = string(\" \",fname,\" \")\n",
    "    fname=replace(fname,r\"[0-9]\"=>\" \")\n",
    "    for w in words\n",
    "        fname=replace(fname,Regex(\"\\\\b$w\\\\b\") => \" \")\n",
    "    end\n",
    "\n",
    "    return strip(fname)\n",
    "end"
   ]
  },
  {
   "cell_type": "code",
   "execution_count": 5,
   "id": "f3c30d15",
   "metadata": {},
   "outputs": [
    {
     "data": {
      "text/plain": [
       "prepareName (generic function with 1 method)"
      ]
     },
     "execution_count": 5,
     "metadata": {},
     "output_type": "execute_result"
    }
   ],
   "source": [
    "function prepareName(fname) #\"\"\" prepare name for matching \"\"\"\n",
    "    fname=lowercase(fname)\n",
    "\n",
    "    try\n",
    "        f=findfirst(\"event transcript of\",fname)[end]\n",
    "        fname=fname[nextind(fname,f):end]\n",
    "    catch\n",
    "    end\n",
    "    try\n",
    "        f=findfirst(\"event brief of\",fname)[end]\n",
    "        fname=fname[nextind(fname,f):end]\n",
    "    catch\n",
    "    end\n",
    "\n",
    "    try\n",
    "        f=findfirst(\" - \",fname)[end]\n",
    "        fname=fname[1:f]\n",
    "    catch\n",
    "    end\n",
    "\n",
    "    fname=replace(fname,r\"\\((.*)\\)\"=>\"\")\n",
    "    fname=deleteCorpWords(fname)\n",
    "    return strip(replace(fname,r\"[.,'#-/0-9]\"=>\"\"))\n",
    "end"
   ]
  },
  {
   "cell_type": "code",
   "execution_count": 6,
   "id": "2c90f7a4",
   "metadata": {},
   "outputs": [
    {
     "data": {
      "text/plain": [
       "getGVKey_ticker (generic function with 1 method)"
      ]
     },
     "execution_count": 6,
     "metadata": {},
     "output_type": "execute_result"
    }
   ],
   "source": [
    "function getGVkeyH(fname)\n",
    "    try\n",
    "        return gvkey_dict_h[prepareName(fname)]\n",
    "    catch\n",
    "        return 0\n",
    "    end\n",
    "end\n",
    "\n",
    "function getGVkeyC(fname)\n",
    "    try\n",
    "        return gvkey_dict_c[prepareName(fname)]\n",
    "    catch\n",
    "        return 0\n",
    "    end\n",
    "end\n",
    "\n",
    "function getGVKey_ticker(ticker)\n",
    "    try\n",
    "        return ticker_gvkey_uniq[ticker]\n",
    "    catch\n",
    "        return 0\n",
    "    end\n",
    "end"
   ]
  },
  {
   "cell_type": "code",
   "execution_count": 7,
   "id": "f2741e02",
   "metadata": {},
   "outputs": [
    {
     "data": {
      "text/plain": [
       "GuesNameTicker! (generic function with 1 method)"
      ]
     },
     "execution_count": 7,
     "metadata": {},
     "output_type": "execute_result"
    }
   ],
   "source": [
    "function GuesNameTicker!(dfCC) #lookf through set of company names by tikers. (some tickers has several names) ```\n",
    "    global cash_dict\n",
    "    # dfCC[!,:prob].=1.\n",
    "    # dfCC[!,:gues_by_dticker].=0\n",
    "    # dfCC[!,:gues_name].=\"\"\n",
    "    for r in eachrow(dfCC)\n",
    "\n",
    "            if r.gvkey==0\n",
    "                firmname=prepareName(r.Title)\n",
    "                #check cash\n",
    "                if haskey(cash_dict,firmname)\n",
    "                    cash=cash_dict[firmname]\n",
    "                    r.prob=cash[1]\n",
    "                    r.gues_name=cash[2]\n",
    "                    r.gvkey = cash[3]\n",
    "                    cash[4]==1 ? r.gues_by_dticker=1 : r.gues_by_dticker=0\n",
    "\n",
    "                else\n",
    "                    # println(r.ticker)\n",
    "                    possible_compname= dfCompT[dfCompT.tickersymbol.==r.ticker,:] #set of possible company names\n",
    "                    if size(possible_compname)[1]>1\n",
    "                        prob=0\n",
    "                        best_match=\"\"\n",
    "                        gvkey_match=0\n",
    "                        for pn in eachrow(possible_compname)\n",
    "                            p=compare(prepareName(pn.companyname),firmname,Jaro())\n",
    "                            if p>prob\n",
    "                                 prob=p\n",
    "                                 best_match=pn.companyname\n",
    "                                 gvkey_match=pn.gvkey\n",
    "                            end\n",
    "                        end\n",
    "                        if prob>0.8\n",
    "                            r.prob=prob\n",
    "                            r.gues_name=best_match\n",
    "                            r.gvkey=gvkey_match\n",
    "                            r.gues_by_dticker=1\n",
    "                            cash_dict[firmname]=[prob,best_match,gvkey_match,1]\n",
    "                        end\n",
    "                    end\n",
    "                end\n",
    "            end\n",
    "    end\n",
    "end"
   ]
  },
  {
   "cell_type": "code",
   "execution_count": 8,
   "id": "24b82dc9",
   "metadata": {},
   "outputs": [
    {
     "data": {
      "text/plain": [
       "GuesName! (generic function with 1 method)"
      ]
     },
     "execution_count": 8,
     "metadata": {},
     "output_type": "execute_result"
    }
   ],
   "source": [
    "function GuesName!(dfCC)# \"\"\" mactch companies name by the best matched\"\"\"\n",
    "    # dfCC[!,:prob].=1.\n",
    "    # dfCC[!,:gues_name].=\"\"\n",
    "    global cash_dict\n",
    "    for r in eachrow(dfCC)\n",
    "        if r.gvkey==0\n",
    "            fname=prepareName(r.Title)\n",
    "            #check cash\n",
    "            if haskey(cash_dict,fname)\n",
    "                cash=cash_dict[fname]\n",
    "                r.prob=cash[1]\n",
    "                r.gues_name=cash[2]\n",
    "                r.gvkey = cash[3]\n",
    "                cash[4]==1 ? r.gues_by_dticker=1 : r.gues_by_dticker=0\n",
    "            else\n",
    "                best_match=firm_names[1]\n",
    "                gvkey_match=gvkey_dict_h[best_match]\n",
    "                prob=compare(fname, best_match, Jaro())\n",
    "                for f in firm_names[2:end]\n",
    "                    p=compare(fname, f, Jaro())\n",
    "                    if p>prob\n",
    "                      prob=p\n",
    "                      best_match=f\n",
    "                      gvkey_match = haskey(gvkey_dict_h,best_match) ? gvkey_dict_h[best_match] : gvkey_dict_c[best_match]\n",
    "                    end\n",
    "                end\n",
    "                r.prob=prob\n",
    "                r.gvkey=gvkey_match\n",
    "                r.gues_name=best_match\n",
    "                cash_dict[fname]=[prob,best_match,gvkey_match,0]\n",
    "            end\n",
    "        end\n",
    "    end\n",
    "end"
   ]
  },
  {
   "cell_type": "code",
   "execution_count": 14,
   "id": "4bf02a4b",
   "metadata": {},
   "outputs": [
    {
     "data": {
      "text/plain": [
       "MergeGvkey! (generic function with 1 method)"
      ]
     },
     "execution_count": 14,
     "metadata": {},
     "output_type": "execute_result"
    }
   ],
   "source": [
    "function MergeGvkey!(dfCC) #\"\"\" create the main gvkey based on three keys: hassan, compustat, tickers \"\"\"\n",
    "    dfCC[!,:gvkey].=0\n",
    "    for r in eachrow(dfCC)\n",
    "        if !((r.gvkey_t.==0) .& (r.gvkey_h.==0) .& (r.gvkey_c.==0))\n",
    "            r.gvkey=r.gvkey_c\n",
    "            if r.gvkey==0\n",
    "                r.gvkey=r.gvkey_h\n",
    "                if r.gvkey==0\n",
    "                    r.gvkey=r.gvkey_t\n",
    "                end\n",
    "            end\n",
    "        end\n",
    "    end\n",
    "end"
   ]
  },
  {
   "cell_type": "code",
   "execution_count": 15,
   "id": "0c6357ed",
   "metadata": {},
   "outputs": [
    {
     "data": {
      "text/plain": [
       "matchFile (generic function with 1 method)"
      ]
     },
     "execution_count": 15,
     "metadata": {},
     "output_type": "execute_result"
    }
   ],
   "source": [
    "function  matchFile(filename)\n",
    "    #read Call csv file\n",
    "    try\n",
    "        dfCC=CSV.read(\"$filename.csv\",copycols=true)\n",
    "\n",
    "        #parse ticker from SubTitile\n",
    "        dfCC[!,:ticker]=getTicker.(dfCC.Subtitle)\n",
    "        #match three sources gvkeys\n",
    "        dfCC[!,:gvkey_t].= getGVKey_ticker.(dfCC[:,:ticker])\n",
    "        dfCC[!,:gvkey_h]=getGVkeyH.(dfCC.Title)\n",
    "        dfCC[!,:gvkey_c]=getGVkeyC.(dfCC.Title)\n",
    "\n",
    "\n",
    "\n",
    "        #Merge into one main gvkey\n",
    "        MergeGvkey!(dfCC)\n",
    "        #match firms without gvkey\n",
    "        dfCC[!,:prob].=1.\n",
    "        dfCC[!,:gues_by_dticker].=0\n",
    "        dfCC[!,:gues_name].=\"\"\n",
    "\n",
    "        GuesNameTicker!(dfCC)\n",
    "        GuesName!(dfCC)\n",
    "        #println(dfCC[:,[:gvkey_c,:gvkey_h,:gvkey_t,:gvkey,:prob,:Title,:gues_name]])\n",
    "\n",
    "        dfCC=join(dfCC,dfCompGvkeyUniqu[:,[:gvkey,:countryid,:country]], on = :gvkey, kind = :inner)\n",
    "        dfCC[!,:filename].=filename\n",
    "        select!(dfCC,Not(:Call))\n",
    "        return dfCC\n",
    "    catch\n",
    "    end\n",
    "end"
   ]
  },
  {
   "cell_type": "code",
   "execution_count": 16,
   "id": "ac475db8",
   "metadata": {},
   "outputs": [
    {
     "data": {
      "text/plain": [
       "DoFolder (generic function with 1 method)"
      ]
     },
     "execution_count": 16,
     "metadata": {},
     "output_type": "execute_result"
    }
   ],
   "source": [
    "function DoFolder(year)\n",
    "    dfList=DataFrame()\n",
    "    files=readdir()\n",
    "    for file in files\n",
    "        println(file)\n",
    "        # if file[end-2:end]==\"csv\"\n",
    "        if (file[1:4]==string(year))\n",
    "            try\n",
    "                dfCC=matchFile(file[1:end-4])\n",
    "                append!(dfList,dfCC)\n",
    "                # println(\"$file done \")\n",
    "            catch e\n",
    "                println(\"$file error\", e)\n",
    "            end\n",
    "        end\n",
    "    end\n",
    "    # return dfList\n",
    "    sort!(dfList,:prob)\n",
    "    CSV.write(\"CC_List$year.csv\",dfList)\n",
    "end"
   ]
  },
  {
   "cell_type": "code",
   "execution_count": 19,
   "id": "532fd874",
   "metadata": {},
   "outputs": [
    {
     "name": "stdout",
     "output_type": "stream",
     "text": [
      "start linking CC to GVKEY\n"
     ]
    },
    {
     "ename": "LoadError",
     "evalue": "ArgumentError: provide a valid sink argument, like `using DataFrames; CSV.read(source, DataFrame)`",
     "output_type": "error",
     "traceback": [
      "ArgumentError: provide a valid sink argument, like `using DataFrames; CSV.read(source, DataFrame)`",
      "",
      "Stacktrace:",
      " [1] read(source::String, sink::Nothing; copycols::Bool, kwargs::Base.Iterators.Pairs{Union{}, Union{}, Tuple{}, NamedTuple{(), Tuple{}}})",
      "   @ CSV C:\\Users\\jasonjia\\.julia\\packages\\CSV\\h66c0\\src\\CSV.jl:65",
      " [2] read(source::String, sink::Nothing) (repeats 2 times)",
      "   @ CSV C:\\Users\\jasonjia\\.julia\\packages\\CSV\\h66c0\\src\\CSV.jl:64",
      " [3] top-level scope",
      "   @ In[19]:7",
      " [4] eval",
      "   @ .\\boot.jl:360 [inlined]",
      " [5] include_string(mapexpr::typeof(REPL.softscope), mod::Module, code::String, filename::String)",
      "   @ Base .\\loading.jl:1116"
     ]
    }
   ],
   "source": [
    "println(\"start linking CC to GVKEY\")\n",
    "\n",
    "# \"\"\" SET Current Folder \"\"\"\n",
    "# cd(\"..//..//..//..//project//EC_Mercury\")\n",
    "\n",
    "# \"\"\"Prepare dictionaries and variables\"\"\"\n",
    "    dfSV_hassan=CSV.read(\"G:\\\\My Drive\\\\Booth\\\\Political_Firms\\\\Data\\\\EPU\\\\FirmSVkey.csv\")\n",
    "    dfComp=CSV.read(\"G:\\\\My Drive\\\\Booth\\\\Political_Firms\\\\Data\\\\SAS\\\\compustat_company.csv\",copycols=true)\n",
    "    dfComp_byhand=CSV.read(\"G:\\\\My Drive\\\\Booth\\\\Political_Firms\\\\Data\\\\SAS\\\\compustat_company_byhand.csv\")\n",
    "    append!(dfComp,dfComp_byhand)\n",
    "    dfCompGvkeyUniqu=unique(dfComp,:gvkey)\n",
    "    dfCompT=dropmissing(dfComp,:tickersymbol) #drop companies without tickers\n",
    "    gvkey_dict_h = Dict(prepareName(row.company_name) => row.gvkey  for row in eachrow(dfSV_hassan))\n",
    "    gvkey_dict_c = Dict(prepareName(row.companyname) => row.gvkey  for row in eachrow(dfComp))\n",
    "    tickers=unique(dfCompT.tickersymbol)\n",
    "    ticker_gvkey_uniq=Dict()\n",
    "    for t in tickers #create dictionary with tickers, that are unique\n",
    "        gvk=dfCompT[dfCompT.tickersymbol.==t,:].gvkey\n",
    "        size(gvk)[1]==1 ? push!(ticker_gvkey_uniq,t=>gvk[1]) : nothing\n",
    "    end\n",
    "\n",
    "    firm_names_h=[k for k in keys(gvkey_dict_h)]\n",
    "    firm_names_c=[k for k in keys(gvkey_dict_c)]\n",
    "    firm_names=vcat(firm_names_h,firm_names_c)\n",
    "\n",
    "    global cash_dict = Dict() # cash is already matched firms name\n",
    "\n",
    "# \"\"\" ************************************************************************ \"\"\""
   ]
  },
  {
   "cell_type": "code",
   "execution_count": null,
   "id": "9294576b",
   "metadata": {},
   "outputs": [],
   "source": [
    "# \"\"\" main code \"\"\"\n",
    "# cd(\"C:\\\\CC2010\")\n",
    "for i in 2001:1:2010\n",
    "     @time DoFolder(2010)\n",
    "end\n",
    "\n",
    "# @time dfList=DoFolder()\n",
    "# sort!(dfList,:prob)\n",
    "# CSV.write(\"CC_List.csv\",dfList)\n",
    "# \"\"\" END \"\""
   ]
  }
 ],
 "metadata": {
  "kernelspec": {
   "display_name": "Julia 1.6.2",
   "language": "julia",
   "name": "julia-1.6"
  },
  "language_info": {
   "file_extension": ".jl",
   "mimetype": "application/julia",
   "name": "julia",
   "version": "1.6.2"
  }
 },
 "nbformat": 4,
 "nbformat_minor": 5
}
