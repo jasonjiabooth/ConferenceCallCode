{
 "cells": [
  {
   "cell_type": "code",
   "execution_count": 27,
   "id": "3e0d6373",
   "metadata": {},
   "outputs": [],
   "source": [
    "import openpyxl\n",
    "import xlsxwriter\n",
    "import os, sys, glob, re\n",
    "from pathlib import Path\n",
    "import pandas as pd"
   ]
  },
  {
   "cell_type": "code",
   "execution_count": 5,
   "id": "647f5910",
   "metadata": {},
   "outputs": [],
   "source": [
    "keywords_filepath = Path(r\"C:\\Users\\jasonjia\\Dropbox\\Projects\\conference_call\\code\\03_identify_paragraphs_containing_keywords\\reference_files\\keywords.txt\")"
   ]
  },
  {
   "cell_type": "code",
   "execution_count": 6,
   "id": "d7e4dea2",
   "metadata": {},
   "outputs": [],
   "source": [
    "# Import keywords\n",
    "keywords = pd.read_csv(keywords_filepath, sep = \"\\t\", header = None)\n",
    "keyword_list = list(keywords[0].str.lower())"
   ]
  },
  {
   "cell_type": "code",
   "execution_count": 9,
   "id": "3c4964ab",
   "metadata": {},
   "outputs": [],
   "source": [
    "def get_paragraph_with_keywords_bolded(para, keyword_list):\n",
    "    para_with_keywords_bolded = [para]\n",
    "    for keyword in keyword_list:\n",
    "        para_with_keywords_bolded = modify_para_by_bolding_one_keyword(para_with_keywords_bolded, keyword)\n",
    "    return para_with_keywords_bolded"
   ]
  },
  {
   "cell_type": "code",
   "execution_count": null,
   "id": "83ad7f03",
   "metadata": {},
   "outputs": [],
   "source": [
    "def modify_para_by_bolding_one_keyword(para_with_keywords_bolded, keyword):\n",
    "    para_with_keywords_bolded_new = []\n",
    "    for chunk in para_with_keywords_bolded:\n",
    "        # Normal string\n",
    "        try:\n",
    "            len(chunk)\n",
    "            # Split chunk by keyword\n",
    "            chunk_splitted = re.split(keyword, chunk, flags=re.I)\n",
    "            for index, string in enumerate(chunk_splitted):\n",
    "                # Keyword appears at start or end of para_splitted\n",
    "                if string == '':\n",
    "                    para_with_keywords_bolded_new.append(keyword)\n",
    "                    para_with_keywords_bolded_new.append(bold_format)\n",
    "                # Keyword appears between 2 strings\n",
    "                else:\n",
    "                    para_with_keywords_bolded_new.append(string)\n",
    "                    # Keyword can't appear after the last string (which is not '').\n",
    "                    if index < len(chunk_splitted) - 1:\n",
    "                        para_with_keywords_bolded_new.append(keyword)\n",
    "                        para_with_keywords_bolded_new.append(bold_format)\n",
    "        # Bold format\n",
    "        except:\n",
    "            para_with_keywords_bolded_new.append(chunk)\n",
    "        print(para_with_keywords_bolded_new)\n",
    "    \n",
    "    return para_with_keywords_bolded_new"
   ]
  },
  {
   "cell_type": "code",
   "execution_count": 30,
   "id": "41fbcf6d",
   "metadata": {},
   "outputs": [],
   "source": [
    "def add_formats(indv_entryfile):\n",
    "    # Add the bold format\n",
    "    bold_format = indv_entryfile.add_format({\"bold\": True, \"align\": \"center\", \"valign\": \"center\"})\n",
    "\n",
    "    # Add the default cell format\n",
    "    cell_format = indv_entryfile.add_format()\n",
    "    cell_format.set_align('center') # horizontal center\n",
    "    cell_format.set_align('vcenter') # vertical center\n",
    "    cell_format.set_text_wrap()\n",
    "    \n",
    "    return bold_format, cell_format"
   ]
  },
  {
   "cell_type": "code",
   "execution_count": 10,
   "id": "1fc2f120",
   "metadata": {},
   "outputs": [
    {
     "data": {
      "text/plain": [
       "[]"
      ]
     },
     "execution_count": 10,
     "metadata": {},
     "output_type": "execute_result"
    }
   ],
   "source": [
    "get_paragraph_with_keywords_bolded(\"iasdirr\", keyword_list)"
   ]
  },
  {
   "cell_type": "code",
   "execution_count": 11,
   "id": "4f6c5c96",
   "metadata": {},
   "outputs": [
    {
     "data": {
      "text/plain": [
       "'roic'"
      ]
     },
     "execution_count": 11,
     "metadata": {},
     "output_type": "execute_result"
    }
   ],
   "source": [
    "keyword_list[0]"
   ]
  },
  {
   "cell_type": "code",
   "execution_count": 17,
   "id": "78514fb1",
   "metadata": {},
   "outputs": [
    {
     "name": "stdout",
     "output_type": "stream",
     "text": [
      "(7, 11)\n",
      "(12, 16)\n"
     ]
    }
   ],
   "source": [
    "s = 'iasdirrroicaroica'\n",
    "pattern = keyword_list[0]\n",
    "matches = re.finditer(pattern, s)\n",
    "for match in matches:\n",
    "    print(match.span())"
   ]
  },
  {
   "cell_type": "code",
   "execution_count": 72,
   "id": "98366966",
   "metadata": {},
   "outputs": [],
   "source": [
    "para = para_splitted_new\n",
    "keyword = 'dir'"
   ]
  },
  {
   "cell_type": "code",
   "execution_count": 73,
   "id": "5f1bfcdc",
   "metadata": {},
   "outputs": [
    {
     "name": "stdout",
     "output_type": "stream",
     "text": [
      "['asdwrgs']\n",
      "['asdwrgs', 'dir', <xlsxwriter.format.Format object at 0x0000020FC4A2B040>, 'dir', <xlsxwriter.format.Format object at 0x0000020FC4A2B040>]\n",
      "['asdwrgs', 'dir', <xlsxwriter.format.Format object at 0x0000020FC4A2B040>, 'dir', <xlsxwriter.format.Format object at 0x0000020FC4A2B040>, <xlsxwriter.format.Format object at 0x0000020FC3F8ECD0>]\n",
      "['asdwrgs', 'dir', <xlsxwriter.format.Format object at 0x0000020FC4A2B040>, 'dir', <xlsxwriter.format.Format object at 0x0000020FC4A2B040>, <xlsxwriter.format.Format object at 0x0000020FC3F8ECD0>, 'dsdf']\n"
     ]
    },
    {
     "data": {
      "text/plain": [
       "['asdwrgs',\n",
       " 'dir',\n",
       " <xlsxwriter.format.Format at 0x20fc4a2b040>,\n",
       " 'dir',\n",
       " <xlsxwriter.format.Format at 0x20fc4a2b040>,\n",
       " <xlsxwriter.format.Format at 0x20fc3f8ecd0>,\n",
       " 'dsdf']"
      ]
     },
     "execution_count": 73,
     "metadata": {},
     "output_type": "execute_result"
    }
   ],
   "source": [
    "indv_entryfile = xlsxwriter.Workbook(\"test.xlsx\")\n",
    "worksheet = indv_entryfile.add_worksheet()\n",
    "bold_format, cell_format = add_formats(indv_entryfile)\n",
    "\n",
    "\n"
   ]
  },
  {
   "cell_type": "code",
   "execution_count": 59,
   "id": "c0908475",
   "metadata": {},
   "outputs": [
    {
     "data": {
      "text/plain": [
       "['afs']"
      ]
     },
     "execution_count": 59,
     "metadata": {},
     "output_type": "execute_result"
    }
   ],
   "source": [
    "re.split(\"aaa\", \"afs\", flags=re.I)"
   ]
  }
 ],
 "metadata": {
  "kernelspec": {
   "display_name": "Python 3 (ipykernel)",
   "language": "python",
   "name": "python3"
  },
  "language_info": {
   "codemirror_mode": {
    "name": "ipython",
    "version": 3
   },
   "file_extension": ".py",
   "mimetype": "text/x-python",
   "name": "python",
   "nbconvert_exporter": "python",
   "pygments_lexer": "ipython3",
   "version": "3.9.7"
  }
 },
 "nbformat": 4,
 "nbformat_minor": 5
}
