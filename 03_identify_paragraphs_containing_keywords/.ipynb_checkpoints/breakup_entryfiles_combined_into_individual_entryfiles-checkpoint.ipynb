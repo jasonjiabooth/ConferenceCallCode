{
 "cells": [
  {
   "cell_type": "code",
   "execution_count": 1,
   "id": "c0a2bbad",
   "metadata": {},
   "outputs": [],
   "source": [
    "import openpyxl\n",
    "import xlsxwriter\n",
    "import os, sys, glob, re\n",
    "from pathlib import Path\n",
    "import pandas as pd"
   ]
  },
  {
   "cell_type": "code",
   "execution_count": 2,
   "id": "930a6b71",
   "metadata": {},
   "outputs": [],
   "source": [
    "entryfiles_combined_filepath = Path(r\"C:\\Users\\jasonjia\\Dropbox\\Projects\\conference_call\\output\\04_match_firm_names_to_gvkeys\\04.5_firm_names_matched\\20210101-20220617\\entryfilescombined_with_gvkeycountry_20210101-20220617.xlsx\")\n",
    "indv_entryfile_outputfolder = Path(r\"C:\\Users\\jasonjia\\Dropbox\\Projects\\conference_call\\output\\05_breakup_entryfiles_combined_into_individual_entryfiles\\20210101-20220617\")\n",
    "paragraph_record_output_filepath = Path(r\"C:\\Users\\jasonjia\\Dropbox\\Projects\\conference_call\\output\\05_breakup_entryfiles_combined_into_individual_entryfiles\\20210101-20220617\\entryfiles_paragraph_record.xlsx\")\n",
    "template_filepath = Path(r\"C:\\Users\\jasonjia\\Dropbox\\Projects\\conference_call\\code\\05_breakup_entryfiles_combined_into_individual_entryfiles\\reference_files\\entryfile_template.xlsx\")\n",
    "keywords_filepath = Path(r\"C:\\Users\\jasonjia\\Dropbox\\Projects\\conference_call\\code\\03_identify_paragraphs_containing_keywords\\reference_files\\keywords.txt\")"
   ]
  },
  {
   "cell_type": "markdown",
   "id": "ef678fcc",
   "metadata": {},
   "source": [
    "# Import files"
   ]
  },
  {
   "cell_type": "code",
   "execution_count": 3,
   "id": "bf6e24fe",
   "metadata": {},
   "outputs": [],
   "source": [
    "# Choose first sheet of the workbook (there's only one sheet but we want a sheet object)\n",
    "# Import entryfiles_combined\n",
    "entryfiles_combined = openpyxl.load_workbook(entryfiles_combined_filepath)\n",
    "entryfiles_combined = entryfiles_combined[entryfiles_combined.sheetnames[0]] "
   ]
  },
  {
   "cell_type": "code",
   "execution_count": 4,
   "id": "eda66a91",
   "metadata": {},
   "outputs": [],
   "source": [
    "# Import template (for the headers)\n",
    "template = openpyxl.load_workbook(template_filepath)\n",
    "template = template[template.sheetnames[0]]"
   ]
  },
  {
   "cell_type": "code",
   "execution_count": 5,
   "id": "8b672b44",
   "metadata": {},
   "outputs": [],
   "source": [
    "# Import keywords\n",
    "keywords = pd.read_csv(keywords_filepath, sep = \"\\t\", header = None)\n",
    "keyword_list = list(keywords[0].str.lower())"
   ]
  },
  {
   "cell_type": "markdown",
   "id": "acecb6ec",
   "metadata": {},
   "source": [
    "# Create paragraph record"
   ]
  },
  {
   "cell_type": "code",
   "execution_count": 6,
   "id": "d43f70c8",
   "metadata": {},
   "outputs": [],
   "source": [
    "def create_paragraph_record(number_of_paragraphs):\n",
    "    div, mod = divmod(number_of_paragraphs, 500)\n",
    "    df = pd.DataFrame(columns = ['File Name', 'Starting Row', 'Ending Row', 'Name of RA'])\n",
    "\n",
    "    # Col 1: create list of 1 to div or div-1 (number of individual entry files)\n",
    "    # Col 2: create list of 1, 501, ... (starting paragraph number for each entry file)\n",
    "    # Col 3: create list of 500, 1000, ... (ending paragraph number for each entry file)\n",
    "    # Col 4: empty col\n",
    "    \n",
    "    # Number of paragraphs = e.g. 1, 59, 1424, ...\n",
    "    if mod > 0:\n",
    "        list1 = [x + 1 for x in range(div+1)]\n",
    "        list2 = [500 * x + 1 for x in range(div+1)]\n",
    "        list3 = [500 * (x + 1) for x in range(div+1)]\n",
    "        \n",
    "        # Adjust last entry for col 3 (ending paragraph number for last entry file)\n",
    "        if number_of_paragraphs > 500:\n",
    "            list3[-1] = list3[-2] + mod\n",
    "        else:\n",
    "            list3[-1] = mod\n",
    "    \n",
    "    # Number of paragraphs = e.g. 0, 500, 1000, ...\n",
    "    else:\n",
    "        list1 = [x + 1 for x in range(div)]\n",
    "        list2 = [500 * x + 1 for x in range(div)]\n",
    "        list3 = [500 * (x + 1) for x in range(div)]\n",
    "    \n",
    "    df['File Name'] = list1\n",
    "    df['Starting Row'] = list2\n",
    "    df['Ending Row'] = list3\n",
    "    df['Name of RA'] = \"\"\n",
    "\n",
    "    return df"
   ]
  },
  {
   "cell_type": "code",
   "execution_count": 7,
   "id": "cadf07da",
   "metadata": {},
   "outputs": [
    {
     "name": "stdout",
     "output_type": "stream",
     "text": [
      "Saved paragraph record to: C:\\Users\\jasonjia\\Dropbox\\Projects\\conference_call\\output\\05_breakup_entryfiles_combined_into_individual_entryfiles\\20210101-20220617\\entryfiles_paragraph_record.xlsx\n"
     ]
    }
   ],
   "source": [
    "# Create paragraph record\n",
    "number_of_paragraphs = entryfiles_combined.max_row - 1\n",
    "paragraph_record = create_paragraph_record(number_of_paragraphs)\n",
    "\n",
    "# Save paragraph record\n",
    "paragraph_record.to_excel(paragraph_record_output_filepath, index=False)\n",
    "print(\"Saved paragraph record to:\", paragraph_record_output_filepath)"
   ]
  },
  {
   "cell_type": "markdown",
   "id": "a803aceb",
   "metadata": {},
   "source": [
    "# Hard-coded variables"
   ]
  },
  {
   "cell_type": "code",
   "execution_count": 8,
   "id": "2414ea66",
   "metadata": {},
   "outputs": [],
   "source": [
    "# Dictionary maps column in entryfiles_combined (key) to corresponding col in entryfile_template (value).\n",
    "# Columns in entryfiles_combined: \n",
    "# 0 = Keyword, 1 = Paragraph, 2 = Date, 3 = Title, 4 = Subtitle, 5 = Report, 6 = gvkey, 7 = hqcountry\n",
    "combined_to_template_col_dict = {0:2, 1:5, 2:6, 3:8, 4:9, 5:44, 6:7, 7:45} \n",
    "\n",
    "# Row heights for each row, based on entryfiles_template\n",
    "row_height = 15\n",
    "\n",
    "# Column widths for each column, based on entryfiles_template\n",
    "col_width = [13.29, 14.43, 30.43,  8.29,  8.29, 84.29, 13.57, 13.71, 61.57,    35,\n",
    "             12.29, 11.43, 11.43, 13.43, 13.29, 10.71, 11.86, 10.86, 12.86, 18.29, \n",
    "                34, 15.71, 19.71, 14.29, 22.14, 17.29, 29.14, 10.14,  8.29,  8.29,\n",
    "              9.71,  8.29,  8.86, 16.71, 15.86, 21.86, 17.29, 21.57,    20,    17, \n",
    "             24.86,    21,  9.29,    10, 14.57,    19] "
   ]
  },
  {
   "cell_type": "markdown",
   "id": "0b1e9ef1",
   "metadata": {},
   "source": [
    "# Functions"
   ]
  },
  {
   "cell_type": "code",
   "execution_count": 9,
   "id": "4d665ce2",
   "metadata": {},
   "outputs": [],
   "source": [
    "def add_formats(indv_entryfile):\n",
    "    # Add the bold format\n",
    "    bold_format = indv_entryfile.add_format({\"bold\": True, \"align\": \"center\", \"valign\": \"center\"})\n",
    "\n",
    "    # Add the default cell format\n",
    "    cell_format = indv_entryfile.add_format()\n",
    "    cell_format.set_align('center') # horizontal center\n",
    "    cell_format.set_align('vcenter') # vertical center\n",
    "    cell_format.set_text_wrap()\n",
    "    \n",
    "    return bold_format, cell_format"
   ]
  },
  {
   "cell_type": "code",
   "execution_count": 10,
   "id": "f70e06e0",
   "metadata": {},
   "outputs": [],
   "source": [
    "def set_formats_for_rows_and_columns(worksheet, row_height, col_width, cell_format):\n",
    "    # Set row height and format for rows\n",
    "    for i in range(2, 502):\n",
    "        worksheet.set_row(i, row_height, cell_format)\n",
    "    # Set column width and cell format for columns\n",
    "    for i in range(46):\n",
    "        worksheet.set_column(i, i, col_width[i], cell_format)"
   ]
  },
  {
   "cell_type": "code",
   "execution_count": 11,
   "id": "a33d72e0",
   "metadata": {},
   "outputs": [],
   "source": [
    "def modify_paragraph_by_bolding_one_keyword(para_with_keywords_bolded, keyword, bold_format):\n",
    "    para_with_keywords_bolded_new = []\n",
    "    \n",
    "    for chunk in para_with_keywords_bolded:\n",
    "        # Normal string\n",
    "        try:\n",
    "            len(chunk)\n",
    "            # Split chunk by keyword\n",
    "            # The output will be a list of strings, where keywords are either removed, \n",
    "            # or converted to \"\" (if they start or end the paragraph). \n",
    "            # E.g. \"The hurdle rate is 7%.\" -> ['The ', ' is 7%.']\n",
    "            # E.g. \"Hurdle rate is 7%.\" -> ['', ' is 7%.']\n",
    "            # E.g. \"The hurdle rate\" -> ['The ', '']\n",
    "            # E.g. \"Hurdle rate\" -> ['', '']\n",
    "            chunk_splitted = re.split(keyword, chunk, flags=re.I)\n",
    "            \n",
    "            for index, string in enumerate(chunk_splitted):\n",
    "                # Keyword appears at start or end of para_splitted\n",
    "                if string == '':\n",
    "                    para_with_keywords_bolded_new.append(bold_format)\n",
    "                    para_with_keywords_bolded_new.append(keyword)\n",
    "                # Keyword appears between 2 strings\n",
    "                else:\n",
    "                    para_with_keywords_bolded_new.append(string)\n",
    "                    # Keyword can only appear before the last string,\n",
    "                    # and keyword can't appear after the 2nd last string if the last string is ''.\n",
    "                    if index < len(chunk_splitted) - 2 or (index == len(chunk_splitted) - 2 and chunk_splitted[-1] != ''):\n",
    "                        para_with_keywords_bolded_new.append(bold_format)\n",
    "                        para_with_keywords_bolded_new.append(keyword)                     \n",
    "        # Bold format\n",
    "        except:\n",
    "            para_with_keywords_bolded_new.append(chunk)   \n",
    "\n",
    "    return para_with_keywords_bolded_new"
   ]
  },
  {
   "cell_type": "code",
   "execution_count": 12,
   "id": "96bbe942",
   "metadata": {},
   "outputs": [],
   "source": [
    "def get_paragraph_with_keywords_bolded(para, keyword_list, bold_format):\n",
    "    para_with_keywords_bolded = [para]\n",
    "    for keyword in keyword_list:\n",
    "        para_with_keywords_bolded = modify_paragraph_by_bolding_one_keyword(para_with_keywords_bolded, keyword, bold_format)\n",
    "    return para_with_keywords_bolded"
   ]
  },
  {
   "cell_type": "markdown",
   "id": "a914bf11",
   "metadata": {},
   "source": [
    "# Main loop"
   ]
  },
  {
   "cell_type": "code",
   "execution_count": 13,
   "id": "ae870ebf",
   "metadata": {
    "scrolled": true
   },
   "outputs": [
    {
     "name": "stdout",
     "output_type": "stream",
     "text": [
      "Entry file: 1.xlsx\n",
      "Entry file: 2.xlsx\n",
      "Entry file: 3.xlsx\n",
      "Entry file: 4.xlsx\n",
      "Entry file: 5.xlsx\n",
      "Entry file: 6.xlsx\n",
      "Entry file: 7.xlsx\n",
      "Entry file: 8.xlsx\n",
      "Entry file: 9.xlsx\n",
      "Entry file: 10.xlsx\n",
      "Entry file: 11.xlsx\n",
      "Entry file: 12.xlsx\n",
      "Entry file: 13.xlsx\n",
      "Entry file: 14.xlsx\n",
      "---\n",
      "Done!\n"
     ]
    }
   ],
   "source": [
    "# Format: worksheet.write(row, col, value)\n",
    "# For all paragraphs in entryfiles_combined (rows 2 to entryfiles_combined.max_row)\n",
    "# So row goes from 1 to entryfiles_combined.max_row-1.\n",
    "for row in range(1, entryfiles_combined.max_row):\n",
    "    # For the 1st row of every individual entry file (1, 501, ...) \n",
    "    if row % 500 == 1:\n",
    "        # Create new individual entry file - workbook and worksheet\n",
    "        indv_entryfile_filename = str(row // 500 + 1) + \".xlsx\"\n",
    "        print(\"Entry file:\", indv_entryfile_filename)\n",
    "        indv_entryfile_filepath = Path(indv_entryfile_outputfolder / indv_entryfile_filename)\n",
    "        indv_entryfile = xlsxwriter.Workbook(indv_entryfile_filepath)\n",
    "        worksheet = indv_entryfile.add_worksheet()\n",
    "        \n",
    "        # Set formats for rows and columns\n",
    "        bold_format, cell_format = add_formats(indv_entryfile)\n",
    "        set_formats_for_rows_and_columns(worksheet, row_height, col_width, cell_format)\n",
    "         \n",
    "        # Write out the header rows (the first 2 rows)\n",
    "        for row_header in range(2):\n",
    "            for col_header in range(template.max_column):\n",
    "                worksheet.write(row_header, col_header, template.cell(row_header+1, col_header+1).value, bold_format) \n",
    "\n",
    "    # Get keyword and paragraph\n",
    "    keyword = entryfiles_combined.cell(row+1, 0+1).value\n",
    "    para = entryfiles_combined.cell(row+1, 1+1).value\n",
    "    \n",
    "    # Get paragraph with keywords bolded\n",
    "    para_with_keywords_bolded = get_paragraph_with_keywords_bolded(para, keyword_list, bold_format)\n",
    "    \n",
    "    # Write out the row corresponding to the paragraph\n",
    "    # Write out all relevant columns of entryfile, except paragraph and paragraph number\n",
    "    row_indv_entryfile = (row-1) % 500 + 2\n",
    "    for col in combined_to_template_col_dict.keys():\n",
    "        worksheet.write(row_indv_entryfile, combined_to_template_col_dict[col], entryfiles_combined.cell(row+1, col+1).value)\n",
    "    # Write out paragraph with keyword bolded\n",
    "    worksheet.write_rich_string(row_indv_entryfile, 5, *para_with_keywords_bolded)\n",
    "    # Write out paragraph number\n",
    "    worksheet.write(row_indv_entryfile, 1, row)\n",
    "    \n",
    "    # Close the entry file (1-500, 501-1000, ..., <..>-max_row)\n",
    "    if row % 500 == 0 or row == entryfiles_combined.max_row - 1:\n",
    "        indv_entryfile.close()\n",
    "\n",
    "print(\"---\")\n",
    "print(\"Done!\")"
   ]
  },
  {
   "cell_type": "code",
   "execution_count": null,
   "id": "568710b5",
   "metadata": {},
   "outputs": [],
   "source": []
  }
 ],
 "metadata": {
  "kernelspec": {
   "display_name": "Python 3 (ipykernel)",
   "language": "python",
   "name": "python3"
  },
  "language_info": {
   "codemirror_mode": {
    "name": "ipython",
    "version": 3
   },
   "file_extension": ".py",
   "mimetype": "text/x-python",
   "name": "python",
   "nbconvert_exporter": "python",
   "pygments_lexer": "ipython3",
   "version": "3.9.7"
  }
 },
 "nbformat": 4,
 "nbformat_minor": 5
}
