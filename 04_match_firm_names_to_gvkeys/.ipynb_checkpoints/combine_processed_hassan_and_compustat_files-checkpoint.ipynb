{
 "cells": [
  {
   "cell_type": "code",
   "execution_count": 1,
   "id": "3ea4bf66",
   "metadata": {},
   "outputs": [],
   "source": [
    "from pathlib import Path\n",
    "import pandas as pd\n",
    "import re, sys\n",
    "import string"
   ]
  },
  {
   "cell_type": "code",
   "execution_count": 2,
   "id": "8bbc402c",
   "metadata": {},
   "outputs": [],
   "source": [
    "hassan_filepath = Path(r\"C:\\Users\\jasonjia\\Dropbox\\Projects\\conference_call\\output\\04_match_firm_names_to_gvkeys\\04.1_process_compustat_and_hassan_files\\hassan_processed\\20220331\\hassan_processed.csv\")\n",
    "compustat_filepath= Path(r\"C:\\Users\\jasonjia\\Dropbox\\Projects\\conference_call\\output\\04_match_firm_names_to_gvkeys\\04.1_process_compustat_and_hassan_files\\compustat_processed\\20220705\\ciqcompany_mergedwithgvkeyandcountry.csv\")\n",
    "outputfilepath = Path(r\"C:\\Users\\jasonjia\\Dropbox\\Projects\\conference_call\\output\\04_match_firm_names_to_gvkeys\\04.1_process_compustat_and_hassan_files\\compustat_and_hassan_firm_names_withgvkeyandcountry\\20220705\\compustat_and_hassan_firm_names_withgvkeyandcountry.csv\")"
   ]
  },
  {
   "cell_type": "code",
   "execution_count": 3,
   "id": "7d6e908b",
   "metadata": {},
   "outputs": [],
   "source": [
    "# Import df\n",
    "hassan = pd.read_csv(hassan_filepath)\n",
    "compustat = pd.read_csv(compustat_filepath)"
   ]
  },
  {
   "cell_type": "code",
   "execution_count": 4,
   "id": "e23bea99",
   "metadata": {},
   "outputs": [
    {
     "name": "stdout",
     "output_type": "stream",
     "text": [
      "Size of processed Hassan df: (13710, 3)\n",
      "Size of processed Compustat df: (119662, 3)\n",
      "Size of combined df: (133372, 3)\n"
     ]
    }
   ],
   "source": [
    "# Combine dfs\n",
    "df = pd.concat([hassan, compustat])\n",
    "\n",
    "print(\"Size of processed Hassan df:\", hassan.shape)\n",
    "print(\"Size of processed Compustat df:\", compustat.shape)\n",
    "print(\"Size of combined df:\", df.shape)"
   ]
  },
  {
   "cell_type": "code",
   "execution_count": 5,
   "id": "d3188f80",
   "metadata": {},
   "outputs": [
    {
     "name": "stdout",
     "output_type": "stream",
     "text": [
      "Counting rows of df:\n",
      "Number of rows: 133372\n",
      "Number of unique company names: 132228\n",
      "\n",
      "Removed rows with duplicate company names, recounting rows of df:\n",
      "Number of rows: 132228\n",
      "Number of unique company names: 132228\n"
     ]
    }
   ],
   "source": [
    "# Check if there are rows with duplicate company names (last run: about 1000 rows)\n",
    "print(\"Counting rows of df:\")\n",
    "print(\"Number of rows:\", df.shape[0])\n",
    "print(\"Number of unique company names:\", df['company_name'].nunique())\n",
    "\n",
    "# Remove rows with duplicate company names\n",
    "df = df.drop_duplicates('company_name')\n",
    "print(\"\\nRemoved rows with duplicate company names, recounting rows of df:\")\n",
    "print(\"Number of rows:\", df.shape[0])\n",
    "print(\"Number of unique company names:\", df['company_name'].nunique())"
   ]
  },
  {
   "cell_type": "code",
   "execution_count": 6,
   "id": "e32f431f",
   "metadata": {},
   "outputs": [],
   "source": [
    "def get_clean_firm_name(title):\n",
    "    # Convert to upper case\n",
    "    clean_firm_name = title.upper()\n",
    "    \n",
    "    # Use the same abbreviated firm suffix (e.g. incorporated to inc, corporation to corp, limited to ltd)\n",
    "    clean_firm_name = re.sub('INCORPORATED', 'INC', clean_firm_name)\n",
    "    clean_firm_name = re.sub('CORPORATION', 'CORP', clean_firm_name)\n",
    "    clean_firm_name = re.sub('LIMITED', 'LTD', clean_firm_name)\n",
    "    clean_firm_name = re.sub('COMPANY', 'CO', clean_firm_name)\n",
    "    clean_firm_name = re.sub('AKTIENGESELLSCHAFT', 'AG', clean_firm_name)\n",
    "    clean_firm_name = re.sub('INTERNATIONAL', 'INTL', clean_firm_name)\n",
    "    \n",
    "    # We want to convert titles like:\n",
    "    # \"- EVENT TRANSCRIPT OF ADELAIDE CAPITAL MARKETS CONFERENCE CALL\" to \"ADELAIDE CAPITAL MARKETS\", and\n",
    "    # \"- EVENT TRANSCRIPT OF CAIXA GERAL DE DEPOSITOS SA CONFERENCE C\" to \"CAIXA GERAL DE DEPOSITOS SA\"\n",
    "    \n",
    "    # Remove everything before \"EVENT TRANSCRIPT OF\" \n",
    "    clean_firm_name = re.sub('^.+EVENT TRANSCRIPT OF ', '', clean_firm_name)\n",
    "    \n",
    "    # Remove everything after \"CONFERENCE\"\n",
    "    clean_firm_name = re.sub(' CONFERENCE.+$', '', clean_firm_name)\n",
    "    \n",
    "    # Remove punctuation\n",
    "    clean_firm_name = clean_firm_name.translate(str.maketrans('', '', string.punctuation))\n",
    "\n",
    "    # Remove extra spaces\n",
    "    clean_firm_name = clean_firm_name.strip()\n",
    "    clean_firm_name = re.sub(' +', ' ', clean_firm_name)\n",
    "    \n",
    "    return clean_firm_name"
   ]
  },
  {
   "cell_type": "code",
   "execution_count": 7,
   "id": "ed5eca6b",
   "metadata": {},
   "outputs": [
    {
     "data": {
      "text/html": [
       "<div>\n",
       "<style scoped>\n",
       "    .dataframe tbody tr th:only-of-type {\n",
       "        vertical-align: middle;\n",
       "    }\n",
       "\n",
       "    .dataframe tbody tr th {\n",
       "        vertical-align: top;\n",
       "    }\n",
       "\n",
       "    .dataframe thead th {\n",
       "        text-align: right;\n",
       "    }\n",
       "</style>\n",
       "<table border=\"1\" class=\"dataframe\">\n",
       "  <thead>\n",
       "    <tr style=\"text-align: right;\">\n",
       "      <th></th>\n",
       "      <th>gvkey</th>\n",
       "      <th>company_name</th>\n",
       "      <th>hqcountry</th>\n",
       "      <th>clean_firm_name</th>\n",
       "    </tr>\n",
       "  </thead>\n",
       "  <tbody>\n",
       "    <tr>\n",
       "      <th>88163</th>\n",
       "      <td>1000.0</td>\n",
       "      <td>A &amp; E Plastik Pak Inc.</td>\n",
       "      <td>US</td>\n",
       "      <td>A E PLASTIK PAK INC</td>\n",
       "    </tr>\n",
       "    <tr>\n",
       "      <th>88568</th>\n",
       "      <td>1001.0</td>\n",
       "      <td>A &amp; M Food Services Inc.</td>\n",
       "      <td>US</td>\n",
       "      <td>A M FOOD SERVICES INC</td>\n",
       "    </tr>\n",
       "    <tr>\n",
       "      <th>28053</th>\n",
       "      <td>1002.0</td>\n",
       "      <td>AAI Corporation</td>\n",
       "      <td>US</td>\n",
       "      <td>AAI CORP</td>\n",
       "    </tr>\n",
       "    <tr>\n",
       "      <th>29449</th>\n",
       "      <td>1003.0</td>\n",
       "      <td>A.A. Importing Company, Inc.</td>\n",
       "      <td>US</td>\n",
       "      <td>AA IMPORTING CO INC</td>\n",
       "    </tr>\n",
       "    <tr>\n",
       "      <th>5151</th>\n",
       "      <td>1004.0</td>\n",
       "      <td>AAR Corp.</td>\n",
       "      <td>US</td>\n",
       "      <td>AAR CORP</td>\n",
       "    </tr>\n",
       "    <tr>\n",
       "      <th>...</th>\n",
       "      <td>...</td>\n",
       "      <td>...</td>\n",
       "      <td>...</td>\n",
       "      <td>...</td>\n",
       "    </tr>\n",
       "    <tr>\n",
       "      <th>119639</th>\n",
       "      <td>353451.0</td>\n",
       "      <td>VistaREIT Inc</td>\n",
       "      <td>PH</td>\n",
       "      <td>VISTAREIT INC</td>\n",
       "    </tr>\n",
       "    <tr>\n",
       "      <th>116343</th>\n",
       "      <td>353452.0</td>\n",
       "      <td>HigHPoint Service Network Corp.</td>\n",
       "      <td>TW</td>\n",
       "      <td>HIGHPOINT SERVICE NETWORK CORP</td>\n",
       "    </tr>\n",
       "    <tr>\n",
       "      <th>119661</th>\n",
       "      <td>353453.0</td>\n",
       "      <td>Tianhong Asset Management Co. Ltd. - CSI Star ...</td>\n",
       "      <td>CN</td>\n",
       "      <td>TIANHONG ASSET MANAGEMENT CO LTD CSI STAR AND ...</td>\n",
       "    </tr>\n",
       "    <tr>\n",
       "      <th>109816</th>\n",
       "      <td>353454.0</td>\n",
       "      <td>Golden Rock Global Plc</td>\n",
       "      <td>HK</td>\n",
       "      <td>GOLDEN ROCK GLOBAL PLC</td>\n",
       "    </tr>\n",
       "    <tr>\n",
       "      <th>116123</th>\n",
       "      <td>353455.0</td>\n",
       "      <td>Dsw Capital Limited</td>\n",
       "      <td>GB</td>\n",
       "      <td>DSW CAPITAL LTD</td>\n",
       "    </tr>\n",
       "  </tbody>\n",
       "</table>\n",
       "<p>132228 rows × 4 columns</p>\n",
       "</div>"
      ],
      "text/plain": [
       "           gvkey                                       company_name hqcountry  \\\n",
       "88163     1000.0                             A & E Plastik Pak Inc.        US   \n",
       "88568     1001.0                           A & M Food Services Inc.        US   \n",
       "28053     1002.0                                    AAI Corporation        US   \n",
       "29449     1003.0                       A.A. Importing Company, Inc.        US   \n",
       "5151      1004.0                                          AAR Corp.        US   \n",
       "...          ...                                                ...       ...   \n",
       "119639  353451.0                                      VistaREIT Inc        PH   \n",
       "116343  353452.0                    HigHPoint Service Network Corp.        TW   \n",
       "119661  353453.0  Tianhong Asset Management Co. Ltd. - CSI Star ...        CN   \n",
       "109816  353454.0                             Golden Rock Global Plc        HK   \n",
       "116123  353455.0                                Dsw Capital Limited        GB   \n",
       "\n",
       "                                          clean_firm_name  \n",
       "88163                                 A E PLASTIK PAK INC  \n",
       "88568                               A M FOOD SERVICES INC  \n",
       "28053                                            AAI CORP  \n",
       "29449                                 AA IMPORTING CO INC  \n",
       "5151                                             AAR CORP  \n",
       "...                                                   ...  \n",
       "119639                                      VISTAREIT INC  \n",
       "116343                     HIGHPOINT SERVICE NETWORK CORP  \n",
       "119661  TIANHONG ASSET MANAGEMENT CO LTD CSI STAR AND ...  \n",
       "109816                             GOLDEN ROCK GLOBAL PLC  \n",
       "116123                                    DSW CAPITAL LTD  \n",
       "\n",
       "[132228 rows x 4 columns]"
      ]
     },
     "execution_count": 7,
     "metadata": {},
     "output_type": "execute_result"
    }
   ],
   "source": [
    "# Clean firm names with the same function used to clean firm names for conference calls, in entryfilescombined.\n",
    "df['clean_firm_name'] = df['company_name'].apply(get_clean_firm_name)\n",
    "df = df.sort_values(by='gvkey')\n",
    "df"
   ]
  },
  {
   "cell_type": "code",
   "execution_count": 8,
   "id": "ff230e8a",
   "metadata": {},
   "outputs": [
    {
     "name": "stdout",
     "output_type": "stream",
     "text": [
      "Counting rows of df:\n",
      "Number of rows: 132228\n",
      "Number of unique clean firm names: 121898\n",
      "Number of unique company names: 132228\n",
      "Number of unique gvkeys: 115035\n",
      "\n",
      "Removed rows with duplicate clean firm names, recounting rows of df:\n",
      "Number of rows: 121898\n",
      "Number of unique clean firm names: 121898\n",
      "Number of unique company names: 121898\n",
      "Number of unique gvkeys: 114686\n"
     ]
    }
   ],
   "source": [
    "# Check if there are rows with duplicate clean firm names (last run: about 10k duplicate rows)\n",
    "print(\"Counting rows of df:\")\n",
    "print(\"Number of rows:\", df.shape[0])\n",
    "print(\"Number of unique clean firm names:\", df['clean_firm_name'].nunique())\n",
    "print(\"Number of unique company names:\", df['company_name'].nunique())\n",
    "print(\"Number of unique gvkeys:\", df['gvkey'].nunique())\n",
    "\n",
    "# Remove rows with duplicate clean firm names\n",
    "df = df.drop_duplicates('clean_firm_name')\n",
    "print(\"\\nRemoved rows with duplicate clean firm names, recounting rows of df:\")\n",
    "print(\"Number of rows:\", df.shape[0])\n",
    "print(\"Number of unique clean firm names:\", df['clean_firm_name'].nunique())\n",
    "print(\"Number of unique company names:\", df['company_name'].nunique())\n",
    "print(\"Number of unique gvkeys:\", df['gvkey'].nunique())"
   ]
  },
  {
   "cell_type": "code",
   "execution_count": 9,
   "id": "0733bbee",
   "metadata": {},
   "outputs": [
    {
     "name": "stdout",
     "output_type": "stream",
     "text": [
      "This combined df will be the set of Compustat and Hassan firm names with gvkeys.\n",
      "This file will be used to match against firm names for conference calls, in entryfilescombined.\n",
      "df saved to: C:\\Users\\jasonjia\\Dropbox\\Projects\\conference_call\\output\\04_match_firm_names_to_gvkeys\\04.1_process_compustat_and_hassan_files\\compustat_and_hassan_firm_names_withgvkeyandcountry\\20220705\\compustat_and_hassan_firm_names_withgvkeyandcountry.csv\n"
     ]
    }
   ],
   "source": [
    "# Save df as .csv\n",
    "print(\"This combined df will be the set of Compustat and Hassan firm names with gvkeys.\")\n",
    "print(\"This file will be used to match against firm names for conference calls, in entryfilescombined.\")\n",
    "df.to_csv(outputfilepath, index=False)\n",
    "print(\"df saved to:\", outputfilepath)"
   ]
  },
  {
   "cell_type": "code",
   "execution_count": null,
   "id": "c5ce9291",
   "metadata": {},
   "outputs": [],
   "source": []
  }
 ],
 "metadata": {
  "kernelspec": {
   "display_name": "Python 3 (ipykernel)",
   "language": "python",
   "name": "python3"
  },
  "language_info": {
   "codemirror_mode": {
    "name": "ipython",
    "version": 3
   },
   "file_extension": ".py",
   "mimetype": "text/x-python",
   "name": "python",
   "nbconvert_exporter": "python",
   "pygments_lexer": "ipython3",
   "version": "3.9.7"
  }
 },
 "nbformat": 4,
 "nbformat_minor": 5
}
