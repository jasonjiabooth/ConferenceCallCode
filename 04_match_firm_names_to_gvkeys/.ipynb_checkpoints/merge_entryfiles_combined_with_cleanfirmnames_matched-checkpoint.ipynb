{
 "cells": [
  {
   "cell_type": "code",
   "execution_count": 1,
   "id": "14ac807e",
   "metadata": {},
   "outputs": [],
   "source": [
    "# Import Packages\n",
    "import pandas as pd, numpy as np\n",
    "import os, sys, glob, re\n",
    "from pathlib import Path\n",
    "from itertools import compress"
   ]
  },
  {
   "cell_type": "code",
   "execution_count": 2,
   "id": "f7f5d6a2",
   "metadata": {},
   "outputs": [],
   "source": [
    "entryfilescombined_filepath = Path(r\"C:\\Users\\jasonjia\\Dropbox\\Projects\\conference_call\\output\\04_match_firm_names_to_gvkeys\\04.2_firm_names_to_match\\20210101-20220617\\entryfilescombined_with_cleanfirmnames_20210101-20220617.xlsx\")\n",
    "cleanfirmnamesmatched_filepath = Path(r\"C:\\Users\\jasonjia\\Dropbox\\Projects\\conference_call\\output\\04_match_firm_names_to_gvkeys\\04.5_firm_names_matched\\20210101-20220617\\cleanfirmnames_matched_20210101-20220617.csv\")\n",
    "entryfilescombined_with_cleanfirmnames_matched_filepath = Path(r\"C:\\Users\\jasonjia\\Dropbox\\Projects\\conference_call\\output\\04_match_firm_names_to_gvkeys\\04.5_firm_names_matched\\20210101-20220617\\entryfilescombined_with_cleanfirmnames_matched_20210101-20220617.xlsx\")\n",
    "entryfilescombined_with_gvkeycountry_filepath = Path(r\"C:\\Users\\jasonjia\\Dropbox\\Projects\\conference_call\\output\\04_match_firm_names_to_gvkeys\\04.5_firm_names_matched\\20210101-20220617\\entryfilescombined_with_gvkeycountry_20210101-20220617.xlsx\")"
   ]
  },
  {
   "cell_type": "code",
   "execution_count": 3,
   "id": "c5e418c5",
   "metadata": {},
   "outputs": [],
   "source": [
    "# Import files\n",
    "entryfilescombined = pd.read_excel(entryfilescombined_filepath)\n",
    "cleanfirmnamesmatched = pd.read_csv(cleanfirmnamesmatched_filepath)\n",
    "entryfilescombined = entryfilescombined.rename(columns = {'clean_firm_name': 'clean_firm_name_entryfile'})"
   ]
  },
  {
   "cell_type": "code",
   "execution_count": 4,
   "id": "6ed02792",
   "metadata": {},
   "outputs": [
    {
     "data": {
      "text/html": [
       "<div>\n",
       "<style scoped>\n",
       "    .dataframe tbody tr th:only-of-type {\n",
       "        vertical-align: middle;\n",
       "    }\n",
       "\n",
       "    .dataframe tbody tr th {\n",
       "        vertical-align: top;\n",
       "    }\n",
       "\n",
       "    .dataframe thead th {\n",
       "        text-align: right;\n",
       "    }\n",
       "</style>\n",
       "<table border=\"1\" class=\"dataframe\">\n",
       "  <thead>\n",
       "    <tr style=\"text-align: right;\">\n",
       "      <th></th>\n",
       "      <th>Keyword</th>\n",
       "      <th>Paragraph</th>\n",
       "      <th>Date</th>\n",
       "      <th>Title</th>\n",
       "      <th>Subtitle</th>\n",
       "      <th>Report</th>\n",
       "      <th>clean_firm_name_entryfile</th>\n",
       "    </tr>\n",
       "  </thead>\n",
       "  <tbody>\n",
       "    <tr>\n",
       "      <th>0</th>\n",
       "      <td>IRR</td>\n",
       "      <td>Ultimately, with that, I'd probably go to a sl...</td>\n",
       "      <td>2021-09-22</td>\n",
       "      <td>- EVENT TRANSCRIPT OF ADELAIDE CAPITAL MARKETS...</td>\n",
       "      <td>- Event Transcript of Adelaide Capital Markets...</td>\n",
       "      <td>73024325</td>\n",
       "      <td>ADELAIDE CAPITAL MARKETS</td>\n",
       "    </tr>\n",
       "  </tbody>\n",
       "</table>\n",
       "</div>"
      ],
      "text/plain": [
       "  Keyword                                          Paragraph        Date  \\\n",
       "0     IRR  Ultimately, with that, I'd probably go to a sl...  2021-09-22   \n",
       "\n",
       "                                               Title  \\\n",
       "0  - EVENT TRANSCRIPT OF ADELAIDE CAPITAL MARKETS...   \n",
       "\n",
       "                                            Subtitle    Report  \\\n",
       "0  - Event Transcript of Adelaide Capital Markets...  73024325   \n",
       "\n",
       "  clean_firm_name_entryfile  \n",
       "0  ADELAIDE CAPITAL MARKETS  "
      ]
     },
     "execution_count": 4,
     "metadata": {},
     "output_type": "execute_result"
    }
   ],
   "source": [
    "entryfilescombined.head(1)"
   ]
  },
  {
   "cell_type": "code",
   "execution_count": 5,
   "id": "6b904cf2",
   "metadata": {},
   "outputs": [
    {
     "data": {
      "text/html": [
       "<div>\n",
       "<style scoped>\n",
       "    .dataframe tbody tr th:only-of-type {\n",
       "        vertical-align: middle;\n",
       "    }\n",
       "\n",
       "    .dataframe tbody tr th {\n",
       "        vertical-align: top;\n",
       "    }\n",
       "\n",
       "    .dataframe thead th {\n",
       "        text-align: right;\n",
       "    }\n",
       "</style>\n",
       "<table border=\"1\" class=\"dataframe\">\n",
       "  <thead>\n",
       "    <tr style=\"text-align: right;\">\n",
       "      <th></th>\n",
       "      <th>clean_firm_name_entryfile</th>\n",
       "      <th>clean_firm_name_compustathassan</th>\n",
       "      <th>gvkey</th>\n",
       "      <th>company_name</th>\n",
       "      <th>hqcountry</th>\n",
       "      <th>count_entryfile</th>\n",
       "      <th>exact_match</th>\n",
       "    </tr>\n",
       "  </thead>\n",
       "  <tbody>\n",
       "    <tr>\n",
       "      <th>0</th>\n",
       "      <td>CAMDEN PROPERTY TRUST</td>\n",
       "      <td>CAMDEN PROPERTY TRUST</td>\n",
       "      <td>28629.0</td>\n",
       "      <td>Camden Property Trust</td>\n",
       "      <td>US</td>\n",
       "      <td>41</td>\n",
       "      <td>1</td>\n",
       "    </tr>\n",
       "  </tbody>\n",
       "</table>\n",
       "</div>"
      ],
      "text/plain": [
       "  clean_firm_name_entryfile clean_firm_name_compustathassan    gvkey  \\\n",
       "0     CAMDEN PROPERTY TRUST           CAMDEN PROPERTY TRUST  28629.0   \n",
       "\n",
       "            company_name hqcountry  count_entryfile  exact_match  \n",
       "0  Camden Property Trust        US               41            1  "
      ]
     },
     "execution_count": 5,
     "metadata": {},
     "output_type": "execute_result"
    }
   ],
   "source": [
    "cleanfirmnamesmatched.head(1)"
   ]
  },
  {
   "cell_type": "code",
   "execution_count": 6,
   "id": "93aca577",
   "metadata": {},
   "outputs": [
    {
     "name": "stdout",
     "output_type": "stream",
     "text": [
      "Checks for entryfilescombined and cleanfirmnamesmatched:\n",
      "Number of rows in entryfilescombined: 6899\n",
      "Number of rows in cleanfirmnamesmatched: 1976\n",
      "Number of unique clean firm names (from entry files) in entryfilescombined: 1976\n",
      "Number of unique clean firm names (from entry files) in cleanfirmnamesmatched: 1976\n",
      "Number of unique clean firm names (from compustathassan) in cleanfirmnamesmatched: 1963\n"
     ]
    }
   ],
   "source": [
    "# Checks for entryfilescombined and cleanfirmnamesmatched\n",
    "print(\"Checks for entryfilescombined and cleanfirmnamesmatched:\")\n",
    "print(\"Number of rows in entryfilescombined:\", entryfilescombined.shape[0])\n",
    "print(\"Number of rows in cleanfirmnamesmatched:\", cleanfirmnamesmatched.shape[0])\n",
    "print(\"Number of unique clean firm names (from entry files) in entryfilescombined:\", entryfilescombined['clean_firm_name_entryfile'].nunique())\n",
    "print(\"Number of unique clean firm names (from entry files) in cleanfirmnamesmatched:\", cleanfirmnamesmatched['clean_firm_name_entryfile'].nunique())\n",
    "print(\"Number of unique clean firm names (from compustathassan) in cleanfirmnamesmatched:\", cleanfirmnamesmatched['clean_firm_name_compustathassan'].nunique())\n",
    "assert(entryfilescombined['clean_firm_name_entryfile'].nunique() == cleanfirmnamesmatched.shape[0] == cleanfirmnamesmatched['clean_firm_name_entryfile'].nunique())"
   ]
  },
  {
   "cell_type": "code",
   "execution_count": 7,
   "id": "b8e90d10",
   "metadata": {},
   "outputs": [
    {
     "name": "stdout",
     "output_type": "stream",
     "text": [
      "Merged entryfilescombined with cleanfirmnamesmatched to form df.\n",
      "Number of rows in df: 6899\n",
      "Number of unique clean firm names (from entry files) in df: 1976\n",
      "Number of unique clean firm names (from compustathassan) in df: 1963\n"
     ]
    },
    {
     "data": {
      "text/html": [
       "<div>\n",
       "<style scoped>\n",
       "    .dataframe tbody tr th:only-of-type {\n",
       "        vertical-align: middle;\n",
       "    }\n",
       "\n",
       "    .dataframe tbody tr th {\n",
       "        vertical-align: top;\n",
       "    }\n",
       "\n",
       "    .dataframe thead th {\n",
       "        text-align: right;\n",
       "    }\n",
       "</style>\n",
       "<table border=\"1\" class=\"dataframe\">\n",
       "  <thead>\n",
       "    <tr style=\"text-align: right;\">\n",
       "      <th></th>\n",
       "      <th>Keyword</th>\n",
       "      <th>Paragraph</th>\n",
       "      <th>Date</th>\n",
       "      <th>Title</th>\n",
       "      <th>Subtitle</th>\n",
       "      <th>Report</th>\n",
       "      <th>gvkey</th>\n",
       "      <th>hqcountry</th>\n",
       "      <th>clean_firm_name_entryfile</th>\n",
       "      <th>clean_firm_name_compustathassan</th>\n",
       "      <th>company_name</th>\n",
       "      <th>count_entryfile</th>\n",
       "      <th>exact_match</th>\n",
       "    </tr>\n",
       "  </thead>\n",
       "  <tbody>\n",
       "    <tr>\n",
       "      <th>0</th>\n",
       "      <td>IRR</td>\n",
       "      <td>Ultimately, with that, I'd probably go to a sl...</td>\n",
       "      <td>2021-09-22</td>\n",
       "      <td>- EVENT TRANSCRIPT OF ADELAIDE CAPITAL MARKETS...</td>\n",
       "      <td>- Event Transcript of Adelaide Capital Markets...</td>\n",
       "      <td>73024325</td>\n",
       "      <td>NaN</td>\n",
       "      <td>NaN</td>\n",
       "      <td>ADELAIDE CAPITAL MARKETS</td>\n",
       "      <td>NaN</td>\n",
       "      <td>NaN</td>\n",
       "      <td>1</td>\n",
       "      <td>0</td>\n",
       "    </tr>\n",
       "  </tbody>\n",
       "</table>\n",
       "</div>"
      ],
      "text/plain": [
       "  Keyword                                          Paragraph        Date  \\\n",
       "0     IRR  Ultimately, with that, I'd probably go to a sl...  2021-09-22   \n",
       "\n",
       "                                               Title  \\\n",
       "0  - EVENT TRANSCRIPT OF ADELAIDE CAPITAL MARKETS...   \n",
       "\n",
       "                                            Subtitle    Report  gvkey  \\\n",
       "0  - Event Transcript of Adelaide Capital Markets...  73024325    NaN   \n",
       "\n",
       "  hqcountry clean_firm_name_entryfile clean_firm_name_compustathassan  \\\n",
       "0       NaN  ADELAIDE CAPITAL MARKETS                             NaN   \n",
       "\n",
       "  company_name  count_entryfile  exact_match  \n",
       "0          NaN                1            0  "
      ]
     },
     "execution_count": 7,
     "metadata": {},
     "output_type": "execute_result"
    }
   ],
   "source": [
    "# Merge entryfilescombined with compustathassan\n",
    "# Validate m:1 because the same firm can appear multiple times in entryfilescombined.\n",
    "# But the other way round (1:m) is not possible.\n",
    "# Inner match should be done, because every clean_firm_name_entryfile in entryfilescombined should have an entry in cleanfirmnamesmatched.\n",
    "df = entryfilescombined.merge(cleanfirmnamesmatched, how='inner', on='clean_firm_name_entryfile', validate='m:1')\n",
    "df = df.reindex(columns = ['Keyword', 'Paragraph', 'Date', 'Title', 'Subtitle', 'Report', 'gvkey', 'hqcountry',\n",
    "                           'clean_firm_name_entryfile', 'clean_firm_name_compustathassan',\n",
    "                           'company_name', 'count_entryfile', 'exact_match'])\n",
    "\n",
    "# Checks\n",
    "print(\"Merged entryfilescombined with cleanfirmnamesmatched to form df.\")\n",
    "print(\"Number of rows in df:\", df.shape[0])\n",
    "print(\"Number of unique clean firm names (from entry files) in df:\", df['clean_firm_name_entryfile'].nunique())\n",
    "print(\"Number of unique clean firm names (from compustathassan) in df:\", df['clean_firm_name_compustathassan'].nunique())\n",
    "assert(df.shape[0] == entryfilescombined.shape[0])\n",
    "assert(df['clean_firm_name_entryfile'].nunique() == entryfilescombined['clean_firm_name_entryfile'].nunique())\n",
    "assert(df['clean_firm_name_compustathassan'].nunique() == cleanfirmnamesmatched['clean_firm_name_compustathassan'].nunique())\n",
    "df.head(1)"
   ]
  },
  {
   "cell_type": "code",
   "execution_count": 8,
   "id": "fcd6dcb8",
   "metadata": {},
   "outputs": [
    {
     "data": {
      "text/html": [
       "<div>\n",
       "<style scoped>\n",
       "    .dataframe tbody tr th:only-of-type {\n",
       "        vertical-align: middle;\n",
       "    }\n",
       "\n",
       "    .dataframe tbody tr th {\n",
       "        vertical-align: top;\n",
       "    }\n",
       "\n",
       "    .dataframe thead th {\n",
       "        text-align: right;\n",
       "    }\n",
       "</style>\n",
       "<table border=\"1\" class=\"dataframe\">\n",
       "  <thead>\n",
       "    <tr style=\"text-align: right;\">\n",
       "      <th></th>\n",
       "      <th>Keyword</th>\n",
       "      <th>Paragraph</th>\n",
       "      <th>Date</th>\n",
       "      <th>Title</th>\n",
       "      <th>Subtitle</th>\n",
       "      <th>Report</th>\n",
       "      <th>gvkey</th>\n",
       "      <th>hqcountry</th>\n",
       "    </tr>\n",
       "  </thead>\n",
       "  <tbody>\n",
       "    <tr>\n",
       "      <th>0</th>\n",
       "      <td>IRR</td>\n",
       "      <td>Ultimately, with that, I'd probably go to a sl...</td>\n",
       "      <td>2021-09-22</td>\n",
       "      <td>- EVENT TRANSCRIPT OF ADELAIDE CAPITAL MARKETS...</td>\n",
       "      <td>- Event Transcript of Adelaide Capital Markets...</td>\n",
       "      <td>73024325</td>\n",
       "      <td>NaN</td>\n",
       "      <td>NaN</td>\n",
       "    </tr>\n",
       "  </tbody>\n",
       "</table>\n",
       "</div>"
      ],
      "text/plain": [
       "  Keyword                                          Paragraph        Date  \\\n",
       "0     IRR  Ultimately, with that, I'd probably go to a sl...  2021-09-22   \n",
       "\n",
       "                                               Title  \\\n",
       "0  - EVENT TRANSCRIPT OF ADELAIDE CAPITAL MARKETS...   \n",
       "\n",
       "                                            Subtitle    Report  gvkey  \\\n",
       "0  - Event Transcript of Adelaide Capital Markets...  73024325    NaN   \n",
       "\n",
       "  hqcountry  \n",
       "0       NaN  "
      ]
     },
     "execution_count": 8,
     "metadata": {},
     "output_type": "execute_result"
    }
   ],
   "source": [
    "# Get just the gvkey and country as additional columns to entryfilescombined\n",
    "entryfilescombined_with_gvkeycountry = df.iloc[:, 0:8]\n",
    "entryfilescombined_with_gvkeycountry.head(1)"
   ]
  },
  {
   "cell_type": "code",
   "execution_count": 9,
   "id": "47774b35",
   "metadata": {},
   "outputs": [
    {
     "name": "stdout",
     "output_type": "stream",
     "text": [
      "Saved entryfilescombined_with_cleanfirmnames_matched (added all columns) to: C:\\Users\\jasonjia\\Dropbox\\Projects\\conference_call\\output\\04_match_firm_names_to_gvkeys\\04.5_firm_names_matched\\20210101-20220617\\entryfilescombined_with_cleanfirmnames_matched_20210101-20220617.xlsx\n",
      "Saved entryfilescombined_with_gvkeycountry (added only gvkey and country) to: C:\\Users\\jasonjia\\Dropbox\\Projects\\conference_call\\output\\04_match_firm_names_to_gvkeys\\04.5_firm_names_matched\\20210101-20220617\\entryfilescombined_with_gvkeycountry_20210101-20220617.xlsx\n"
     ]
    }
   ],
   "source": [
    "# Save files\n",
    "df.to_excel(entryfilescombined_with_cleanfirmnames_matched_filepath, index = False)\n",
    "print(\"Saved entryfilescombined_with_cleanfirmnames_matched (added all columns) to:\", entryfilescombined_with_cleanfirmnames_matched_filepath)\n",
    "entryfilescombined_with_gvkeycountry.to_excel(entryfilescombined_with_gvkeycountry_filepath, index = False)\n",
    "print(\"Saved entryfilescombined_with_gvkeycountry (added only gvkey and country) to:\", entryfilescombined_with_gvkeycountry_filepath)"
   ]
  },
  {
   "cell_type": "code",
   "execution_count": null,
   "id": "9114655a",
   "metadata": {},
   "outputs": [],
   "source": []
  }
 ],
 "metadata": {
  "kernelspec": {
   "display_name": "Python 3 (ipykernel)",
   "language": "python",
   "name": "python3"
  },
  "language_info": {
   "codemirror_mode": {
    "name": "ipython",
    "version": 3
   },
   "file_extension": ".py",
   "mimetype": "text/x-python",
   "name": "python",
   "nbconvert_exporter": "python",
   "pygments_lexer": "ipython3",
   "version": "3.9.7"
  }
 },
 "nbformat": 4,
 "nbformat_minor": 5
}
