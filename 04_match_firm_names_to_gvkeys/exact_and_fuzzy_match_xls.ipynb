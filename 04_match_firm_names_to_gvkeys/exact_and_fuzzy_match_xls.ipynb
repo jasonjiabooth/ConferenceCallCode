{
 "cells": [
  {
   "cell_type": "code",
   "execution_count": 1,
   "id": "eac8dd96",
   "metadata": {},
   "outputs": [],
   "source": [
    "# Import Packages\n",
    "import pandas as pd, numpy as np\n",
    "import os, sys, glob, re\n",
    "from pathlib import Path\n",
    "from itertools import compress\n",
    "from rapidfuzz import process, fuzz"
   ]
  },
  {
   "cell_type": "code",
   "execution_count": 2,
   "id": "1e564c57",
   "metadata": {},
   "outputs": [],
   "source": [
    "entryfiles_filepath = Path(r\"C:\\Users\\jasonjia\\Dropbox\\Projects\\conference_call\\output\\04_match_firm_names_to_gvkeys\\04.2_firm_names_to_match\\multiple_data_pulls_combined\\20010101-20220617\\cleanfirmnames_to_match_20010101-20220617.xlsx\")\n",
    "compustathassan_filepath = Path(r\"C:\\Users\\jasonjia\\Dropbox\\Projects\\conference_call\\output\\04_match_firm_names_to_gvkeys\\04.1_process_compustat_and_hassan_files\\compustat_and_hassan_firm_names_withgvkeyandcountry\\20220705\\compustat_and_hassan_firm_names_withgvkeyandcountry.csv\")\n",
    "exactmatch_yes_filepath = Path(r\"C:\\Users\\jasonjia\\Dropbox\\Projects\\conference_call\\output\\04_match_firm_names_to_gvkeys\\04.3_exact_matches\\multiple_data_pulls_combined\\20010101-20220617\\exactmatch_yes.csv\")\n",
    "exactmatch_no_filepath = Path(r\"C:\\Users\\jasonjia\\Dropbox\\Projects\\conference_call\\output\\04_match_firm_names_to_gvkeys\\04.3_exact_matches\\multiple_data_pulls_combined\\20010101-20220617\\exactmatch_no.csv\")\n",
    "fuzzymatch_filepath = Path(r\"C:\\Users\\jasonjia\\Dropbox\\Projects\\conference_call\\output\\04_match_firm_names_to_gvkeys\\04.4_fuzzy_matches\\multiple_data_pulls_combined\\20010101-20220617\\fuzzymatch_not_manually_filled_in.xlsx\")"
   ]
  },
  {
   "cell_type": "code",
   "execution_count": 3,
   "id": "c783e8a3",
   "metadata": {},
   "outputs": [],
   "source": [
    "# Import files\n",
    "entryfiles = pd.read_excel(entryfiles_filepath)\n",
    "compustathassan = pd.read_csv(compustathassan_filepath)"
   ]
  },
  {
   "cell_type": "code",
   "execution_count": 4,
   "id": "ab2901b8",
   "metadata": {},
   "outputs": [
    {
     "name": "stdout",
     "output_type": "stream",
     "text": [
      "Note: the variable names are unchanged, but 'entryfiles' is now a df of clean firm names from xls_combined.\n"
     ]
    }
   ],
   "source": [
    "print(\"Note: the variable names are unchanged, but 'entryfiles' is now a df of clean firm names from xls_combined.\")"
   ]
  },
  {
   "cell_type": "code",
   "execution_count": 5,
   "id": "4d916c0b",
   "metadata": {},
   "outputs": [
    {
     "data": {
      "text/html": [
       "<div>\n",
       "<style scoped>\n",
       "    .dataframe tbody tr th:only-of-type {\n",
       "        vertical-align: middle;\n",
       "    }\n",
       "\n",
       "    .dataframe tbody tr th {\n",
       "        vertical-align: top;\n",
       "    }\n",
       "\n",
       "    .dataframe thead th {\n",
       "        text-align: right;\n",
       "    }\n",
       "</style>\n",
       "<table border=\"1\" class=\"dataframe\">\n",
       "  <thead>\n",
       "    <tr style=\"text-align: right;\">\n",
       "      <th></th>\n",
       "      <th>clean_firm_name</th>\n",
       "      <th>count</th>\n",
       "    </tr>\n",
       "  </thead>\n",
       "  <tbody>\n",
       "    <tr>\n",
       "      <th>0</th>\n",
       "      <td>FORD MOTOR CO</td>\n",
       "      <td>657</td>\n",
       "    </tr>\n",
       "  </tbody>\n",
       "</table>\n",
       "</div>"
      ],
      "text/plain": [
       "  clean_firm_name  count\n",
       "0   FORD MOTOR CO    657"
      ]
     },
     "execution_count": 5,
     "metadata": {},
     "output_type": "execute_result"
    }
   ],
   "source": [
    "entryfiles.head(1)"
   ]
  },
  {
   "cell_type": "code",
   "execution_count": 6,
   "id": "a7033833",
   "metadata": {},
   "outputs": [
    {
     "data": {
      "text/html": [
       "<div>\n",
       "<style scoped>\n",
       "    .dataframe tbody tr th:only-of-type {\n",
       "        vertical-align: middle;\n",
       "    }\n",
       "\n",
       "    .dataframe tbody tr th {\n",
       "        vertical-align: top;\n",
       "    }\n",
       "\n",
       "    .dataframe thead th {\n",
       "        text-align: right;\n",
       "    }\n",
       "</style>\n",
       "<table border=\"1\" class=\"dataframe\">\n",
       "  <thead>\n",
       "    <tr style=\"text-align: right;\">\n",
       "      <th></th>\n",
       "      <th>gvkey</th>\n",
       "      <th>company_name</th>\n",
       "      <th>hqcountry</th>\n",
       "      <th>clean_firm_name</th>\n",
       "    </tr>\n",
       "  </thead>\n",
       "  <tbody>\n",
       "    <tr>\n",
       "      <th>0</th>\n",
       "      <td>1000.0</td>\n",
       "      <td>A &amp; E Plastik Pak Inc.</td>\n",
       "      <td>US</td>\n",
       "      <td>A E PLASTIK PAK INC</td>\n",
       "    </tr>\n",
       "  </tbody>\n",
       "</table>\n",
       "</div>"
      ],
      "text/plain": [
       "    gvkey            company_name hqcountry      clean_firm_name\n",
       "0  1000.0  A & E Plastik Pak Inc.        US  A E PLASTIK PAK INC"
      ]
     },
     "execution_count": 6,
     "metadata": {},
     "output_type": "execute_result"
    }
   ],
   "source": [
    "compustathassan.head(1)"
   ]
  },
  {
   "cell_type": "markdown",
   "id": "46d84606",
   "metadata": {},
   "source": [
    "# First try exact match"
   ]
  },
  {
   "cell_type": "code",
   "execution_count": 7,
   "id": "a7ea67f6",
   "metadata": {},
   "outputs": [
    {
     "name": "stdout",
     "output_type": "stream",
     "text": [
      "Number of clean firm names in entryfiles: 21604\n",
      "Number of clean firm names with exact matches: 12851\n",
      "Number of clean firm names without exact matches: 8753\n"
     ]
    }
   ],
   "source": [
    "exactmatch = entryfiles.merge(compustathassan, how='left', on='clean_firm_name')\n",
    "print(\"Number of clean firm names in entryfiles:\", exactmatch.shape[0])\n",
    "print(\"Number of clean firm names with exact matches:\", exactmatch['gvkey'].count())\n",
    "print(\"Number of clean firm names without exact matches:\", exactmatch['gvkey'].isna().sum())\n",
    "assert(exactmatch['gvkey'].isna().sum() == exactmatch.shape[0] - exactmatch['gvkey'].count())"
   ]
  },
  {
   "cell_type": "code",
   "execution_count": 8,
   "id": "450d531d",
   "metadata": {},
   "outputs": [],
   "source": [
    "# Filter out the clean firm names with exact matches, and without\n",
    "exactmatch_yes = exactmatch.dropna(subset=['gvkey']).copy()\n",
    "exactmatch_no = exactmatch[exactmatch['gvkey'].isna()].copy()\n",
    "assert(exactmatch_yes.shape[0] == exactmatch['gvkey'].count())\n",
    "assert(exactmatch_no.shape[0] == exactmatch['gvkey'].isna().sum())"
   ]
  },
  {
   "cell_type": "code",
   "execution_count": 9,
   "id": "a2a91c81",
   "metadata": {},
   "outputs": [],
   "source": [
    "# Reformat dfs\n",
    "exactmatch_yes['exact_match'] = 1\n",
    "exactmatch_yes = exactmatch_yes.rename(columns = {'clean_firm_name': 'clean_firm_name_entryfile', 'count': 'count_entryfile'})\n",
    "exactmatch_yes['clean_firm_name_compustathassan'] = exactmatch_yes['clean_firm_name_entryfile']\n",
    "exactmatch_yes = exactmatch_yes.reindex(columns=['clean_firm_name_entryfile', 'clean_firm_name_compustathassan', \n",
    "                                                'gvkey', 'company_name', 'hqcountry', 'count_entryfile', 'exact_match'])\n",
    "exactmatch_no['exact_match'] = 0\n",
    "exactmatch_no = exactmatch_no.rename(columns = {'clean_firm_name': 'clean_firm_name_entryfile', 'count': 'count_entryfile'})\n",
    "exactmatch_no['clean_firm_name_compustathassan'] = np.NaN\n",
    "exactmatch_no = exactmatch_no.reindex(columns=['clean_firm_name_entryfile', 'clean_firm_name_compustathassan', \n",
    "                                                'gvkey', 'company_name', 'hqcountry', 'count_entryfile', 'exact_match'])"
   ]
  },
  {
   "cell_type": "code",
   "execution_count": 10,
   "id": "8b4d80af",
   "metadata": {},
   "outputs": [
    {
     "data": {
      "text/html": [
       "<div>\n",
       "<style scoped>\n",
       "    .dataframe tbody tr th:only-of-type {\n",
       "        vertical-align: middle;\n",
       "    }\n",
       "\n",
       "    .dataframe tbody tr th {\n",
       "        vertical-align: top;\n",
       "    }\n",
       "\n",
       "    .dataframe thead th {\n",
       "        text-align: right;\n",
       "    }\n",
       "</style>\n",
       "<table border=\"1\" class=\"dataframe\">\n",
       "  <thead>\n",
       "    <tr style=\"text-align: right;\">\n",
       "      <th></th>\n",
       "      <th>clean_firm_name_entryfile</th>\n",
       "      <th>clean_firm_name_compustathassan</th>\n",
       "      <th>gvkey</th>\n",
       "      <th>company_name</th>\n",
       "      <th>hqcountry</th>\n",
       "      <th>count_entryfile</th>\n",
       "      <th>exact_match</th>\n",
       "    </tr>\n",
       "  </thead>\n",
       "  <tbody>\n",
       "    <tr>\n",
       "      <th>0</th>\n",
       "      <td>FORD MOTOR CO</td>\n",
       "      <td>FORD MOTOR CO</td>\n",
       "      <td>4839.0</td>\n",
       "      <td>Ford Motor Company</td>\n",
       "      <td>US</td>\n",
       "      <td>657</td>\n",
       "      <td>1</td>\n",
       "    </tr>\n",
       "  </tbody>\n",
       "</table>\n",
       "</div>"
      ],
      "text/plain": [
       "  clean_firm_name_entryfile clean_firm_name_compustathassan   gvkey  \\\n",
       "0             FORD MOTOR CO                   FORD MOTOR CO  4839.0   \n",
       "\n",
       "         company_name hqcountry  count_entryfile  exact_match  \n",
       "0  Ford Motor Company        US              657            1  "
      ]
     },
     "execution_count": 10,
     "metadata": {},
     "output_type": "execute_result"
    }
   ],
   "source": [
    "exactmatch_yes.head(1)"
   ]
  },
  {
   "cell_type": "code",
   "execution_count": 11,
   "id": "a2518e7a",
   "metadata": {},
   "outputs": [
    {
     "data": {
      "text/html": [
       "<div>\n",
       "<style scoped>\n",
       "    .dataframe tbody tr th:only-of-type {\n",
       "        vertical-align: middle;\n",
       "    }\n",
       "\n",
       "    .dataframe tbody tr th {\n",
       "        vertical-align: top;\n",
       "    }\n",
       "\n",
       "    .dataframe thead th {\n",
       "        text-align: right;\n",
       "    }\n",
       "</style>\n",
       "<table border=\"1\" class=\"dataframe\">\n",
       "  <thead>\n",
       "    <tr style=\"text-align: right;\">\n",
       "      <th></th>\n",
       "      <th>clean_firm_name_entryfile</th>\n",
       "      <th>clean_firm_name_compustathassan</th>\n",
       "      <th>gvkey</th>\n",
       "      <th>company_name</th>\n",
       "      <th>hqcountry</th>\n",
       "      <th>count_entryfile</th>\n",
       "      <th>exact_match</th>\n",
       "    </tr>\n",
       "  </thead>\n",
       "  <tbody>\n",
       "    <tr>\n",
       "      <th>1</th>\n",
       "      <td>SALESFORCE COM INC</td>\n",
       "      <td>NaN</td>\n",
       "      <td>NaN</td>\n",
       "      <td>NaN</td>\n",
       "      <td>NaN</td>\n",
       "      <td>523</td>\n",
       "      <td>0</td>\n",
       "    </tr>\n",
       "  </tbody>\n",
       "</table>\n",
       "</div>"
      ],
      "text/plain": [
       "  clean_firm_name_entryfile  clean_firm_name_compustathassan  gvkey  \\\n",
       "1        SALESFORCE COM INC                              NaN    NaN   \n",
       "\n",
       "  company_name hqcountry  count_entryfile  exact_match  \n",
       "1          NaN       NaN              523            0  "
      ]
     },
     "execution_count": 11,
     "metadata": {},
     "output_type": "execute_result"
    }
   ],
   "source": [
    "exactmatch_no.head(1)"
   ]
  },
  {
   "cell_type": "code",
   "execution_count": 12,
   "id": "6645b9c7",
   "metadata": {
    "scrolled": true
   },
   "outputs": [
    {
     "name": "stdout",
     "output_type": "stream",
     "text": [
      "Saved clean firm names with exact matches to: C:\\Users\\jasonjia\\Dropbox\\Projects\\conference_call\\output\\04_match_firm_names_to_gvkeys\\04.3_exact_matches\\multiple_data_pulls_combined\\20010101-20220617\\exactmatch_yes.csv\n",
      "Saved clean firm names without exact matches to: C:\\Users\\jasonjia\\Dropbox\\Projects\\conference_call\\output\\04_match_firm_names_to_gvkeys\\04.3_exact_matches\\multiple_data_pulls_combined\\20010101-20220617\\exactmatch_no.csv\n"
     ]
    }
   ],
   "source": [
    "# Save exactmatch dfs to .csv\n",
    "exactmatch_yes.to_csv(exactmatch_yes_filepath, index=False)\n",
    "exactmatch_no.to_csv(exactmatch_no_filepath, index=False)\n",
    "print(\"Saved clean firm names with exact matches to:\", exactmatch_yes_filepath)\n",
    "print(\"Saved clean firm names without exact matches to:\", exactmatch_no_filepath)"
   ]
  },
  {
   "cell_type": "markdown",
   "id": "94591459",
   "metadata": {},
   "source": [
    "# Then do fuzzy match on the remaining clean firm names"
   ]
  },
  {
   "cell_type": "code",
   "execution_count": 12,
   "id": "a6afc8bd",
   "metadata": {},
   "outputs": [
    {
     "data": {
      "text/html": [
       "<div>\n",
       "<style scoped>\n",
       "    .dataframe tbody tr th:only-of-type {\n",
       "        vertical-align: middle;\n",
       "    }\n",
       "\n",
       "    .dataframe tbody tr th {\n",
       "        vertical-align: top;\n",
       "    }\n",
       "\n",
       "    .dataframe thead th {\n",
       "        text-align: right;\n",
       "    }\n",
       "</style>\n",
       "<table border=\"1\" class=\"dataframe\">\n",
       "  <thead>\n",
       "    <tr style=\"text-align: right;\">\n",
       "      <th></th>\n",
       "      <th>clean_firm_name_entryfile</th>\n",
       "      <th>clean_firm_name_compustathassan</th>\n",
       "      <th>gvkey</th>\n",
       "      <th>company_name</th>\n",
       "      <th>hqcountry</th>\n",
       "      <th>count_entryfile</th>\n",
       "      <th>exact_match</th>\n",
       "    </tr>\n",
       "  </thead>\n",
       "  <tbody>\n",
       "    <tr>\n",
       "      <th>13</th>\n",
       "      <td>SONOCO PRODUCTS</td>\n",
       "      <td>NaN</td>\n",
       "      <td>NaN</td>\n",
       "      <td>NaN</td>\n",
       "      <td>NaN</td>\n",
       "      <td>23</td>\n",
       "      <td>0</td>\n",
       "    </tr>\n",
       "    <tr>\n",
       "      <th>20</th>\n",
       "      <td>MAGNIT OAO</td>\n",
       "      <td>NaN</td>\n",
       "      <td>NaN</td>\n",
       "      <td>NaN</td>\n",
       "      <td>NaN</td>\n",
       "      <td>19</td>\n",
       "      <td>0</td>\n",
       "    </tr>\n",
       "    <tr>\n",
       "      <th>44</th>\n",
       "      <td>BLUESCOPE STEEL</td>\n",
       "      <td>NaN</td>\n",
       "      <td>NaN</td>\n",
       "      <td>NaN</td>\n",
       "      <td>NaN</td>\n",
       "      <td>16</td>\n",
       "      <td>0</td>\n",
       "    </tr>\n",
       "  </tbody>\n",
       "</table>\n",
       "</div>"
      ],
      "text/plain": [
       "   clean_firm_name_entryfile  clean_firm_name_compustathassan  gvkey  \\\n",
       "13           SONOCO PRODUCTS                              NaN    NaN   \n",
       "20                MAGNIT OAO                              NaN    NaN   \n",
       "44           BLUESCOPE STEEL                              NaN    NaN   \n",
       "\n",
       "   company_name hqcountry  count_entryfile  exact_match  \n",
       "13          NaN       NaN               23            0  \n",
       "20          NaN       NaN               19            0  \n",
       "44          NaN       NaN               16            0  "
      ]
     },
     "execution_count": 12,
     "metadata": {},
     "output_type": "execute_result"
    }
   ],
   "source": [
    "exactmatch_no.head(3)"
   ]
  },
  {
   "cell_type": "code",
   "execution_count": 13,
   "id": "67c4ab80",
   "metadata": {},
   "outputs": [],
   "source": [
    "choice_1_name, choice_1_score, choice_2_name, choice_2_score, choice_3_name, choice_3_score = [], [], [], [], [], []\n",
    "\n",
    "for index, row in exactmatch_no.iterrows():\n",
    "    # Perform fuzzy matching to get the top 3 choices/matches\n",
    "    fuzzy = process.extract(row['clean_firm_name_entryfile'], compustathassan['clean_firm_name'], scorer=fuzz.WRatio, limit=3)\n",
    "    \n",
    "    # Record the top 3 choices\n",
    "    choice_1_name.append(fuzzy[0][0])\n",
    "    choice_1_score.append(fuzzy[0][1]) \n",
    "    choice_2_name.append(fuzzy[1][0])\n",
    "    choice_2_score.append(fuzzy[1][1])\n",
    "    choice_3_name.append(fuzzy[2][0])\n",
    "    choice_3_score.append(fuzzy[2][1])"
   ]
  },
  {
   "cell_type": "code",
   "execution_count": 15,
   "id": "ae6ac8be",
   "metadata": {},
   "outputs": [],
   "source": [
    "# Append to exactmatch_no df to get fuzzymatch df\n",
    "fuzzymatch = exactmatch_no.copy()[['clean_firm_name_entryfile', 'count_entryfile', 'exact_match']]\n",
    "fuzzymatch['choice_1_name'] = choice_1_name\n",
    "fuzzymatch['choice_1_score'] = choice_1_score\n",
    "fuzzymatch['choice_2_name'] = choice_2_name\n",
    "fuzzymatch['choice_2_score'] = choice_2_score\n",
    "fuzzymatch['choice_3_name'] = choice_3_name\n",
    "fuzzymatch['choice_3_score'] = choice_3_score\n",
    "\n",
    "# Create an empty column for manual entry\n",
    "fuzzymatch['best_choice'] = ''\n",
    "\n",
    "# Sort by decreasing choice_1_score, then by count.\n",
    "# Idea: The fuzzy matches most likely to be correct are at the top.\n",
    "fuzzymatch = fuzzymatch.sort_values(by = ['choice_1_score', 'count_entryfile'], ascending = [False, False])"
   ]
  },
  {
   "cell_type": "code",
   "execution_count": 16,
   "id": "83c4cdbb",
   "metadata": {},
   "outputs": [
    {
     "name": "stdout",
     "output_type": "stream",
     "text": [
      "Saved fuzzy-matched clean firm names (not manually filled in) to: C:\\Users\\jasonjia\\Dropbox\\Projects\\conference_call\\output\\04_match_firm_names_to_gvkeys\\04.4_fuzzy_matches\\20210101-20220617\\fuzzymatch_not_manually_filled_in.xlsx\n"
     ]
    }
   ],
   "source": [
    "# Save fuzzymatch df to .xlsx\n",
    "fuzzymatch.to_excel(fuzzymatch_filepath, index=False)\n",
    "print(\"Saved fuzzy-matched clean firm names (not manually filled in) to:\", fuzzymatch_filepath)"
   ]
  },
  {
   "cell_type": "code",
   "execution_count": 17,
   "id": "c897c192",
   "metadata": {
    "scrolled": true
   },
   "outputs": [
    {
     "name": "stdout",
     "output_type": "stream",
     "text": [
      "Guide for filling in best_choice manually:\n",
      "If choice 1 is correct, enter 1.\n",
      "If choice 2 is correct, enter 2.\n",
      "If choice 3 is correct, enter 3.\n",
      "If the correct firm name is in compustathassan but not in the top 3 choices, enter the clean firm name directly.\n",
      "If there is no correct firm name in compustathassan, enter NaN.\n"
     ]
    }
   ],
   "source": [
    "# Guide for filling in best_choice manually\n",
    "print(\"Guide for filling in best_choice manually:\")\n",
    "print(\"If choice 1 is correct, enter 1.\")\n",
    "print(\"If choice 2 is correct, enter 2.\")\n",
    "print(\"If choice 3 is correct, enter 3.\")\n",
    "print(\"If the correct firm name is in compustathassan but not in the top 3 choices, enter the clean firm name directly.\")\n",
    "print(\"If there is no correct firm name in compustathassan, enter NaN.\")"
   ]
  },
  {
   "cell_type": "code",
   "execution_count": null,
   "id": "374f2045",
   "metadata": {},
   "outputs": [],
   "source": []
  }
 ],
 "metadata": {
  "kernelspec": {
   "display_name": "Python 3 (ipykernel)",
   "language": "python",
   "name": "python3"
  },
  "language_info": {
   "codemirror_mode": {
    "name": "ipython",
    "version": 3
   },
   "file_extension": ".py",
   "mimetype": "text/x-python",
   "name": "python",
   "nbconvert_exporter": "python",
   "pygments_lexer": "ipython3",
   "version": "3.9.7"
  }
 },
 "nbformat": 4,
 "nbformat_minor": 5
}
