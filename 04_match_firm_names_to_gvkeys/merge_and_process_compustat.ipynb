{
 "cells": [
  {
   "cell_type": "code",
   "execution_count": 1,
   "id": "83b133f0",
   "metadata": {},
   "outputs": [],
   "source": [
    "from pathlib import Path\n",
    "import pandas as pd\n",
    "import sys\n",
    "import gc\n",
    "\n",
    "# Example command: python merge_and_process_compustat.py C:\\Users\\jasonjia\\Dropbox\\Projects\\conference_call\\output\\04_match_firm_names_to_gvkeys\\04.1_process_compustat_and_hassan_files\\compustat_processed\\20220705 C:\\Users\\jasonjia\\Dropbox\\Projects\\conference_call\\output\\04_match_firm_names_to_gvkeys\\04.1_process_compustat_and_hassan_files\\compustat_processed\\20220705\\ciqcompany_mergedwithgvkeyandcountry.csv"
   ]
  },
  {
   "cell_type": "code",
   "execution_count": 2,
   "id": "8a55e71c",
   "metadata": {},
   "outputs": [],
   "source": [
    "inputfolder = Path(r\"C:\\Users\\jasonjia\\Dropbox\\Projects\\conference_call\\output\\04_match_firm_names_to_gvkeys\\04.1_process_compustat_and_hassan_files\\compustat_processed\\20220705\")\n",
    "outputfilepath = Path(r\"C:\\Users\\jasonjia\\Dropbox\\Projects\\conference_call\\output\\04_match_firm_names_to_gvkeys\\04.1_process_compustat_and_hassan_files\\compustat_processed\\20220705\\ciqcompany_mergedwithgvkeyandcountry.csv\")\n",
    " \n",
    "inputfilename_ciqcompany = 'ciqcompany.csv'\n",
    "inputfilename_wrds_gvkey = 'wrds_gvkey.csv'\n",
    "inputfilename_ciqcountrygeo = 'ciqcountrygeo.csv'"
   ]
  },
  {
   "cell_type": "code",
   "execution_count": 3,
   "id": "680494da",
   "metadata": {},
   "outputs": [],
   "source": [
    "# Import files\n",
    "ciqcompany = pd.read_csv(Path(inputfolder / inputfilename_ciqcompany))\n",
    "wrds_gvkey = pd.read_csv(Path(inputfolder / inputfilename_wrds_gvkey))\n",
    "ciqcountrygeo = pd.read_csv(Path(inputfolder / inputfilename_ciqcountrygeo))"
   ]
  },
  {
   "cell_type": "code",
   "execution_count": 4,
   "id": "112d3ad3",
   "metadata": {},
   "outputs": [],
   "source": [
    "def get_number_of_duplicated_values_in_a_df_col(df_col):\n",
    "    value_counts = df_col.value_counts()\n",
    "    return value_counts[value_counts > 1].count()"
   ]
  },
  {
   "cell_type": "code",
   "execution_count": 5,
   "id": "34ddd03d",
   "metadata": {},
   "outputs": [],
   "source": [
    "# Columns\n",
    "# ciqcompany.columns: ['companyid', 'companyname', 'countryid']\n",
    "# wrds_gvkey.columns: ['companyid', 'gvkey', 'startdate', 'enddate', 'companyname']\n",
    "# ciqcountrygeo.columns: ['countryid', 'country', 'isocountry2', 'isocountry3', 'regionid', 'region']\n",
    "\n",
    "# Filter wrds_gvkey and ciqcountrygeo to keep relevant columns\n",
    "wrds_gvkey = wrds_gvkey[['companyid', 'gvkey']]\n",
    "ciqcountrygeo = ciqcountrygeo[['countryid','country']]"
   ]
  },
  {
   "cell_type": "code",
   "execution_count": 6,
   "id": "2883e070",
   "metadata": {},
   "outputs": [
    {
     "name": "stdout",
     "output_type": "stream",
     "text": [
      "Number of unique companyids: 27593141\n",
      "Number of unique gvkeys: 115553\n"
     ]
    }
   ],
   "source": [
    "# Check for unique companyids and gvkeys -> There will be some companyids without gvkeys.\n",
    "print(\"Number of unique companyids:\", ciqcompany['companyid'].nunique())\n",
    "print(\"Number of unique gvkeys:\", wrds_gvkey['gvkey'].nunique())"
   ]
  },
  {
   "cell_type": "code",
   "execution_count": 7,
   "id": "ff3c5cd9",
   "metadata": {},
   "outputs": [
    {
     "name": "stdout",
     "output_type": "stream",
     "text": [
      "Checks for wrds_gvkey and ciqcountrygeo:\n",
      "Number of duplicated companyids in wrds_gvkey: 494\n",
      "Number of duplicated gvkeys in wrds_gvkey: 4896\n",
      "Number of duplicated countryids in ciqcountrygeo: 0\n",
      "Number of duplicated countries in ciqcountrygeo: 0\n"
     ]
    }
   ],
   "source": [
    "# Check for duplicates.\n",
    "print(\"Checks for wrds_gvkey and ciqcountrygeo:\")\n",
    "print(\"Number of duplicated companyids in wrds_gvkey:\", get_number_of_duplicated_values_in_a_df_col(wrds_gvkey['companyid']))\n",
    "print(\"Number of duplicated gvkeys in wrds_gvkey:\", get_number_of_duplicated_values_in_a_df_col(wrds_gvkey['gvkey']))\n",
    "print(\"Number of duplicated countryids in ciqcountrygeo:\", get_number_of_duplicated_values_in_a_df_col(ciqcountrygeo['countryid']))\n",
    "print(\"Number of duplicated countries in ciqcountrygeo:\", get_number_of_duplicated_values_in_a_df_col(ciqcountrygeo['country']))\n",
    "\n",
    "# Some company names have multiple companyids - so 1 gvkey can be linked to multiple companyids. \n",
    "# But 1 companyid should be linked to only 1 gvkey. So we remove duplicates for companyid.\n",
    "# The ciqcountrygeo dataset should be perfectly 1:1, i.e. no duplicated countryid or country."
   ]
  },
  {
   "cell_type": "code",
   "execution_count": 8,
   "id": "bbe16b40",
   "metadata": {},
   "outputs": [
    {
     "name": "stdout",
     "output_type": "stream",
     "text": [
      "Dropped duplicates for companyid in wrds_gvkey, redoing checks:\n",
      "Number of duplicated companyids in wrds_gvkey: 0\n",
      "Number of duplicated gvkeys in wrds_gvkey: 4812\n",
      "Number of duplicated countryids in ciqcountrygeo: 0\n",
      "Number of duplicated countries in ciqcountrygeo: 0\n"
     ]
    }
   ],
   "source": [
    "# Some companyids have multiple gvkeys. We keep only the first gvkey.\n",
    "print(\"Dropped duplicates for companyid in wrds_gvkey, redoing checks:\")\n",
    "wrds_gvkey = wrds_gvkey.drop_duplicates('companyid')\n",
    "print(\"Number of duplicated companyids in wrds_gvkey:\", get_number_of_duplicated_values_in_a_df_col(wrds_gvkey['companyid']))\n",
    "print(\"Number of duplicated gvkeys in wrds_gvkey:\", get_number_of_duplicated_values_in_a_df_col(wrds_gvkey['gvkey']))\n",
    "print(\"Number of duplicated countryids in ciqcountrygeo:\", get_number_of_duplicated_values_in_a_df_col(ciqcountrygeo['countryid']))\n",
    "print(\"Number of duplicated countries in ciqcountrygeo:\", get_number_of_duplicated_values_in_a_df_col(ciqcountrygeo['country']))\n"
   ]
  },
  {
   "cell_type": "code",
   "execution_count": 9,
   "id": "2f81b923",
   "metadata": {},
   "outputs": [],
   "source": [
    "# Idea: Merge ciqcompany with gvkey and country\n",
    "# 1. Merge ciqcompany with gvkey - 1 companyid in ciqcompany <=> 1 company id in wrds_gvkey\n",
    "ciqcompany = ciqcompany.merge(wrds_gvkey, on='companyid', how='left', validate='1:1')\n",
    "gc.collect() # Delete collectable items to clear memory\n",
    "\n",
    "# 2. Merge (ciqcompany, gvkey) with country - 1 countryid in ciqcompany => 1 countryid in ciqcountrygeo\n",
    "ciqcompany = ciqcompany.merge(ciqcountrygeo, on='countryid', how='left', validate='m:1')"
   ]
  },
  {
   "cell_type": "code",
   "execution_count": 10,
   "id": "e3141c5f",
   "metadata": {},
   "outputs": [
    {
     "name": "stdout",
     "output_type": "stream",
     "text": [
      "Number of rows of ciqcompany (merged) without gvkeys: 27472708\n",
      "Dropped NaN values for gvkey, checking stats:\n",
      "Number of rows of ciqcompany (merged): 120433\n",
      "Number of unique gvkeys in ciqcompany (merged): 115150\n",
      "Number of unique companyids in ciqcompany (merged): 120433\n",
      "Number of unique companynames in ciqcompany (merged): 119662\n",
      "Number of duplicated companynames in ciqcompany (merged): 754\n"
     ]
    }
   ],
   "source": [
    "# Check: Number of rows without gvkeys\n",
    "print(\"Number of rows of ciqcompany (merged) without gvkeys:\", ciqcompany['gvkey'].isna().sum())\n",
    "\n",
    "# Drop rows with NaN values for gvkeys\n",
    "ciqcompany = ciqcompany.dropna(subset=['gvkey'])\n",
    "print(\"Dropped NaN values for gvkey, checking stats:\")\n",
    "print(\"Number of rows of ciqcompany (merged):\", ciqcompany.shape[0])\n",
    "print(\"Number of unique gvkeys in ciqcompany (merged):\", ciqcompany['gvkey'].nunique())\n",
    "print(\"Number of unique companyids in ciqcompany (merged):\", ciqcompany['companyid'].nunique())\n",
    "print(\"Number of unique companynames in ciqcompany (merged):\", ciqcompany['companyname'].nunique())\n",
    "print(\"Number of duplicated companynames in ciqcompany (merged):\", get_number_of_duplicated_values_in_a_df_col(ciqcompany['companyname']))\n",
    "\n",
    "# Some companynames are duplicated because the company has branches in multiple countries. So each country's branch has its own companyid and countryid. \n",
    "# Some companynames just have multiple companyids even with the same countryid.\n",
    "# In both cases, we only want the companyname, not the id. So we take the first companyname."
   ]
  },
  {
   "cell_type": "code",
   "execution_count": 11,
   "id": "1ea8f2b6",
   "metadata": {},
   "outputs": [
    {
     "name": "stdout",
     "output_type": "stream",
     "text": [
      "Dropped duplicates for companyname, rechecking stats:\n",
      "Number of rows of ciqcompany (merged): 119662\n",
      "Number of unique gvkeys in ciqcompany (merged): 114783\n",
      "Number of unique companyids in ciqcompany (merged): 119662\n",
      "Number of unique companynames in ciqcompany (merged): 119662\n",
      "Number of duplicated companynames in ciqcompany (merged): 0\n"
     ]
    }
   ],
   "source": [
    "# Drop duplicates for company name, and recheck statistics\n",
    "ciqcompany = ciqcompany.drop_duplicates('companyname')\n",
    "print(\"Dropped duplicates for companyname, rechecking stats:\")\n",
    "print(\"Number of rows of ciqcompany (merged):\", ciqcompany.shape[0])\n",
    "print(\"Number of unique gvkeys in ciqcompany (merged):\", ciqcompany['gvkey'].nunique())\n",
    "print(\"Number of unique companyids in ciqcompany (merged):\", ciqcompany['companyid'].nunique())\n",
    "print(\"Number of unique companynames in ciqcompany (merged):\", ciqcompany['companyname'].nunique())\n",
    "print(\"Number of duplicated companynames in ciqcompany (merged):\", get_number_of_duplicated_values_in_a_df_col(ciqcompany['companyname']))"
   ]
  },
  {
   "cell_type": "code",
   "execution_count": 12,
   "id": "2f724727",
   "metadata": {},
   "outputs": [
    {
     "data": {
      "text/html": [
       "<div>\n",
       "<style scoped>\n",
       "    .dataframe tbody tr th:only-of-type {\n",
       "        vertical-align: middle;\n",
       "    }\n",
       "\n",
       "    .dataframe tbody tr th {\n",
       "        vertical-align: top;\n",
       "    }\n",
       "\n",
       "    .dataframe thead th {\n",
       "        text-align: right;\n",
       "    }\n",
       "</style>\n",
       "<table border=\"1\" class=\"dataframe\">\n",
       "  <thead>\n",
       "    <tr style=\"text-align: right;\">\n",
       "      <th></th>\n",
       "      <th>companyid</th>\n",
       "      <th>companyname</th>\n",
       "      <th>countryid</th>\n",
       "      <th>gvkey</th>\n",
       "      <th>country</th>\n",
       "    </tr>\n",
       "  </thead>\n",
       "  <tbody>\n",
       "    <tr>\n",
       "      <th>5</th>\n",
       "      <td>1.850700e+04</td>\n",
       "      <td>2M Invest A/S</td>\n",
       "      <td>55.0</td>\n",
       "      <td>235716.0</td>\n",
       "      <td>Denmark</td>\n",
       "    </tr>\n",
       "    <tr>\n",
       "      <th>7</th>\n",
       "      <td>1.851100e+04</td>\n",
       "      <td>3i Group plc</td>\n",
       "      <td>212.0</td>\n",
       "      <td>210835.0</td>\n",
       "      <td>United Kingdom</td>\n",
       "    </tr>\n",
       "    <tr>\n",
       "      <th>14</th>\n",
       "      <td>1.852700e+04</td>\n",
       "      <td>ABB Ltd</td>\n",
       "      <td>195.0</td>\n",
       "      <td>210418.0</td>\n",
       "      <td>Switzerland</td>\n",
       "    </tr>\n",
       "    <tr>\n",
       "      <th>70</th>\n",
       "      <td>1.867100e+04</td>\n",
       "      <td>Albemarle Corporation</td>\n",
       "      <td>213.0</td>\n",
       "      <td>29751.0</td>\n",
       "      <td>United States</td>\n",
       "    </tr>\n",
       "    <tr>\n",
       "      <th>86</th>\n",
       "      <td>1.871100e+04</td>\n",
       "      <td>The Allstate Corporation</td>\n",
       "      <td>213.0</td>\n",
       "      <td>28349.0</td>\n",
       "      <td>United States</td>\n",
       "    </tr>\n",
       "    <tr>\n",
       "      <th>...</th>\n",
       "      <td>...</td>\n",
       "      <td>...</td>\n",
       "      <td>...</td>\n",
       "      <td>...</td>\n",
       "      <td>...</td>\n",
       "    </tr>\n",
       "    <tr>\n",
       "      <th>27569993</th>\n",
       "      <td>1.784731e+09</td>\n",
       "      <td>Borouge plc</td>\n",
       "      <td>211.0</td>\n",
       "      <td>353390.0</td>\n",
       "      <td>United Arab Emirates</td>\n",
       "    </tr>\n",
       "    <tr>\n",
       "      <th>27570484</th>\n",
       "      <td>1.784741e+09</td>\n",
       "      <td>ADC Acquisition Corporation PJSC</td>\n",
       "      <td>211.0</td>\n",
       "      <td>353372.0</td>\n",
       "      <td>United Arab Emirates</td>\n",
       "    </tr>\n",
       "    <tr>\n",
       "      <th>27575304</th>\n",
       "      <td>1.785110e+09</td>\n",
       "      <td>SBI Mutual Fund - SBI Debt Fund Series C - 46 ...</td>\n",
       "      <td>93.0</td>\n",
       "      <td>353418.0</td>\n",
       "      <td>India</td>\n",
       "    </tr>\n",
       "    <tr>\n",
       "      <th>27575305</th>\n",
       "      <td>1.785110e+09</td>\n",
       "      <td>SBI Mutual Fund - SBI Debt Fund Series C - 35 ...</td>\n",
       "      <td>93.0</td>\n",
       "      <td>353419.0</td>\n",
       "      <td>India</td>\n",
       "    </tr>\n",
       "    <tr>\n",
       "      <th>27581939</th>\n",
       "      <td>1.785478e+09</td>\n",
       "      <td>Tianhong Asset Management Co. Ltd. - CSI Star ...</td>\n",
       "      <td>43.0</td>\n",
       "      <td>353453.0</td>\n",
       "      <td>China</td>\n",
       "    </tr>\n",
       "  </tbody>\n",
       "</table>\n",
       "<p>119662 rows × 5 columns</p>\n",
       "</div>"
      ],
      "text/plain": [
       "             companyid                                        companyname  \\\n",
       "5         1.850700e+04                                      2M Invest A/S   \n",
       "7         1.851100e+04                                       3i Group plc   \n",
       "14        1.852700e+04                                            ABB Ltd   \n",
       "70        1.867100e+04                              Albemarle Corporation   \n",
       "86        1.871100e+04                           The Allstate Corporation   \n",
       "...                ...                                                ...   \n",
       "27569993  1.784731e+09                                        Borouge plc   \n",
       "27570484  1.784741e+09                   ADC Acquisition Corporation PJSC   \n",
       "27575304  1.785110e+09  SBI Mutual Fund - SBI Debt Fund Series C - 46 ...   \n",
       "27575305  1.785110e+09  SBI Mutual Fund - SBI Debt Fund Series C - 35 ...   \n",
       "27581939  1.785478e+09  Tianhong Asset Management Co. Ltd. - CSI Star ...   \n",
       "\n",
       "          countryid     gvkey               country  \n",
       "5              55.0  235716.0               Denmark  \n",
       "7             212.0  210835.0        United Kingdom  \n",
       "14            195.0  210418.0           Switzerland  \n",
       "70            213.0   29751.0         United States  \n",
       "86            213.0   28349.0         United States  \n",
       "...             ...       ...                   ...  \n",
       "27569993      211.0  353390.0  United Arab Emirates  \n",
       "27570484      211.0  353372.0  United Arab Emirates  \n",
       "27575304       93.0  353418.0                 India  \n",
       "27575305       93.0  353419.0                 India  \n",
       "27581939       43.0  353453.0                 China  \n",
       "\n",
       "[119662 rows x 5 columns]"
      ]
     },
     "execution_count": 12,
     "metadata": {},
     "output_type": "execute_result"
    }
   ],
   "source": [
    "ciqcompany"
   ]
  },
  {
   "cell_type": "code",
   "execution_count": 13,
   "id": "ebed7409",
   "metadata": {},
   "outputs": [
    {
     "name": "stdout",
     "output_type": "stream",
     "text": [
      "Saved merged and processed compustat files to: C:\\Users\\jasonjia\\Dropbox\\Projects\\conference_call\\output\\04_match_firm_names_to_gvkeys\\04.1_process_compustat_and_hassan_files\\compustat_processed\\20220705\\ciqcompany_mergedwithgvkeyandcountry.csv\n"
     ]
    }
   ],
   "source": [
    "# Save the merged df into csv\n",
    "ciqcompany.to_csv(outputfilepath, index = False)\n",
    "print(\"Saved merged and processed compustat files to:\", outputfilepath)"
   ]
  },
  {
   "cell_type": "code",
   "execution_count": null,
   "id": "9007a2be",
   "metadata": {},
   "outputs": [],
   "source": []
  }
 ],
 "metadata": {
  "kernelspec": {
   "display_name": "Python 3 (ipykernel)",
   "language": "python",
   "name": "python3"
  },
  "language_info": {
   "codemirror_mode": {
    "name": "ipython",
    "version": 3
   },
   "file_extension": ".py",
   "mimetype": "text/x-python",
   "name": "python",
   "nbconvert_exporter": "python",
   "pygments_lexer": "ipython3",
   "version": "3.9.7"
  }
 },
 "nbformat": 4,
 "nbformat_minor": 5
}
