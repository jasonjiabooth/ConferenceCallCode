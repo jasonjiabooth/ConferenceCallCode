{
 "cells": [
  {
   "cell_type": "code",
   "execution_count": 1,
   "id": "8cca0203",
   "metadata": {},
   "outputs": [],
   "source": [
    "# Import Packages\n",
    "import pandas as pd, numpy as np\n",
    "import os, sys, glob, re\n",
    "from pathlib import Path\n",
    "from itertools import compress\n",
    "\n",
    "# Set the max number of columns and rows to display in Jupyter Notebooks\n",
    "pd.set_option(\"display.max_columns\", None)\n",
    "pd.set_option(\"display.max_rows\", None)"
   ]
  },
  {
   "cell_type": "code",
   "execution_count": 2,
   "id": "6c6b5468",
   "metadata": {},
   "outputs": [],
   "source": [
    "pdf_titles_filepath = Path(r\"C:\\Users\\jasonjia\\Dropbox\\Projects\\conference_call\\output\\01_download_cc\\01.1_pdf_20210101_20220617\\20210101_20220617_pdf_titles.xlsx\")\n",
    "xls_combined_filepath = Path(r\"C:\\Users\\jasonjia\\Dropbox\\Projects\\conference_call\\output\\01_download_cc\\01.1_xls_20210101_20220617\\20210101_20220617_xls_combined.xlsx\")"
   ]
  },
  {
   "cell_type": "code",
   "execution_count": 3,
   "id": "eef51884",
   "metadata": {},
   "outputs": [],
   "source": [
    "# Functions\n",
    "def print_test_result(number_of_failed_rows):\n",
    "    print(\"Number of rows:\", number_of_failed_rows)\n",
    "    if number_of_failed_rows == 0:\n",
    "        print(\"Test passed!\")\n",
    "    else:\n",
    "        print(\"Test failed!\")"
   ]
  },
  {
   "cell_type": "markdown",
   "id": "0191e90d",
   "metadata": {},
   "source": [
    "# Import files"
   ]
  },
  {
   "cell_type": "code",
   "execution_count": 4,
   "id": "4ea61773",
   "metadata": {},
   "outputs": [
    {
     "data": {
      "text/html": [
       "<div>\n",
       "<style scoped>\n",
       "    .dataframe tbody tr th:only-of-type {\n",
       "        vertical-align: middle;\n",
       "    }\n",
       "\n",
       "    .dataframe tbody tr th {\n",
       "        vertical-align: top;\n",
       "    }\n",
       "\n",
       "    .dataframe thead th {\n",
       "        text-align: right;\n",
       "    }\n",
       "</style>\n",
       "<table border=\"1\" class=\"dataframe\">\n",
       "  <thead>\n",
       "    <tr style=\"text-align: right;\">\n",
       "      <th></th>\n",
       "      <th>filestem</th>\n",
       "      <th>index</th>\n",
       "      <th>title_pdf</th>\n",
       "    </tr>\n",
       "  </thead>\n",
       "  <tbody>\n",
       "    <tr>\n",
       "      <th>0</th>\n",
       "      <td>20201229-20210101_1</td>\n",
       "      <td>0</td>\n",
       "      <td>MAHINDRA &amp; MAHINDRA</td>\n",
       "    </tr>\n",
       "    <tr>\n",
       "      <th>1</th>\n",
       "      <td>20201229-20210101_1</td>\n",
       "      <td>1</td>\n",
       "      <td>SOCIAL REALITY INC</td>\n",
       "    </tr>\n",
       "    <tr>\n",
       "      <th>2</th>\n",
       "      <td>20201229-20210101_1</td>\n",
       "      <td>2</td>\n",
       "      <td>MIRAGEN THERAPEUTICS INC</td>\n",
       "    </tr>\n",
       "  </tbody>\n",
       "</table>\n",
       "</div>"
      ],
      "text/plain": [
       "              filestem  index                 title_pdf\n",
       "0  20201229-20210101_1      0       MAHINDRA & MAHINDRA\n",
       "1  20201229-20210101_1      1        SOCIAL REALITY INC\n",
       "2  20201229-20210101_1      2  MIRAGEN THERAPEUTICS INC"
      ]
     },
     "execution_count": 4,
     "metadata": {},
     "output_type": "execute_result"
    }
   ],
   "source": [
    "# Import pdf_titles\n",
    "pdf_titles = pd.read_excel(pdf_titles_filepath)\n",
    "pdf_titles = pdf_titles.rename(columns = {'Unnamed: 0': 'index', 'Title': 'title_pdf'})\n",
    "pdf_titles = pdf_titles.reindex(columns=['filestem', 'index', 'title_pdf'])\n",
    "pdf_titles['title_pdf'] = pdf_titles['title_pdf'].str.strip()\n",
    "pdf_titles['title_pdf'] = pdf_titles['title_pdf'].str.upper()\n",
    "pdf_titles['title_pdf'] = pdf_titles['title_pdf'].str.replace(' +', ' ', regex = True)\n",
    "pdf_titles.head(3)"
   ]
  },
  {
   "cell_type": "code",
   "execution_count": 5,
   "id": "e05c7731",
   "metadata": {},
   "outputs": [
    {
     "data": {
      "text/html": [
       "<div>\n",
       "<style scoped>\n",
       "    .dataframe tbody tr th:only-of-type {\n",
       "        vertical-align: middle;\n",
       "    }\n",
       "\n",
       "    .dataframe tbody tr th {\n",
       "        vertical-align: top;\n",
       "    }\n",
       "\n",
       "    .dataframe thead th {\n",
       "        text-align: right;\n",
       "    }\n",
       "</style>\n",
       "<table border=\"1\" class=\"dataframe\">\n",
       "  <thead>\n",
       "    <tr style=\"text-align: right;\">\n",
       "      <th></th>\n",
       "      <th>filestem</th>\n",
       "      <th>index</th>\n",
       "      <th>title_xls</th>\n",
       "    </tr>\n",
       "  </thead>\n",
       "  <tbody>\n",
       "    <tr>\n",
       "      <th>0</th>\n",
       "      <td>20201229-20210101_1</td>\n",
       "      <td>0</td>\n",
       "      <td>MAHINDRA &amp; MAHINDRA</td>\n",
       "    </tr>\n",
       "    <tr>\n",
       "      <th>1</th>\n",
       "      <td>20201229-20210101_1</td>\n",
       "      <td>1</td>\n",
       "      <td>SOCIAL REALITY INC</td>\n",
       "    </tr>\n",
       "    <tr>\n",
       "      <th>2</th>\n",
       "      <td>20201229-20210101_1</td>\n",
       "      <td>2</td>\n",
       "      <td>MIRAGEN THERAPEUTICS INC</td>\n",
       "    </tr>\n",
       "  </tbody>\n",
       "</table>\n",
       "</div>"
      ],
      "text/plain": [
       "              filestem  index                 title_xls\n",
       "0  20201229-20210101_1      0       MAHINDRA & MAHINDRA\n",
       "1  20201229-20210101_1      1        SOCIAL REALITY INC\n",
       "2  20201229-20210101_1      2  MIRAGEN THERAPEUTICS INC"
      ]
     },
     "execution_count": 5,
     "metadata": {},
     "output_type": "execute_result"
    }
   ],
   "source": [
    "# Import xls_combined and get xls_titles\n",
    "xls_combined = pd.read_excel(xls_combined_filepath, usecols = [0, 3, 14])\n",
    "xls_titles = xls_combined.rename(columns = {'Unnamed: 0': 'index', 'Title': 'title_xls'})\n",
    "xls_titles = xls_titles.reindex(columns=['filestem', 'index', 'title_xls'])\n",
    "xls_titles['title_xls'] = xls_titles['title_xls'].str.strip()\n",
    "xls_titles['title_xls'] = xls_titles['title_xls'].str.upper()\n",
    "xls_titles['title_xls'] = xls_titles['title_xls'].str.replace(' +', ' ', regex = True)\n",
    "xls_titles.head(3)"
   ]
  },
  {
   "cell_type": "markdown",
   "id": "4d75212e",
   "metadata": {},
   "source": [
    "# Manual replacements"
   ]
  },
  {
   "cell_type": "code",
   "execution_count": 6,
   "id": "7dfb9cd1",
   "metadata": {},
   "outputs": [],
   "source": [
    "# Manual replacements\n",
    "# Some .pdf files only have 1 conference call, and the title is extracted using the metadata.\n",
    "# However, these may not be the same as the title in the corresponding .xls file, even though it refers to the same firm.\n",
    "# Hence, we manually replace entries in pdf_titles.xlsx once we have checked that the firm names are correct:\n",
    "pdf_titles = pdf_titles.replace({'title_pdf': {'MEREDITH CORP': 'MEREDITH CORPORATION', \n",
    "                                 'BLACKBAUD INC': 'BLACKBAUD, INC.'}})"
   ]
  },
  {
   "cell_type": "markdown",
   "id": "bb178faa",
   "metadata": {},
   "source": [
    "# Tests"
   ]
  },
  {
   "cell_type": "code",
   "execution_count": 7,
   "id": "252f3d99",
   "metadata": {},
   "outputs": [
    {
     "name": "stdout",
     "output_type": "stream",
     "text": [
      "The following are .pdf rows without a corresponding .xls row with the same (filestem, index):\n",
      "Number of rows: 0\n",
      "Test passed!\n"
     ]
    },
    {
     "data": {
      "text/html": [
       "<div>\n",
       "<style scoped>\n",
       "    .dataframe tbody tr th:only-of-type {\n",
       "        vertical-align: middle;\n",
       "    }\n",
       "\n",
       "    .dataframe tbody tr th {\n",
       "        vertical-align: top;\n",
       "    }\n",
       "\n",
       "    .dataframe thead th {\n",
       "        text-align: right;\n",
       "    }\n",
       "</style>\n",
       "<table border=\"1\" class=\"dataframe\">\n",
       "  <thead>\n",
       "    <tr style=\"text-align: right;\">\n",
       "      <th></th>\n",
       "      <th>filestem</th>\n",
       "      <th>index</th>\n",
       "      <th>title_pdf</th>\n",
       "      <th>title_xls</th>\n",
       "      <th>_merge</th>\n",
       "    </tr>\n",
       "  </thead>\n",
       "  <tbody>\n",
       "  </tbody>\n",
       "</table>\n",
       "</div>"
      ],
      "text/plain": [
       "Empty DataFrame\n",
       "Columns: [filestem, index, title_pdf, title_xls, _merge]\n",
       "Index: []"
      ]
     },
     "execution_count": 7,
     "metadata": {},
     "output_type": "execute_result"
    }
   ],
   "source": [
    "# Test 1\n",
    "left_merge = pdf_titles.merge(xls_titles, how='left', on=['filestem', 'index'], indicator=True)\n",
    "print(\"The following are .pdf rows without a corresponding .xls row with the same (filestem, index):\")\n",
    "test_1 = left_merge[left_merge['_merge'] != 'both']\n",
    "print_test_result(test_1.shape[0])\n",
    "test_1"
   ]
  },
  {
   "cell_type": "code",
   "execution_count": 8,
   "id": "4f3a7540",
   "metadata": {},
   "outputs": [
    {
     "name": "stdout",
     "output_type": "stream",
     "text": [
      "The following are .xls rows without a corresponding .pdf row with the same (filestem, index):\n",
      "Number of rows: 0\n",
      "Test passed!\n"
     ]
    },
    {
     "data": {
      "text/html": [
       "<div>\n",
       "<style scoped>\n",
       "    .dataframe tbody tr th:only-of-type {\n",
       "        vertical-align: middle;\n",
       "    }\n",
       "\n",
       "    .dataframe tbody tr th {\n",
       "        vertical-align: top;\n",
       "    }\n",
       "\n",
       "    .dataframe thead th {\n",
       "        text-align: right;\n",
       "    }\n",
       "</style>\n",
       "<table border=\"1\" class=\"dataframe\">\n",
       "  <thead>\n",
       "    <tr style=\"text-align: right;\">\n",
       "      <th></th>\n",
       "      <th>filestem</th>\n",
       "      <th>index</th>\n",
       "      <th>title_pdf</th>\n",
       "      <th>title_xls</th>\n",
       "      <th>_merge</th>\n",
       "    </tr>\n",
       "  </thead>\n",
       "  <tbody>\n",
       "  </tbody>\n",
       "</table>\n",
       "</div>"
      ],
      "text/plain": [
       "Empty DataFrame\n",
       "Columns: [filestem, index, title_pdf, title_xls, _merge]\n",
       "Index: []"
      ]
     },
     "execution_count": 8,
     "metadata": {},
     "output_type": "execute_result"
    }
   ],
   "source": [
    "# Test 2\n",
    "right_merge = pdf_titles.merge(xls_titles, how='right', on=['filestem', 'index'], indicator=True)\n",
    "print(\"The following are .xls rows without a corresponding .pdf row with the same (filestem, index):\")\n",
    "test_2 = right_merge[right_merge['_merge'] != 'both']\n",
    "print_test_result(test_2.shape[0])\n",
    "test_2"
   ]
  },
  {
   "cell_type": "code",
   "execution_count": 9,
   "id": "add2b6d7",
   "metadata": {},
   "outputs": [
    {
     "name": "stdout",
     "output_type": "stream",
     "text": [
      "The following are .pdf rows with a corresponding .xls row with the same (filestem, index), \n",
      "but having different titles (firm names):\n",
      "Number of rows: 0\n",
      "Test passed!\n"
     ]
    },
    {
     "data": {
      "text/html": [
       "<div>\n",
       "<style scoped>\n",
       "    .dataframe tbody tr th:only-of-type {\n",
       "        vertical-align: middle;\n",
       "    }\n",
       "\n",
       "    .dataframe tbody tr th {\n",
       "        vertical-align: top;\n",
       "    }\n",
       "\n",
       "    .dataframe thead th {\n",
       "        text-align: right;\n",
       "    }\n",
       "</style>\n",
       "<table border=\"1\" class=\"dataframe\">\n",
       "  <thead>\n",
       "    <tr style=\"text-align: right;\">\n",
       "      <th></th>\n",
       "      <th>filestem</th>\n",
       "      <th>index</th>\n",
       "      <th>title_pdf</th>\n",
       "      <th>title_xls</th>\n",
       "      <th>_merge</th>\n",
       "    </tr>\n",
       "  </thead>\n",
       "  <tbody>\n",
       "  </tbody>\n",
       "</table>\n",
       "</div>"
      ],
      "text/plain": [
       "Empty DataFrame\n",
       "Columns: [filestem, index, title_pdf, title_xls, _merge]\n",
       "Index: []"
      ]
     },
     "execution_count": 9,
     "metadata": {},
     "output_type": "execute_result"
    }
   ],
   "source": [
    "# Test 3\n",
    "print(\"The following are .pdf rows with a corresponding .xls row with the same (filestem, index),\", \n",
    "      \"\\nbut having different titles (firm names):\")\n",
    "inner_merge = pdf_titles.merge(xls_titles, how='inner', on=['filestem', 'index'], indicator=True)\n",
    "test_3 = inner_merge[inner_merge['title_pdf'] != inner_merge['title_xls']]\n",
    "print_test_result(test_3.shape[0])\n",
    "test_3"
   ]
  },
  {
   "cell_type": "code",
   "execution_count": 11,
   "id": "2993b9b3",
   "metadata": {
    "scrolled": true
   },
   "outputs": [
    {
     "name": "stdout",
     "output_type": "stream",
     "text": [
      "Problematic filestems to check:\n",
      "[]\n",
      "[]\n",
      "[]\n"
     ]
    }
   ],
   "source": [
    "# View all problematic filestems\n",
    "print(\"Problematic filestems to check:\")\n",
    "print(test_1['filestem'].unique())\n",
    "print(test_2['filestem'].unique())\n",
    "print(test_3['filestem'].unique())"
   ]
  },
  {
   "cell_type": "markdown",
   "id": "d8a18762",
   "metadata": {},
   "source": [
    "# Misc Checks"
   ]
  },
  {
   "cell_type": "code",
   "execution_count": 29,
   "id": "4fd1ddca",
   "metadata": {},
   "outputs": [
    {
     "name": "stdout",
     "output_type": "stream",
     "text": [
      "The following are .pdf rows with the same filestem and title (firm name), which may be duplicates, but are most likely not:\n",
      "Number of rows: 4295\n"
     ]
    }
   ],
   "source": [
    "# Check 1\n",
    "print(\"The following are .pdf rows with the same filestem and title (firm name), which may be duplicates, but are most likely not:\")\n",
    "check_1 = pdf_titles[pdf_titles.duplicated(['filestem', 'title_pdf'], keep=False)]\n",
    "print(\"Number of rows:\", check_1.shape[0])"
   ]
  }
 ],
 "metadata": {
  "kernelspec": {
   "display_name": "Python 3 (ipykernel)",
   "language": "python",
   "name": "python3"
  },
  "language_info": {
   "codemirror_mode": {
    "name": "ipython",
    "version": 3
   },
   "file_extension": ".py",
   "mimetype": "text/x-python",
   "name": "python",
   "nbconvert_exporter": "python",
   "pygments_lexer": "ipython3",
   "version": "3.9.7"
  }
 },
 "nbformat": 4,
 "nbformat_minor": 5
}
