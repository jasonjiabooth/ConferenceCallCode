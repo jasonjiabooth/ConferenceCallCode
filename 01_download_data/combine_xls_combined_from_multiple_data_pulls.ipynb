{
 "cells": [
  {
   "cell_type": "code",
   "execution_count": 1,
   "id": "e886aca4",
   "metadata": {},
   "outputs": [],
   "source": [
    "import pandas as pd\n",
    "from pathlib import Path"
   ]
  },
  {
   "cell_type": "code",
   "execution_count": 2,
   "id": "6f7b2890",
   "metadata": {},
   "outputs": [],
   "source": [
    "inputfilepath1 = Path(r\"C:\\Users\\jasonjia\\Dropbox\\Projects\\conference_call\\output\\01_download_cc\\01.2_xls_combined\\multiple_data_pulls_combined\\20010101-20210909\\xls_compiled_20010101-20210909.csv\")\n",
    "inputfilepath2 = Path(r\"C:\\Users\\jasonjia\\Dropbox\\Projects\\conference_call\\output\\01_download_cc\\01.2_xls_combined\\single_data_pull\\20210101-20220617\\xls_combined_20210101-20220617.xlsx\")\n",
    "outputfilepath = Path(r\"C:\\Users\\jasonjia\\Dropbox\\Projects\\conference_call\\output\\01_download_cc\\01.2_xls_combined\\multiple_data_pulls_combined\\20010101-20220617\\xls_compiled_20010101-20220617.csv\")"
   ]
  },
  {
   "cell_type": "code",
   "execution_count": 3,
   "id": "049a3278",
   "metadata": {},
   "outputs": [],
   "source": [
    "# Import files\n",
    "df1 = pd.read_csv(inputfilepath1, low_memory=False)\n",
    "df2 = pd.read_excel(inputfilepath2)"
   ]
  },
  {
   "cell_type": "code",
   "execution_count": 4,
   "id": "cf5400c2",
   "metadata": {},
   "outputs": [
    {
     "data": {
      "text/html": [
       "<div>\n",
       "<style scoped>\n",
       "    .dataframe tbody tr th:only-of-type {\n",
       "        vertical-align: middle;\n",
       "    }\n",
       "\n",
       "    .dataframe tbody tr th {\n",
       "        vertical-align: top;\n",
       "    }\n",
       "\n",
       "    .dataframe thead th {\n",
       "        text-align: right;\n",
       "    }\n",
       "</style>\n",
       "<table border=\"1\" class=\"dataframe\">\n",
       "  <thead>\n",
       "    <tr style=\"text-align: right;\">\n",
       "      <th></th>\n",
       "      <th>0</th>\n",
       "      <th>Analyst</th>\n",
       "      <th>Collection</th>\n",
       "      <th>Contributor</th>\n",
       "      <th>Date</th>\n",
       "      <th>Language</th>\n",
       "      <th>PPV</th>\n",
       "      <th>Pages</th>\n",
       "      <th>Price</th>\n",
       "      <th>Ratings</th>\n",
       "      <th>Report #</th>\n",
       "      <th>Subtitle</th>\n",
       "      <th>TOC</th>\n",
       "      <th>Title</th>\n",
       "      <th>Count</th>\n",
       "    </tr>\n",
       "  </thead>\n",
       "  <tbody>\n",
       "    <tr>\n",
       "      <th>0</th>\n",
       "      <td>NaN</td>\n",
       "      <td>ANON</td>\n",
       "      <td>INV</td>\n",
       "      <td>THOMSON REUTERS STREETEVENTS</td>\n",
       "      <td>11/08/12</td>\n",
       "      <td>English</td>\n",
       "      <td>N</td>\n",
       "      <td>17.0</td>\n",
       "      <td>Subscription</td>\n",
       "      <td>NaN</td>\n",
       "      <td>21044925.0</td>\n",
       "      <td>FSYS.OQ - Event Transcript of Fuel Systems Sol...</td>\n",
       "      <td>Y</td>\n",
       "      <td>FUEL SYSTEMS SOLUTIONS INC</td>\n",
       "      <td>NaN</td>\n",
       "    </tr>\n",
       "  </tbody>\n",
       "</table>\n",
       "</div>"
      ],
      "text/plain": [
       "     0 Analyst Collection                   Contributor      Date Language  \\\n",
       "0  NaN    ANON        INV  THOMSON REUTERS STREETEVENTS  11/08/12  English   \n",
       "\n",
       "  PPV  Pages         Price Ratings    Report #  \\\n",
       "0   N   17.0  Subscription     NaN  21044925.0   \n",
       "\n",
       "                                            Subtitle TOC  \\\n",
       "0  FSYS.OQ - Event Transcript of Fuel Systems Sol...   Y   \n",
       "\n",
       "                        Title  Count  \n",
       "0  FUEL SYSTEMS SOLUTIONS INC    NaN  "
      ]
     },
     "execution_count": 4,
     "metadata": {},
     "output_type": "execute_result"
    }
   ],
   "source": [
    "df1.head(1)"
   ]
  },
  {
   "cell_type": "code",
   "execution_count": 5,
   "id": "7f242fb1",
   "metadata": {},
   "outputs": [
    {
     "data": {
      "text/html": [
       "<div>\n",
       "<style scoped>\n",
       "    .dataframe tbody tr th:only-of-type {\n",
       "        vertical-align: middle;\n",
       "    }\n",
       "\n",
       "    .dataframe tbody tr th {\n",
       "        vertical-align: top;\n",
       "    }\n",
       "\n",
       "    .dataframe thead th {\n",
       "        text-align: right;\n",
       "    }\n",
       "</style>\n",
       "<table border=\"1\" class=\"dataframe\">\n",
       "  <thead>\n",
       "    <tr style=\"text-align: right;\">\n",
       "      <th></th>\n",
       "      <th>Unnamed: 0</th>\n",
       "      <th>PPV</th>\n",
       "      <th>TOC</th>\n",
       "      <th>Title</th>\n",
       "      <th>Subtitle</th>\n",
       "      <th>Date</th>\n",
       "      <th>Pages</th>\n",
       "      <th>Price</th>\n",
       "      <th>Contributor</th>\n",
       "      <th>Analyst</th>\n",
       "      <th>Ratings</th>\n",
       "      <th>Language</th>\n",
       "      <th>Report #</th>\n",
       "      <th>Collection</th>\n",
       "      <th>filestem</th>\n",
       "    </tr>\n",
       "  </thead>\n",
       "  <tbody>\n",
       "    <tr>\n",
       "      <th>0</th>\n",
       "      <td>0</td>\n",
       "      <td>N</td>\n",
       "      <td>Y</td>\n",
       "      <td>MAHINDRA &amp; MAHINDRA</td>\n",
       "      <td>MAHM.NS - Event Transcript of Mahindra and Mah...</td>\n",
       "      <td>01/01/21</td>\n",
       "      <td>24</td>\n",
       "      <td>Subscription</td>\n",
       "      <td>THOMSON REUTERS STREETEVENTS</td>\n",
       "      <td>ANON</td>\n",
       "      <td>NaN</td>\n",
       "      <td>English</td>\n",
       "      <td>71149754</td>\n",
       "      <td>INV</td>\n",
       "      <td>20201229-20210101_1</td>\n",
       "    </tr>\n",
       "  </tbody>\n",
       "</table>\n",
       "</div>"
      ],
      "text/plain": [
       "   Unnamed: 0 PPV TOC                Title  \\\n",
       "0           0   N   Y  MAHINDRA & MAHINDRA   \n",
       "\n",
       "                                            Subtitle      Date  Pages  \\\n",
       "0  MAHM.NS - Event Transcript of Mahindra and Mah...  01/01/21     24   \n",
       "\n",
       "          Price                   Contributor Analyst  Ratings Language  \\\n",
       "0  Subscription  THOMSON REUTERS STREETEVENTS    ANON      NaN  English   \n",
       "\n",
       "   Report # Collection             filestem  \n",
       "0  71149754        INV  20201229-20210101_1  "
      ]
     },
     "execution_count": 5,
     "metadata": {},
     "output_type": "execute_result"
    }
   ],
   "source": [
    "df2.head(1)"
   ]
  },
  {
   "cell_type": "code",
   "execution_count": 6,
   "id": "778dcd79",
   "metadata": {},
   "outputs": [
    {
     "data": {
      "text/plain": [
       "Index(['Unnamed: 0', 'PPV', 'TOC', 'Title', 'Subtitle', 'Date', 'Pages',\n",
       "       'Price', 'Contributor', 'Analyst', 'Ratings', 'Language', 'Report #',\n",
       "       'Collection', 'filestem'],\n",
       "      dtype='object')"
      ]
     },
     "execution_count": 6,
     "metadata": {},
     "output_type": "execute_result"
    }
   ],
   "source": [
    "df2.columns"
   ]
  },
  {
   "cell_type": "code",
   "execution_count": 7,
   "id": "ef6393af",
   "metadata": {},
   "outputs": [
    {
     "data": {
      "text/html": [
       "<div>\n",
       "<style scoped>\n",
       "    .dataframe tbody tr th:only-of-type {\n",
       "        vertical-align: middle;\n",
       "    }\n",
       "\n",
       "    .dataframe tbody tr th {\n",
       "        vertical-align: top;\n",
       "    }\n",
       "\n",
       "    .dataframe thead th {\n",
       "        text-align: right;\n",
       "    }\n",
       "</style>\n",
       "<table border=\"1\" class=\"dataframe\">\n",
       "  <thead>\n",
       "    <tr style=\"text-align: right;\">\n",
       "      <th></th>\n",
       "      <th>index</th>\n",
       "      <th>PPV</th>\n",
       "      <th>TOC</th>\n",
       "      <th>Title</th>\n",
       "      <th>Subtitle</th>\n",
       "      <th>Date</th>\n",
       "      <th>Pages</th>\n",
       "      <th>Price</th>\n",
       "      <th>Contributor</th>\n",
       "      <th>Analyst</th>\n",
       "      <th>Ratings</th>\n",
       "      <th>Language</th>\n",
       "      <th>Report #</th>\n",
       "      <th>Collection</th>\n",
       "      <th>filestem</th>\n",
       "    </tr>\n",
       "  </thead>\n",
       "  <tbody>\n",
       "    <tr>\n",
       "      <th>0</th>\n",
       "      <td></td>\n",
       "      <td>N</td>\n",
       "      <td>Y</td>\n",
       "      <td>FUEL SYSTEMS SOLUTIONS INC</td>\n",
       "      <td>FSYS.OQ - Event Transcript of Fuel Systems Sol...</td>\n",
       "      <td>11/08/12</td>\n",
       "      <td>17.0</td>\n",
       "      <td>Subscription</td>\n",
       "      <td>THOMSON REUTERS STREETEVENTS</td>\n",
       "      <td>ANON</td>\n",
       "      <td>NaN</td>\n",
       "      <td>English</td>\n",
       "      <td>21044925.0</td>\n",
       "      <td>INV</td>\n",
       "      <td></td>\n",
       "    </tr>\n",
       "  </tbody>\n",
       "</table>\n",
       "</div>"
      ],
      "text/plain": [
       "  index PPV TOC                       Title  \\\n",
       "0         N   Y  FUEL SYSTEMS SOLUTIONS INC   \n",
       "\n",
       "                                            Subtitle      Date  Pages  \\\n",
       "0  FSYS.OQ - Event Transcript of Fuel Systems Sol...  11/08/12   17.0   \n",
       "\n",
       "          Price                   Contributor Analyst Ratings Language  \\\n",
       "0  Subscription  THOMSON REUTERS STREETEVENTS    ANON     NaN  English   \n",
       "\n",
       "     Report # Collection filestem  \n",
       "0  21044925.0        INV           "
      ]
     },
     "execution_count": 7,
     "metadata": {},
     "output_type": "execute_result"
    }
   ],
   "source": [
    "# Reorganize df1\n",
    "df1['index'] = ''\n",
    "df1['filestem'] = ''\n",
    "df1 = df1[['index', 'PPV', 'TOC', 'Title', 'Subtitle', 'Date', 'Pages', 'Price', 'Contributor', \n",
    "           'Analyst', 'Ratings', 'Language', 'Report #', 'Collection', 'filestem']]\n",
    "df1.head(1)"
   ]
  },
  {
   "cell_type": "code",
   "execution_count": 8,
   "id": "d0832e40",
   "metadata": {},
   "outputs": [
    {
     "data": {
      "text/html": [
       "<div>\n",
       "<style scoped>\n",
       "    .dataframe tbody tr th:only-of-type {\n",
       "        vertical-align: middle;\n",
       "    }\n",
       "\n",
       "    .dataframe tbody tr th {\n",
       "        vertical-align: top;\n",
       "    }\n",
       "\n",
       "    .dataframe thead th {\n",
       "        text-align: right;\n",
       "    }\n",
       "</style>\n",
       "<table border=\"1\" class=\"dataframe\">\n",
       "  <thead>\n",
       "    <tr style=\"text-align: right;\">\n",
       "      <th></th>\n",
       "      <th>index</th>\n",
       "      <th>PPV</th>\n",
       "      <th>TOC</th>\n",
       "      <th>Title</th>\n",
       "      <th>Subtitle</th>\n",
       "      <th>Date</th>\n",
       "      <th>Pages</th>\n",
       "      <th>Price</th>\n",
       "      <th>Contributor</th>\n",
       "      <th>Analyst</th>\n",
       "      <th>Ratings</th>\n",
       "      <th>Language</th>\n",
       "      <th>Report #</th>\n",
       "      <th>Collection</th>\n",
       "      <th>filestem</th>\n",
       "    </tr>\n",
       "  </thead>\n",
       "  <tbody>\n",
       "    <tr>\n",
       "      <th>0</th>\n",
       "      <td>0</td>\n",
       "      <td>N</td>\n",
       "      <td>Y</td>\n",
       "      <td>MAHINDRA &amp; MAHINDRA</td>\n",
       "      <td>MAHM.NS - Event Transcript of Mahindra and Mah...</td>\n",
       "      <td>01/01/21</td>\n",
       "      <td>24</td>\n",
       "      <td>Subscription</td>\n",
       "      <td>THOMSON REUTERS STREETEVENTS</td>\n",
       "      <td>ANON</td>\n",
       "      <td>NaN</td>\n",
       "      <td>English</td>\n",
       "      <td>71149754</td>\n",
       "      <td>INV</td>\n",
       "      <td>20201229-20210101_1</td>\n",
       "    </tr>\n",
       "  </tbody>\n",
       "</table>\n",
       "</div>"
      ],
      "text/plain": [
       "   index PPV TOC                Title  \\\n",
       "0      0   N   Y  MAHINDRA & MAHINDRA   \n",
       "\n",
       "                                            Subtitle      Date  Pages  \\\n",
       "0  MAHM.NS - Event Transcript of Mahindra and Mah...  01/01/21     24   \n",
       "\n",
       "          Price                   Contributor Analyst  Ratings Language  \\\n",
       "0  Subscription  THOMSON REUTERS STREETEVENTS    ANON      NaN  English   \n",
       "\n",
       "   Report # Collection             filestem  \n",
       "0  71149754        INV  20201229-20210101_1  "
      ]
     },
     "execution_count": 8,
     "metadata": {},
     "output_type": "execute_result"
    }
   ],
   "source": [
    "# Reoranize df2 \n",
    "df2 = df2.rename(columns = {'Unnamed: 0': 'index'})\n",
    "df2.head(1)"
   ]
  },
  {
   "cell_type": "code",
   "execution_count": 9,
   "id": "d7d1038c",
   "metadata": {},
   "outputs": [
    {
     "name": "stdout",
     "output_type": "stream",
     "text": [
      "Number of rows of df1: 588240\n",
      "Number of rows of df2: 58070\n",
      "Number of rows of df: 646310\n",
      "Saved df to: C:\\Users\\jasonjia\\Dropbox\\Projects\\conference_call\\output\\01_download_cc\\01.2_xls_combined\\multiple_data_pulls_combined\\20010101-20220617\\xls_compiled_20010101-20220617.csv\n"
     ]
    }
   ],
   "source": [
    "# Combine the 2 dfs and save to .csv\n",
    "df = pd.concat([df1, df2])\n",
    "print(\"Number of rows of df1:\", df1.shape[0])\n",
    "print(\"Number of rows of df2:\", df2.shape[0])\n",
    "print(\"Number of rows of df:\", df.shape[0])\n",
    "assert(df1.shape[0] + df2.shape[0] == df.shape[0])\n",
    "df.to_csv(outputfilepath, index=False)\n",
    "print(\"Saved df to:\", outputfilepath)"
   ]
  },
  {
   "cell_type": "code",
   "execution_count": null,
   "id": "9e6ff648",
   "metadata": {},
   "outputs": [],
   "source": []
  }
 ],
 "metadata": {
  "kernelspec": {
   "display_name": "Python 3 (ipykernel)",
   "language": "python",
   "name": "python3"
  },
  "language_info": {
   "codemirror_mode": {
    "name": "ipython",
    "version": 3
   },
   "file_extension": ".py",
   "mimetype": "text/x-python",
   "name": "python",
   "nbconvert_exporter": "python",
   "pygments_lexer": "ipython3",
   "version": "3.9.7"
  }
 },
 "nbformat": 4,
 "nbformat_minor": 5
}
