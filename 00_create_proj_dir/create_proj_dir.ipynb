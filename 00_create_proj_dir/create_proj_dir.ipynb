{
 "cells": [
  {
   "cell_type": "code",
   "execution_count": 1,
   "id": "2f4d81a8",
   "metadata": {},
   "outputs": [],
   "source": [
    "from pathlib import Path\n",
    "import pandas as pd\n",
    "import csv\n",
    "import os \n",
    "\n",
    "# Naming of variables follows terminology of a tree - root, level 1, level 2, ...\n",
    "# A folder's children = files and sub-folders in the folder."
   ]
  },
  {
   "cell_type": "code",
   "execution_count": 2,
   "id": "f80d0b29",
   "metadata": {},
   "outputs": [
    {
     "data": {
      "text/plain": [
       "{}"
      ]
     },
     "execution_count": 2,
     "metadata": {},
     "output_type": "execute_result"
    }
   ],
   "source": [
    "# Create dictionary that will hold all the folder names and paths\n",
    "# where key = name, value = folderpath\n",
    "proj_dir = {}\n",
    "proj_dir"
   ]
  },
  {
   "cell_type": "code",
   "execution_count": 3,
   "id": "a1471be7",
   "metadata": {},
   "outputs": [],
   "source": [
    "# --- Manual: write down root ---\n",
    "proj_dir[\"root_windows\"] = Path(r\"C:\\Users\\jasonjia\\Dropbox\\Projects\\conference_call\")\n",
    "proj_dir[\"root_mercury\"] = Path(r\"/project/kh_mercury_1/conference_call\")"
   ]
  },
  {
   "cell_type": "code",
   "execution_count": 4,
   "id": "48311f13",
   "metadata": {},
   "outputs": [
    {
     "data": {
      "text/plain": [
       "[True, False]"
      ]
     },
     "execution_count": 4,
     "metadata": {},
     "output_type": "execute_result"
    }
   ],
   "source": [
    "# Check if root exists\n",
    "root_set = set(proj_dir.values())\n",
    "[root_folder.exists() for root_folder in root_set]"
   ]
  },
  {
   "cell_type": "code",
   "execution_count": 5,
   "id": "00264030",
   "metadata": {},
   "outputs": [
    {
     "data": {
      "text/plain": [
       "[WindowsPath('C:/Users/jasonjia/Dropbox/Projects/conference_call'),\n",
       " WindowsPath('/project/kh_mercury_1/conference_call')]"
      ]
     },
     "execution_count": 5,
     "metadata": {},
     "output_type": "execute_result"
    }
   ],
   "source": [
    "# Print root folder path\n",
    "[root_folder for root_folder in root_set]"
   ]
  },
  {
   "cell_type": "code",
   "execution_count": 6,
   "id": "7b002fc4",
   "metadata": {},
   "outputs": [
    {
     "name": "stdout",
     "output_type": "stream",
     "text": [
      "{'root_windows': WindowsPath('C:/Users/jasonjia/Dropbox/Projects/conference_call'), 'root_mercury': WindowsPath('/project/kh_mercury_1/conference_call'), 'l1_code': WindowsPath('/project/kh_mercury_1/conference_call/code'), 'l1_documentation': WindowsPath('/project/kh_mercury_1/conference_call/documentation'), 'l1_output': WindowsPath('/project/kh_mercury_1/conference_call/output'), 'l2_create_proj_dir': WindowsPath('/project/kh_mercury_1/conference_call/code/00_create_proj_dir'), 'l2_download_cc': WindowsPath('/project/kh_mercury_1/conference_call/output/01_download_cc'), 'l2_process_cc': WindowsPath('/project/kh_mercury_1/conference_call/output/02_process_cc'), 'l2_firm_identification': WindowsPath('/project/kh_mercury_1/conference_call/output/03_firm_identification'), 'l2_keyword_identification': WindowsPath('/project/kh_mercury_1/conference_call/output/04_keyword_identification'), 'l2_extract_front_page_desc': WindowsPath('/project/kh_mercury_1/conference_call/output/05_extract_front_page_desc'), 'l2_misc': WindowsPath('/project/kh_mercury_1/conference_call/output/misc'), 'l3_pdf_2': WindowsPath('/project/kh_mercury_1/conference_call/output/01_download_cc/01.1_pdf_2'), 'l3_xls_2': WindowsPath('/project/kh_mercury_1/conference_call/output/01_download_cc/01.1_xls_2'), 'l3_pdf_test1': WindowsPath('/project/kh_mercury_1/conference_call/output/01_download_cc/01.1_pdf_test1'), 'l3_xls_test1': WindowsPath('/project/kh_mercury_1/conference_call/output/01_download_cc/01.1_xls_test1'), 'l3_download_cc_checks': WindowsPath('/project/kh_mercury_1/conference_call/output/01_download_cc/checks'), 'l3_txt_2': WindowsPath('/project/kh_mercury_1/conference_call/output/02_process_cc/02.1_txt_2'), 'l3_csv_2': WindowsPath('/project/kh_mercury_1/conference_call/output/02_process_cc/02.2_csv_2'), 'l3_txt_test1': WindowsPath('/project/kh_mercury_1/conference_call/output/02_process_cc/02.1_txt_test1'), 'l3_csv_test1': WindowsPath('/project/kh_mercury_1/conference_call/output/02_process_cc/02.2_csv_test1'), 'l3_process_cc_checks': WindowsPath('/project/kh_mercury_1/conference_call/output/02_process_cc/checks'), 'l3_compustat_sas7bdat': WindowsPath('/project/kh_mercury_1/conference_call/output/03_firm_identification/03.1_compustat_sas7bdat'), 'l3_hassan_raw': WindowsPath('/project/kh_mercury_1/conference_call/output/03_firm_identification/03.2_hassan_raw'), 'l3_compustat_processed': WindowsPath('/project/kh_mercury_1/conference_call/output/03_firm_identification/03.3_compustat_processed'), 'l3_hassan_processed': WindowsPath('/project/kh_mercury_1/conference_call/output/03_firm_identification/03.3_hassan_processed'), 'l3_cc_list_2': WindowsPath('/project/kh_mercury_1/conference_call/output/03_firm_identification/03.4_cc_list_2'), 'l3_cc_list_sixun': WindowsPath('/project/kh_mercury_1/conference_call/output/03_firm_identification/03.4_cc_list_sixun'), 'l3_empty_set_of_folders': WindowsPath('/project/kh_mercury_1/conference_call/output/04_keyword_identification/04.1_empty_set_of_50_group_folders'), 'l3_reference_files': WindowsPath('/project/kh_mercury_1/conference_call/output/04_keyword_identification/04.2_reference_files'), 'l3_filled_set_of_folders': WindowsPath('/project/kh_mercury_1/conference_call/output/04_keyword_identification/04.3_filled_set_of_50_group_folders'), 'l3_totalcircnew': WindowsPath('/project/kh_mercury_1/conference_call/output/04_keyword_identification/04.4_totalcircnew'), 'l3_cric1_newtotal': WindowsPath('/project/kh_mercury_1/conference_call/output/04_keyword_identification/04.5_cric1_newtotal'), 'l3_paragraph_record': WindowsPath('/project/kh_mercury_1/conference_call/output/04_keyword_identification/04.6_paragraph_record'), 'l3_entry_files': WindowsPath('/project/kh_mercury_1/conference_call/output/04_keyword_identification/04.7_entry_files'), 'l3_entry_files_combined': WindowsPath('/project/kh_mercury_1/conference_call/output/04_keyword_identification/04.8_entry_files_combined'), 'l3_extract_mercury': WindowsPath('/project/kh_mercury_1/conference_call/output/05_extract_front_page_desc/05.1_converted_on_mercury'), 'l3_extract_windows': WindowsPath('/project/kh_mercury_1/conference_call/output/05_extract_front_page_desc/05.1_converted_on_windows_jason'), 'l3_extract_manual': WindowsPath('/project/kh_mercury_1/conference_call/output/05_extract_front_page_desc/05.2_converted_manually'), 'l3_extract_xlscombined': WindowsPath('/project/kh_mercury_1/conference_call/output/05_extract_front_page_desc/05.3_xls_combined_withfrontpagedescriptions'), 'l3_extract_entry_files_combined': WindowsPath('/project/kh_mercury_1/conference_call/output/05_extract_front_page_desc/05.4_entryfiles_combined')}\n",
      "{'root_windows': WindowsPath('C:/Users/jasonjia/Dropbox/Projects/conference_call'), 'root_mercury': WindowsPath('/project/kh_mercury_1/conference_call'), 'l1_code': WindowsPath('C:/Users/jasonjia/Dropbox/Projects/conference_call/code'), 'l1_documentation': WindowsPath('C:/Users/jasonjia/Dropbox/Projects/conference_call/documentation'), 'l1_output': WindowsPath('C:/Users/jasonjia/Dropbox/Projects/conference_call/output'), 'l2_create_proj_dir': WindowsPath('C:/Users/jasonjia/Dropbox/Projects/conference_call/code/00_create_proj_dir'), 'l2_download_cc': WindowsPath('C:/Users/jasonjia/Dropbox/Projects/conference_call/output/01_download_cc'), 'l2_process_cc': WindowsPath('C:/Users/jasonjia/Dropbox/Projects/conference_call/output/02_process_cc'), 'l2_firm_identification': WindowsPath('C:/Users/jasonjia/Dropbox/Projects/conference_call/output/03_firm_identification'), 'l2_keyword_identification': WindowsPath('C:/Users/jasonjia/Dropbox/Projects/conference_call/output/04_keyword_identification'), 'l2_extract_front_page_desc': WindowsPath('C:/Users/jasonjia/Dropbox/Projects/conference_call/output/05_extract_front_page_desc'), 'l2_misc': WindowsPath('C:/Users/jasonjia/Dropbox/Projects/conference_call/output/misc'), 'l3_pdf_2': WindowsPath('C:/Users/jasonjia/Dropbox/Projects/conference_call/output/01_download_cc/01.1_pdf_2'), 'l3_xls_2': WindowsPath('C:/Users/jasonjia/Dropbox/Projects/conference_call/output/01_download_cc/01.1_xls_2'), 'l3_pdf_test1': WindowsPath('C:/Users/jasonjia/Dropbox/Projects/conference_call/output/01_download_cc/01.1_pdf_test1'), 'l3_xls_test1': WindowsPath('C:/Users/jasonjia/Dropbox/Projects/conference_call/output/01_download_cc/01.1_xls_test1'), 'l3_download_cc_checks': WindowsPath('C:/Users/jasonjia/Dropbox/Projects/conference_call/output/01_download_cc/checks'), 'l3_txt_2': WindowsPath('C:/Users/jasonjia/Dropbox/Projects/conference_call/output/02_process_cc/02.1_txt_2'), 'l3_csv_2': WindowsPath('C:/Users/jasonjia/Dropbox/Projects/conference_call/output/02_process_cc/02.2_csv_2'), 'l3_txt_test1': WindowsPath('C:/Users/jasonjia/Dropbox/Projects/conference_call/output/02_process_cc/02.1_txt_test1'), 'l3_csv_test1': WindowsPath('C:/Users/jasonjia/Dropbox/Projects/conference_call/output/02_process_cc/02.2_csv_test1'), 'l3_process_cc_checks': WindowsPath('C:/Users/jasonjia/Dropbox/Projects/conference_call/output/02_process_cc/checks'), 'l3_compustat_sas7bdat': WindowsPath('C:/Users/jasonjia/Dropbox/Projects/conference_call/output/03_firm_identification/03.1_compustat_sas7bdat'), 'l3_hassan_raw': WindowsPath('C:/Users/jasonjia/Dropbox/Projects/conference_call/output/03_firm_identification/03.2_hassan_raw'), 'l3_compustat_processed': WindowsPath('C:/Users/jasonjia/Dropbox/Projects/conference_call/output/03_firm_identification/03.3_compustat_processed'), 'l3_hassan_processed': WindowsPath('C:/Users/jasonjia/Dropbox/Projects/conference_call/output/03_firm_identification/03.3_hassan_processed'), 'l3_cc_list_2': WindowsPath('C:/Users/jasonjia/Dropbox/Projects/conference_call/output/03_firm_identification/03.4_cc_list_2'), 'l3_cc_list_sixun': WindowsPath('C:/Users/jasonjia/Dropbox/Projects/conference_call/output/03_firm_identification/03.4_cc_list_sixun'), 'l3_empty_set_of_folders': WindowsPath('C:/Users/jasonjia/Dropbox/Projects/conference_call/output/04_keyword_identification/04.1_empty_set_of_50_group_folders'), 'l3_reference_files': WindowsPath('C:/Users/jasonjia/Dropbox/Projects/conference_call/output/04_keyword_identification/04.2_reference_files'), 'l3_filled_set_of_folders': WindowsPath('C:/Users/jasonjia/Dropbox/Projects/conference_call/output/04_keyword_identification/04.3_filled_set_of_50_group_folders'), 'l3_totalcircnew': WindowsPath('C:/Users/jasonjia/Dropbox/Projects/conference_call/output/04_keyword_identification/04.4_totalcircnew'), 'l3_cric1_newtotal': WindowsPath('C:/Users/jasonjia/Dropbox/Projects/conference_call/output/04_keyword_identification/04.5_cric1_newtotal'), 'l3_paragraph_record': WindowsPath('C:/Users/jasonjia/Dropbox/Projects/conference_call/output/04_keyword_identification/04.6_paragraph_record'), 'l3_entry_files': WindowsPath('C:/Users/jasonjia/Dropbox/Projects/conference_call/output/04_keyword_identification/04.7_entry_files'), 'l3_entry_files_combined': WindowsPath('C:/Users/jasonjia/Dropbox/Projects/conference_call/output/04_keyword_identification/04.8_entry_files_combined'), 'l3_extract_mercury': WindowsPath('C:/Users/jasonjia/Dropbox/Projects/conference_call/output/05_extract_front_page_desc/05.1_converted_on_mercury'), 'l3_extract_windows': WindowsPath('C:/Users/jasonjia/Dropbox/Projects/conference_call/output/05_extract_front_page_desc/05.1_converted_on_windows_jason'), 'l3_extract_manual': WindowsPath('C:/Users/jasonjia/Dropbox/Projects/conference_call/output/05_extract_front_page_desc/05.2_converted_manually'), 'l3_extract_xlscombined': WindowsPath('C:/Users/jasonjia/Dropbox/Projects/conference_call/output/05_extract_front_page_desc/05.3_xls_combined_withfrontpagedescriptions'), 'l3_extract_entry_files_combined': WindowsPath('C:/Users/jasonjia/Dropbox/Projects/conference_call/output/05_extract_front_page_desc/05.4_entryfiles_combined')}\n"
     ]
    }
   ],
   "source": [
    "# --- Manual: write down systems ---\n",
    "system_list = [\"mercury\", \"windows\"]\n",
    "\n",
    "# --- Manual: write down current path to create_proj_dir folder ---\n",
    "l2_create_proj_dir_current = Path(r\"C:\\Users\\jasonjia\\Dropbox\\Projects\\conference_call\\code\\00_create_proj_dir\")\n",
    "\n",
    "def create_proj_dir(system, l2_create_proj_dir_current):\n",
    "    root_system = \"root_\" + system\n",
    "    root = proj_dir[root_system]\n",
    "\n",
    "    # --- Manual: write down l1 folders ---\n",
    "    proj_dir[\"l1_code\"] = Path(root / \"code\")\n",
    "    proj_dir[\"l1_documentation\"] = Path(root / \"documentation\")\n",
    "    proj_dir[\"l1_output\"] = Path(root / \"output\")\n",
    "    \n",
    "    # --- Manual: write down l2 folders ---\n",
    "\n",
    "    # Children of l1_code\n",
    "    l1_code = proj_dir[\"l1_code\"]\n",
    "\n",
    "    proj_dir[\"l2_create_proj_dir\"] = Path(l1_code / \"00_create_proj_dir\")\n",
    "\n",
    "    # Children of l1_output\n",
    "    l1_output = proj_dir[\"l1_output\"]\n",
    "\n",
    "    proj_dir[\"l2_download_cc\"] = Path(l1_output / \"01_download_cc\")\n",
    "    proj_dir[\"l2_process_cc\"] = Path(l1_output / \"02_process_cc\")\n",
    "    proj_dir[\"l2_firm_identification\"] = Path(l1_output / \"03_firm_identification\")\n",
    "    proj_dir[\"l2_keyword_identification\"] = Path(l1_output / \"04_keyword_identification\")\n",
    "    proj_dir[\"l2_extract_front_page_desc\"] = Path(l1_output / \"05_extract_front_page_desc\")\n",
    "    proj_dir[\"l2_misc\"] = Path(l1_output / \"misc\")\n",
    "\n",
    "    \n",
    "    # --- Manual: write down l3 folders ---\n",
    "\n",
    "    # Children of l2_download_cc\n",
    "    l2_download_cc = proj_dir[\"l2_download_cc\"]\n",
    "\n",
    "    proj_dir[\"l3_pdf_2\"] = Path(l2_download_cc / \"01.1_pdf_2\")\n",
    "    proj_dir[\"l3_xls_2\"] = Path(l2_download_cc / \"01.1_xls_2\")\n",
    "    proj_dir[\"l3_pdf_test1\"] = Path(l2_download_cc / \"01.1_pdf_test1\")\n",
    "    proj_dir[\"l3_xls_test1\"] = Path(l2_download_cc / \"01.1_xls_test1\")\n",
    "    proj_dir[\"l3_download_cc_checks\"] = Path(l2_download_cc / \"checks\")\n",
    "\n",
    "    # Children of l2_process_cc\n",
    "    l2_process_cc = proj_dir[\"l2_process_cc\"]\n",
    "\n",
    "    proj_dir[\"l3_txt_2\"] = Path(l2_process_cc / \"02.1_txt_2\")\n",
    "    proj_dir[\"l3_csv_2\"] = Path(l2_process_cc / \"02.2_csv_2\")\n",
    "    proj_dir[\"l3_txt_test1\"] = Path(l2_process_cc / \"02.1_txt_test1\")\n",
    "    proj_dir[\"l3_csv_test1\"] = Path(l2_process_cc / \"02.2_csv_test1\")\n",
    "    proj_dir[\"l3_process_cc_checks\"] = Path(l2_process_cc / \"checks\")\n",
    "\n",
    "    # Children of l2_firm_identification\n",
    "    l2_firm_identification = proj_dir[\"l2_firm_identification\"]\n",
    "\n",
    "    proj_dir[\"l3_compustat_sas7bdat\"] = Path(l2_firm_identification / \"03.1_compustat_sas7bdat\")\n",
    "    proj_dir[\"l3_hassan_raw\"] = Path(l2_firm_identification / \"03.2_hassan_raw\")\n",
    "    proj_dir[\"l3_compustat_processed\"] = Path(l2_firm_identification / \"03.3_compustat_processed\")\n",
    "    proj_dir[\"l3_hassan_processed\"] = Path(l2_firm_identification / \"03.3_hassan_processed\")\n",
    "    proj_dir[\"l3_cc_list_2\"] = Path(l2_firm_identification / \"03.4_cc_list_2\")\n",
    "    proj_dir[\"l3_cc_list_sixun\"] = Path(l2_firm_identification / \"03.4_cc_list_sixun\")\n",
    "\n",
    "    # Children of l2_keyword_identification\n",
    "    l2_keyword_identification = proj_dir[\"l2_keyword_identification\"]\n",
    "\n",
    "    proj_dir[\"l3_empty_set_of_folders\"] = Path(l2_keyword_identification / \"04.1_empty_set_of_50_group_folders\")\n",
    "    proj_dir[\"l3_reference_files\"] = Path(l2_keyword_identification / \"04.2_reference_files\")\n",
    "    proj_dir[\"l3_filled_set_of_folders\"] = Path(l2_keyword_identification / \"04.3_filled_set_of_50_group_folders\")\n",
    "    proj_dir[\"l3_totalcircnew\"] = Path(l2_keyword_identification / \"04.4_totalcircnew\")\n",
    "    proj_dir[\"l3_cric1_newtotal\"] = Path(l2_keyword_identification / \"04.5_cric1_newtotal\")\n",
    "    proj_dir[\"l3_paragraph_record\"] = Path(l2_keyword_identification / \"04.6_paragraph_record\")\n",
    "    proj_dir[\"l3_entry_files\"] = Path(l2_keyword_identification / \"04.7_entry_files\")\n",
    "    proj_dir[\"l3_entry_files_combined\"] = Path(l2_keyword_identification / \"04.8_entry_files_combined\")\n",
    "\n",
    "    # Children of l2_extract_front_page_desc\n",
    "    l2_extract_front_page_desc = proj_dir[\"l2_extract_front_page_desc\"]\n",
    "\n",
    "    proj_dir[\"l3_extract_mercury\"] = Path(l2_extract_front_page_desc / \"05.1_converted_on_mercury\")\n",
    "    proj_dir[\"l3_extract_windows\"] = Path(l2_extract_front_page_desc / \"05.1_converted_on_windows_jason\")\n",
    "    proj_dir[\"l3_extract_manual\"] = Path(l2_extract_front_page_desc / \"05.2_converted_manually\")\n",
    "    proj_dir[\"l3_extract_xlscombined\"] = Path(l2_extract_front_page_desc / \"05.3_xls_combined_withfrontpagedescriptions\")\n",
    "    proj_dir[\"l3_extract_entry_files_combined\"] = Path(l2_extract_front_page_desc / \"05.4_entryfiles_combined\")\n",
    "    \n",
    "    # --- End of manual entry; proj_dir created! ---\n",
    "    \n",
    "    print(proj_dir)\n",
    "    \n",
    "    # Convert dictionary proj_dir into a csv file\n",
    "    # But save the folder paths as strings, instead of Path objects\n",
    "    outputfile = \"proj_dir_\" + system + \".csv\"\n",
    "    outputpath = Path(l2_create_proj_dir_current / outputfile)\n",
    "\n",
    "    with open(outputpath, 'w') as f:  \n",
    "        writer = csv.writer(f)\n",
    "        for key, value in proj_dir.items():\n",
    "           writer.writerow([key, str(value)])\n",
    "        \n",
    "\n",
    "for system in system_list:\n",
    "    create_proj_dir(system, l2_create_proj_dir_current)"
   ]
  },
  {
   "cell_type": "code",
   "execution_count": 7,
   "id": "29e9d393",
   "metadata": {},
   "outputs": [],
   "source": [
    "# --- End of main code. Checks written when writing the code are below; they are commented out because they no longer work as intended with the final form of the code. ---"
   ]
  },
  {
   "cell_type": "code",
   "execution_count": 8,
   "id": "0dc7dc56",
   "metadata": {},
   "outputs": [
    {
     "data": {
      "text/plain": [
       "'\\n# Check if l1 folder paths exist - take the non-intersection of sets\\nl1_set = set(proj_dir.values()) ^ root_set\\n[l1_folder.exists() for l1_folder in l1_set]\\n'"
      ]
     },
     "execution_count": 8,
     "metadata": {},
     "output_type": "execute_result"
    }
   ],
   "source": [
    "\"\"\"\n",
    "# Check if l1 folder paths exist - take the non-intersection of sets\n",
    "l1_set = set(proj_dir.values()) ^ root_set\n",
    "[l1_folder.exists() for l1_folder in l1_set]\n",
    "\"\"\""
   ]
  },
  {
   "cell_type": "code",
   "execution_count": 9,
   "id": "2bcf975f",
   "metadata": {},
   "outputs": [
    {
     "data": {
      "text/plain": [
       "'\\n# Print l1 folder names\\n[l1_folder.name for l1_folder in l1_set]\\n'"
      ]
     },
     "execution_count": 9,
     "metadata": {},
     "output_type": "execute_result"
    }
   ],
   "source": [
    "\"\"\"\n",
    "# Print l1 folder names\n",
    "[l1_folder.name for l1_folder in l1_set]\n",
    "\"\"\""
   ]
  },
  {
   "cell_type": "code",
   "execution_count": 10,
   "id": "73611df1",
   "metadata": {},
   "outputs": [
    {
     "data": {
      "text/plain": [
       "'\\n# Print out children of each l1_folder\\nfor l1_folder in l1_set:\\n    print(\"Parent:\", l1_folder.name)\\n    for child in l1_folder.iterdir(): \\n        print(child.name)\\n    print(\"\")\\n'"
      ]
     },
     "execution_count": 10,
     "metadata": {},
     "output_type": "execute_result"
    }
   ],
   "source": [
    "\"\"\"\n",
    "# Print out children of each l1_folder\n",
    "for l1_folder in l1_set:\n",
    "    print(\"Parent:\", l1_folder.name)\n",
    "    for child in l1_folder.iterdir(): \n",
    "        print(child.name)\n",
    "    print(\"\")\n",
    "\"\"\""
   ]
  },
  {
   "cell_type": "code",
   "execution_count": 11,
   "id": "71fb00de",
   "metadata": {},
   "outputs": [
    {
     "data": {
      "text/plain": [
       "'\\n# Check if l2 folder paths exist - take the non-intersection of the sets\\nl2_set = set(proj_dir.values()) ^ l1_set ^ root_set\\n[l2_folder.exists() for l2_folder in l2_set]\\n'"
      ]
     },
     "execution_count": 11,
     "metadata": {},
     "output_type": "execute_result"
    }
   ],
   "source": [
    "\"\"\"\n",
    "# Check if l2 folder paths exist - take the non-intersection of the sets\n",
    "l2_set = set(proj_dir.values()) ^ l1_set ^ root_set\n",
    "[l2_folder.exists() for l2_folder in l2_set]\n",
    "\"\"\""
   ]
  },
  {
   "cell_type": "code",
   "execution_count": 12,
   "id": "764c40da",
   "metadata": {},
   "outputs": [
    {
     "data": {
      "text/plain": [
       "'\\n# Print l2 folder names\\n[l2_folder.name for l2_folder in l2_set]\\n'"
      ]
     },
     "execution_count": 12,
     "metadata": {},
     "output_type": "execute_result"
    }
   ],
   "source": [
    "\"\"\"\n",
    "# Print l2 folder names\n",
    "[l2_folder.name for l2_folder in l2_set]\n",
    "\"\"\""
   ]
  },
  {
   "cell_type": "code",
   "execution_count": 13,
   "id": "8e152d89",
   "metadata": {},
   "outputs": [
    {
     "data": {
      "text/plain": [
       "'\\n# Print out children of each l2_folder\\nfor l2_folder in l2_set:\\n    print(\"Parent:\", l2_folder.name)\\n    for child in l2_folder.iterdir(): \\n        print(child.name)\\n    print(\"\")\\n'"
      ]
     },
     "execution_count": 13,
     "metadata": {},
     "output_type": "execute_result"
    }
   ],
   "source": [
    "\"\"\"\n",
    "# Print out children of each l2_folder\n",
    "for l2_folder in l2_set:\n",
    "    print(\"Parent:\", l2_folder.name)\n",
    "    for child in l2_folder.iterdir(): \n",
    "        print(child.name)\n",
    "    print(\"\")\n",
    "\"\"\""
   ]
  },
  {
   "cell_type": "code",
   "execution_count": 14,
   "id": "bccfff87",
   "metadata": {},
   "outputs": [
    {
     "data": {
      "text/plain": [
       "'\\n# Check if l3 folder paths exist - take the non-intersection of the sets\\nl3_set = set(proj_dir.values()) ^ l2_set ^ l1_set ^ root_set\\n[l3_folder.exists() for l3_folder in l3_set]\\n'"
      ]
     },
     "execution_count": 14,
     "metadata": {},
     "output_type": "execute_result"
    }
   ],
   "source": [
    "\"\"\"\n",
    "# Check if l3 folder paths exist - take the non-intersection of the sets\n",
    "l3_set = set(proj_dir.values()) ^ l2_set ^ l1_set ^ root_set\n",
    "[l3_folder.exists() for l3_folder in l3_set]\n",
    "\"\"\""
   ]
  },
  {
   "cell_type": "code",
   "execution_count": 15,
   "id": "c02cebf9",
   "metadata": {},
   "outputs": [
    {
     "data": {
      "text/plain": [
       "'\\n# Print l3 folder names\\n[l3_folder.name for l3_folder in l3_set]\\n'"
      ]
     },
     "execution_count": 15,
     "metadata": {},
     "output_type": "execute_result"
    }
   ],
   "source": [
    "\"\"\"\n",
    "# Print l3 folder names\n",
    "[l3_folder.name for l3_folder in l3_set]\n",
    "\"\"\""
   ]
  }
 ],
 "metadata": {
  "kernelspec": {
   "display_name": "Python 3 (ipykernel)",
   "language": "python",
   "name": "python3"
  },
  "language_info": {
   "codemirror_mode": {
    "name": "ipython",
    "version": 3
   },
   "file_extension": ".py",
   "mimetype": "text/x-python",
   "name": "python",
   "nbconvert_exporter": "python",
   "pygments_lexer": "ipython3",
   "version": "3.8.8"
  }
 },
 "nbformat": 4,
 "nbformat_minor": 5
}
