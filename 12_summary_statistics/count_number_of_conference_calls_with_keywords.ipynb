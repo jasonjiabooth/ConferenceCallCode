{
 "cells": [
  {
   "cell_type": "code",
   "execution_count": 1,
   "id": "f3c89cc8",
   "metadata": {},
   "outputs": [],
   "source": [
    "from pathlib import Path\n",
    "import pandas as pd"
   ]
  },
  {
   "cell_type": "code",
   "execution_count": 2,
   "id": "e1657cdc",
   "metadata": {},
   "outputs": [],
   "source": [
    "inputfilepath = Path(r\"C:\\Users\\jasonjia\\Dropbox\\Projects\\conference_call\\output\\04_keyword_identification\\04.8_entry_files_combined\\sixunandjason\\v5\\entryfiles_combined_v5_withparagraphs_andgvkey.xlsx\")"
   ]
  },
  {
   "cell_type": "code",
   "execution_count": 3,
   "id": "f2e37b69",
   "metadata": {},
   "outputs": [],
   "source": [
    "df = pd.read_excel(inputfilepath, sheet_name = 0)"
   ]
  },
  {
   "cell_type": "code",
   "execution_count": 5,
   "id": "445b89e7",
   "metadata": {},
   "outputs": [],
   "source": [
    "df = df['Report']"
   ]
  },
  {
   "cell_type": "code",
   "execution_count": 9,
   "id": "e698af66",
   "metadata": {},
   "outputs": [
    {
     "data": {
      "text/plain": [
       "(69381,)"
      ]
     },
     "execution_count": 9,
     "metadata": {},
     "output_type": "execute_result"
    }
   ],
   "source": [
    "df.unique().shapee"
   ]
  },
  {
   "cell_type": "code",
   "execution_count": 13,
   "id": "ee86abbb",
   "metadata": {},
   "outputs": [
    {
     "data": {
      "text/plain": [
       "69381"
      ]
     },
     "execution_count": 13,
     "metadata": {},
     "output_type": "execute_result"
    }
   ],
   "source": [
    "df.nunique(dropna = True)"
   ]
  },
  {
   "cell_type": "code",
   "execution_count": null,
   "id": "852f5811",
   "metadata": {},
   "outputs": [],
   "source": []
  }
 ],
 "metadata": {
  "kernelspec": {
   "display_name": "Python 3 (ipykernel)",
   "language": "python",
   "name": "python3"
  },
  "language_info": {
   "codemirror_mode": {
    "name": "ipython",
    "version": 3
   },
   "file_extension": ".py",
   "mimetype": "text/x-python",
   "name": "python",
   "nbconvert_exporter": "python",
   "pygments_lexer": "ipython3",
   "version": "3.9.7"
  }
 },
 "nbformat": 4,
 "nbformat_minor": 5
}
