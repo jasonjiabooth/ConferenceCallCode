{
 "cells": [
  {
   "cell_type": "code",
   "execution_count": 71,
   "id": "2f4d81a8",
   "metadata": {},
   "outputs": [],
   "source": [
    "from pathlib import Path\n",
    "import pandas as pd\n",
    "import csv\n",
    "\n",
    "# Naming of variables follows terminology of a tree - root, level 1, level 2, ...\n",
    "# A folder's children = files and sub-folders in the folder."
   ]
  },
  {
   "cell_type": "code",
   "execution_count": 72,
   "id": "f80d0b29",
   "metadata": {},
   "outputs": [
    {
     "data": {
      "text/plain": [
       "{}"
      ]
     },
     "execution_count": 72,
     "metadata": {},
     "output_type": "execute_result"
    }
   ],
   "source": [
    "# Create dictionary that will hold all the folder names and paths\n",
    "# where key = name, value = folderpath\n",
    "proj_dir = {}\n",
    "proj_dir"
   ]
  },
  {
   "cell_type": "code",
   "execution_count": 73,
   "id": "a1471be7",
   "metadata": {},
   "outputs": [],
   "source": [
    "# Manual: write down root\n",
    "proj_dir[\"root\"] = Path(r\"C:\\Users\\jasonjia\\Dropbox\\Projects\\conference_call\")"
   ]
  },
  {
   "cell_type": "code",
   "execution_count": 74,
   "id": "48311f13",
   "metadata": {},
   "outputs": [
    {
     "data": {
      "text/plain": [
       "[True]"
      ]
     },
     "execution_count": 74,
     "metadata": {},
     "output_type": "execute_result"
    }
   ],
   "source": [
    "# Check if root exists\n",
    "root_set = set(proj_dir.values())\n",
    "[root_folder.exists() for root_folder in root_set]"
   ]
  },
  {
   "cell_type": "code",
   "execution_count": 75,
   "id": "00264030",
   "metadata": {},
   "outputs": [
    {
     "data": {
      "text/plain": [
       "[WindowsPath('C:/Users/jasonjia/Dropbox/Projects/conference_call')]"
      ]
     },
     "execution_count": 75,
     "metadata": {},
     "output_type": "execute_result"
    }
   ],
   "source": [
    "# Print root folder path\n",
    "[root_folder for root_folder in root_set]"
   ]
  },
  {
   "cell_type": "code",
   "execution_count": 76,
   "id": "7b002fc4",
   "metadata": {},
   "outputs": [],
   "source": [
    "# Manual: write down l1 folders\n",
    "proj_dir[\"l1_code\"] = Path(proj_dir[\"root\"] / \"code\")\n",
    "proj_dir[\"l1_documentation\"] = Path(proj_dir[\"root\"] / \"documentation\")\n",
    "proj_dir[\"l1_output\"] = Path(proj_dir[\"root\"] / \"output\")"
   ]
  },
  {
   "cell_type": "code",
   "execution_count": 77,
   "id": "cbdfe89e",
   "metadata": {},
   "outputs": [
    {
     "data": {
      "text/plain": [
       "[True, True, True]"
      ]
     },
     "execution_count": 77,
     "metadata": {},
     "output_type": "execute_result"
    }
   ],
   "source": [
    "# Check if l1 folder paths exist - take the non-intersection of sets\n",
    "l1_set = set(proj_dir.values()) ^ root_set\n",
    "[l1_folder.exists() for l1_folder in l1_set]"
   ]
  },
  {
   "cell_type": "code",
   "execution_count": 78,
   "id": "3fab7ab6",
   "metadata": {},
   "outputs": [
    {
     "data": {
      "text/plain": [
       "['code', 'output', 'documentation']"
      ]
     },
     "execution_count": 78,
     "metadata": {},
     "output_type": "execute_result"
    }
   ],
   "source": [
    "# Print l1 folder names\n",
    "[l1_folder.name for l1_folder in l1_set]"
   ]
  },
  {
   "cell_type": "code",
   "execution_count": 79,
   "id": "73611df1",
   "metadata": {},
   "outputs": [
    {
     "name": "stdout",
     "output_type": "stream",
     "text": [
      "Parent: code\n",
      ".git\n",
      ".idea\n",
      ".ipynb_checkpoints\n",
      "00_create_proj_dir\n",
      "01_download_data\n",
      "02_process_cc_pdf_to_csv\n",
      "03_firm_identification\n",
      "04_keyword_identification\n",
      "05_extract_desc_in_front_page\n",
      "10_common_tasks\n",
      "11_download_specified_reports\n",
      "misc\n",
      "\n",
      "Parent: output\n",
      "01_download_cc\n",
      "02_process_cc\n",
      "03_firm_identification\n",
      "04_keyword_identification\n",
      "05_extract_front_page_desc\n",
      "BadList.csv\n",
      "misc\n",
      "\n",
      "Parent: documentation\n",
      "conferencecall_stage1-3_documentation.pdf\n",
      "conferencecall_stage1-3_documentation.tex\n",
      "conferencecall_stage4_documentation.pdf\n",
      "figures\n",
      "\n"
     ]
    }
   ],
   "source": [
    "# Print out children of each l1_folder\n",
    "for l1_folder in l1_set:\n",
    "    print(\"Parent:\", l1_folder.name)\n",
    "    for child in l1_folder.iterdir(): \n",
    "        print(child.name)\n",
    "    print(\"\")"
   ]
  },
  {
   "cell_type": "code",
   "execution_count": 80,
   "id": "9b5737c7",
   "metadata": {},
   "outputs": [],
   "source": [
    "# Manual: write down l2 folders\n",
    "\n",
    "# Children of l1_code\n",
    "l1_code = proj_dir[\"l1_code\"]\n",
    "\n",
    "proj_dir[\"l2_create_proj_dir\"] = Path(l1_code / \"00_create_proj_dir\")\n",
    "\n",
    "# Children of l1_output\n",
    "l1_output = proj_dir[\"l1_output\"]\n",
    "\n",
    "proj_dir[\"l2_download_cc\"] = Path(l1_output / \"01_download_cc\")\n",
    "proj_dir[\"l2_process_cc\"] = Path(l1_output / \"02_process_cc\")\n",
    "proj_dir[\"l2_firm_identification\"] = Path(l1_output / \"03_firm_identification\")\n",
    "proj_dir[\"l2_keyword_identification\"] = Path(l1_output / \"04_keyword_identification\")\n",
    "proj_dir[\"l2_extract_front_page_desc\"] = Path(l1_output / \"05_extract_front_page_desc\")\n",
    "proj_dir[\"l2_misc\"] = Path(l1_output / \"misc\")"
   ]
  },
  {
   "cell_type": "code",
   "execution_count": 81,
   "id": "71fb00de",
   "metadata": {},
   "outputs": [
    {
     "data": {
      "text/plain": [
       "[True, True, True, True, True, True, True]"
      ]
     },
     "execution_count": 81,
     "metadata": {},
     "output_type": "execute_result"
    }
   ],
   "source": [
    "# Check if l2 folder paths exist - take the non-intersection of the sets\n",
    "l2_set = set(proj_dir.values()) ^ l1_set ^ root_set\n",
    "[l2_folder.exists() for l2_folder in l2_set]"
   ]
  },
  {
   "cell_type": "code",
   "execution_count": 82,
   "id": "764c40da",
   "metadata": {},
   "outputs": [
    {
     "data": {
      "text/plain": [
       "['03_firm_identification',\n",
       " '00_create_proj_dir',\n",
       " '04_keyword_identification',\n",
       " '01_download_cc',\n",
       " '02_process_cc',\n",
       " '05_extract_front_page_desc',\n",
       " 'misc']"
      ]
     },
     "execution_count": 82,
     "metadata": {},
     "output_type": "execute_result"
    }
   ],
   "source": [
    "# Print l2 folder names\n",
    "[l2_folder.name for l2_folder in l2_set]"
   ]
  },
  {
   "cell_type": "code",
   "execution_count": 83,
   "id": "8e152d89",
   "metadata": {},
   "outputs": [
    {
     "name": "stdout",
     "output_type": "stream",
     "text": [
      "Parent: 03_firm_identification\n",
      "03.1_compustat_sas7bdat\n",
      "03.2_hassan_raw\n",
      "03.3_compustat_processed\n",
      "03.3_hassan_processed\n",
      "03.4_cc_list_2\n",
      "03.4_cc_list_sixun\n",
      "misc\n",
      "prev_20210924\n",
      "readme.docx\n",
      "\n",
      "Parent: 00_create_proj_dir\n",
      ".ipynb_checkpoints\n",
      "create_proj_dir.ipynb\n",
      "proj_dir.csv\n",
      "\n",
      "Parent: 04_keyword_identification\n",
      "04.1_empty_set_of_50_group_folders\n",
      "04.2_reference_files\n",
      "04.3_filled_set_of_50_group_folders\n",
      "04.4_totalcircnew\n",
      "04.5_cric1_newtotal\n",
      "04.6_paragraph_record\n",
      "04.7_entry_files\n",
      "04.8_entry_files_combined\n",
      "misc\n",
      "Test Set of 50 Group Folders\n",
      "uploaded_on_shared_drive_with_kilian\n",
      "\n",
      "Parent: 01_download_cc\n",
      "01.1_pdf_2\n",
      "01.1_xls_2\n",
      "checks\n",
      "currentvsprev_foldernames.txt\n",
      "\n",
      "Parent: 02_process_cc\n",
      "02.1_txt_2\n",
      "02.2_csv_2\n",
      "checks\n",
      "misc\n",
      "\n",
      "Parent: 05_extract_front_page_desc\n",
      "05.1_converted_on_mercury\n",
      "05.1_converted_on_windows_jason\n",
      "05.2_converted_manually\n",
      "05.3_xls_combined_withfrontpagedescriptions\n",
      "05.4_entryfiles_combined\n",
      "misc\n",
      "\n",
      "Parent: misc\n",
      "breakupreportidsintochunksof25\n",
      "Checkreportidstallywithtitles\n",
      "DataClean\n",
      "extractremainingparasfromcc_doesntwork\n",
      "FileZilla\n",
      "One-off Conference Call Lookups\n",
      "Previous Versions\n",
      "RetrieveMissingDates\n",
      "\n"
     ]
    }
   ],
   "source": [
    "# Print out children of each l2_folder\n",
    "for l2_folder in l2_set:\n",
    "    print(\"Parent:\", l2_folder.name)\n",
    "    for child in l2_folder.iterdir(): \n",
    "        print(child.name)\n",
    "    print(\"\")"
   ]
  },
  {
   "cell_type": "code",
   "execution_count": 84,
   "id": "e3cf0559",
   "metadata": {},
   "outputs": [],
   "source": [
    "# Manual: write down l3 folders\n",
    "\n",
    "# Children of l2_download_cc\n",
    "l2_download_cc = proj_dir[\"l2_download_cc\"]\n",
    "\n",
    "proj_dir[\"l3_pdf_2\"] = Path(l2_download_cc / \"01.1_pdf_2\")\n",
    "proj_dir[\"l3_xls_2\"] = Path(l2_download_cc / \"01.1_xls_2\")\n",
    "proj_dir[\"l3_download_cc_checks\"] = Path(l2_download_cc / \"checks\")\n",
    "\n",
    "# Children of l2_process_cc\n",
    "l2_process_cc = proj_dir[\"l2_process_cc\"]\n",
    "\n",
    "proj_dir[\"l3_txt_2\"] = Path(l2_process_cc / \"02.1_txt_2\")\n",
    "proj_dir[\"l3_csv_2\"] = Path(l2_process_cc / \"02.2_csv_2\")\n",
    "proj_dir[\"l3_process_cc_checks\"] = Path(l2_process_cc / \"checks\")\n",
    "\n",
    "# Children of l2_firm_identification\n",
    "l2_firm_identification = proj_dir[\"l2_firm_identification\"]\n",
    "\n",
    "proj_dir[\"l3_compustat_sas7bdat\"] = Path(l2_firm_identification / \"03.1_compustat_sas7bdat\")\n",
    "proj_dir[\"l3_hassan_raw\"] = Path(l2_firm_identification / \"03.2_hassan_raw\")\n",
    "proj_dir[\"l3_compustat_processed\"] = Path(l2_firm_identification / \"03.3_compustat_processed\")\n",
    "proj_dir[\"l3_hassan_processed\"] = Path(l2_firm_identification / \"03.3_hassan_processed\")\n",
    "proj_dir[\"l3_cc_list_2\"] = Path(l2_firm_identification / \"03.4_cc_list_2\")\n",
    "proj_dir[\"l3_cc_list_sixun\"] = Path(l2_firm_identification / \"03.4_cc_list_sixun\")\n",
    "\n",
    "# Children of l2_keyword_identification\n",
    "l2_keyword_identification = proj_dir[\"l2_keyword_identification\"]\n",
    "\n",
    "proj_dir[\"l3_empty_set_of_folders\"] = Path(l2_keyword_identification / \"04.1_empty_set_of_50_group_folders\")\n",
    "proj_dir[\"l3_reference_files\"] = Path(l2_keyword_identification / \"04.2_reference_files\")\n",
    "proj_dir[\"l3_filled_set_of_folders\"] = Path(l2_keyword_identification / \"04.3_filled_set_of_50_group_folders\")\n",
    "proj_dir[\"l3_totalcircnew\"] = Path(l2_keyword_identification / \"04.4_totalcircnew\")\n",
    "proj_dir[\"l3_cric1_newtotal\"] = Path(l2_keyword_identification / \"04.5_cric1_newtotal\")\n",
    "proj_dir[\"l3_paragraph_record\"] = Path(l2_keyword_identification / \"04.6_paragraph_record\")\n",
    "proj_dir[\"l3_entry_files\"] = Path(l2_keyword_identification / \"04.7_entry_files\")\n",
    "proj_dir[\"l3_entry_files_combined\"] = Path(l2_keyword_identification / \"04.8_entry_files_combined\")\n",
    "\n",
    "# Children of l2_extract_front_page_desc\n",
    "l2_extract_front_page_desc = proj_dir[\"l2_extract_front_page_desc\"]\n",
    "\n",
    "proj_dir[\"l3_extract_mercury\"] = Path(l2_extract_front_page_desc / \"05.1_converted_on_mercury\")\n",
    "proj_dir[\"l3_extract_windows\"] = Path(l2_extract_front_page_desc / \"05.1_converted_on_windows_jason\")\n",
    "proj_dir[\"l3_extract_manual\"] = Path(l2_extract_front_page_desc / \"05.2_converted_manually\")\n",
    "proj_dir[\"l3_extract_xlscombined\"] = Path(l2_extract_front_page_desc / \"05.3_xls_combined_withfrontpagedescriptions\")\n",
    "proj_dir[\"l3_extract_entry_files_combined\"] = Path(l2_extract_front_page_desc / \"05.4_entryfiles_combined\")"
   ]
  },
  {
   "cell_type": "code",
   "execution_count": 85,
   "id": "bccfff87",
   "metadata": {},
   "outputs": [
    {
     "data": {
      "text/plain": [
       "[True,\n",
       " True,\n",
       " True,\n",
       " True,\n",
       " True,\n",
       " True,\n",
       " True,\n",
       " True,\n",
       " True,\n",
       " True,\n",
       " True,\n",
       " True,\n",
       " True,\n",
       " True,\n",
       " True,\n",
       " True,\n",
       " True,\n",
       " True,\n",
       " True,\n",
       " True,\n",
       " True,\n",
       " True,\n",
       " True,\n",
       " True,\n",
       " True]"
      ]
     },
     "execution_count": 85,
     "metadata": {},
     "output_type": "execute_result"
    }
   ],
   "source": [
    "# Check if l3 folder paths exist - take the non-intersection of the sets\n",
    "l3_set = set(proj_dir.values()) ^ l2_set ^ l1_set ^ root_set\n",
    "[l3_folder.exists() for l3_folder in l3_set]"
   ]
  },
  {
   "cell_type": "code",
   "execution_count": 86,
   "id": "c02cebf9",
   "metadata": {},
   "outputs": [
    {
     "data": {
      "text/plain": [
       "['03.3_compustat_processed',\n",
       " '02.2_csv_2',\n",
       " '03.4_cc_list_sixun',\n",
       " '04.8_entry_files_combined',\n",
       " '04.1_empty_set_of_50_group_folders',\n",
       " '03.3_hassan_processed',\n",
       " '03.4_cc_list_2',\n",
       " '05.1_converted_on_windows_jason',\n",
       " '01.1_pdf_2',\n",
       " '04.6_paragraph_record',\n",
       " '03.2_hassan_raw',\n",
       " '05.3_xls_combined_withfrontpagedescriptions',\n",
       " '05.1_converted_on_mercury',\n",
       " 'checks',\n",
       " '05.2_converted_manually',\n",
       " '04.7_entry_files',\n",
       " '03.1_compustat_sas7bdat',\n",
       " '04.4_totalcircnew',\n",
       " '05.4_entryfiles_combined',\n",
       " '02.1_txt_2',\n",
       " 'checks',\n",
       " '04.2_reference_files',\n",
       " '01.1_xls_2',\n",
       " '04.3_filled_set_of_50_group_folders',\n",
       " '04.5_cric1_newtotal']"
      ]
     },
     "execution_count": 86,
     "metadata": {},
     "output_type": "execute_result"
    }
   ],
   "source": [
    "# Print l3 folder names\n",
    "[l3_folder.name for l3_folder in l3_set]"
   ]
  },
  {
   "cell_type": "code",
   "execution_count": 87,
   "id": "3fdb0ca4",
   "metadata": {},
   "outputs": [
    {
     "data": {
      "text/plain": [
       "{'root': WindowsPath('C:/Users/jasonjia/Dropbox/Projects/conference_call'),\n",
       " 'l1_code': WindowsPath('C:/Users/jasonjia/Dropbox/Projects/conference_call/code'),\n",
       " 'l1_documentation': WindowsPath('C:/Users/jasonjia/Dropbox/Projects/conference_call/documentation'),\n",
       " 'l1_output': WindowsPath('C:/Users/jasonjia/Dropbox/Projects/conference_call/output'),\n",
       " 'l2_create_proj_dir': WindowsPath('C:/Users/jasonjia/Dropbox/Projects/conference_call/code/00_create_proj_dir'),\n",
       " 'l2_download_cc': WindowsPath('C:/Users/jasonjia/Dropbox/Projects/conference_call/output/01_download_cc'),\n",
       " 'l2_process_cc': WindowsPath('C:/Users/jasonjia/Dropbox/Projects/conference_call/output/02_process_cc'),\n",
       " 'l2_firm_identification': WindowsPath('C:/Users/jasonjia/Dropbox/Projects/conference_call/output/03_firm_identification'),\n",
       " 'l2_keyword_identification': WindowsPath('C:/Users/jasonjia/Dropbox/Projects/conference_call/output/04_keyword_identification'),\n",
       " 'l2_extract_front_page_desc': WindowsPath('C:/Users/jasonjia/Dropbox/Projects/conference_call/output/05_extract_front_page_desc'),\n",
       " 'l2_misc': WindowsPath('C:/Users/jasonjia/Dropbox/Projects/conference_call/output/misc'),\n",
       " 'l3_pdf_2': WindowsPath('C:/Users/jasonjia/Dropbox/Projects/conference_call/output/01_download_cc/01.1_pdf_2'),\n",
       " 'l3_xls_2': WindowsPath('C:/Users/jasonjia/Dropbox/Projects/conference_call/output/01_download_cc/01.1_xls_2'),\n",
       " 'l3_download_cc_checks': WindowsPath('C:/Users/jasonjia/Dropbox/Projects/conference_call/output/01_download_cc/checks'),\n",
       " 'l3_txt_2': WindowsPath('C:/Users/jasonjia/Dropbox/Projects/conference_call/output/02_process_cc/02.1_txt_2'),\n",
       " 'l3_csv_2': WindowsPath('C:/Users/jasonjia/Dropbox/Projects/conference_call/output/02_process_cc/02.2_csv_2'),\n",
       " 'l3_process_cc_checks': WindowsPath('C:/Users/jasonjia/Dropbox/Projects/conference_call/output/02_process_cc/checks'),\n",
       " 'l3_compustat_sas7bdat': WindowsPath('C:/Users/jasonjia/Dropbox/Projects/conference_call/output/03_firm_identification/03.1_compustat_sas7bdat'),\n",
       " 'l3_hassan_raw': WindowsPath('C:/Users/jasonjia/Dropbox/Projects/conference_call/output/03_firm_identification/03.2_hassan_raw'),\n",
       " 'l3_compustat_processed': WindowsPath('C:/Users/jasonjia/Dropbox/Projects/conference_call/output/03_firm_identification/03.3_compustat_processed'),\n",
       " 'l3_hassan_processed': WindowsPath('C:/Users/jasonjia/Dropbox/Projects/conference_call/output/03_firm_identification/03.3_hassan_processed'),\n",
       " 'l3_cc_list_2': WindowsPath('C:/Users/jasonjia/Dropbox/Projects/conference_call/output/03_firm_identification/03.4_cc_list_2'),\n",
       " 'l3_cc_list_sixun': WindowsPath('C:/Users/jasonjia/Dropbox/Projects/conference_call/output/03_firm_identification/03.4_cc_list_sixun'),\n",
       " 'l3_empty_set_of_folders': WindowsPath('C:/Users/jasonjia/Dropbox/Projects/conference_call/output/04_keyword_identification/04.1_empty_set_of_50_group_folders'),\n",
       " 'l3_reference_files': WindowsPath('C:/Users/jasonjia/Dropbox/Projects/conference_call/output/04_keyword_identification/04.2_reference_files'),\n",
       " 'l3_filled_set_of_folders': WindowsPath('C:/Users/jasonjia/Dropbox/Projects/conference_call/output/04_keyword_identification/04.3_filled_set_of_50_group_folders'),\n",
       " 'l3_totalcircnew': WindowsPath('C:/Users/jasonjia/Dropbox/Projects/conference_call/output/04_keyword_identification/04.4_totalcircnew'),\n",
       " 'l3_cric1_newtotal': WindowsPath('C:/Users/jasonjia/Dropbox/Projects/conference_call/output/04_keyword_identification/04.5_cric1_newtotal'),\n",
       " 'l3_paragraph_record': WindowsPath('C:/Users/jasonjia/Dropbox/Projects/conference_call/output/04_keyword_identification/04.6_paragraph_record'),\n",
       " 'l3_entry_files': WindowsPath('C:/Users/jasonjia/Dropbox/Projects/conference_call/output/04_keyword_identification/04.7_entry_files'),\n",
       " 'l3_entry_files_combined': WindowsPath('C:/Users/jasonjia/Dropbox/Projects/conference_call/output/04_keyword_identification/04.8_entry_files_combined'),\n",
       " 'l3_extract_mercury': WindowsPath('C:/Users/jasonjia/Dropbox/Projects/conference_call/output/05_extract_front_page_desc/05.1_converted_on_mercury'),\n",
       " 'l3_extract_windows': WindowsPath('C:/Users/jasonjia/Dropbox/Projects/conference_call/output/05_extract_front_page_desc/05.1_converted_on_windows_jason'),\n",
       " 'l3_extract_manual': WindowsPath('C:/Users/jasonjia/Dropbox/Projects/conference_call/output/05_extract_front_page_desc/05.2_converted_manually'),\n",
       " 'l3_extract_xlscombined': WindowsPath('C:/Users/jasonjia/Dropbox/Projects/conference_call/output/05_extract_front_page_desc/05.3_xls_combined_withfrontpagedescriptions'),\n",
       " 'l3_extract_entry_files_combined': WindowsPath('C:/Users/jasonjia/Dropbox/Projects/conference_call/output/05_extract_front_page_desc/05.4_entryfiles_combined')}"
      ]
     },
     "execution_count": 87,
     "metadata": {},
     "output_type": "execute_result"
    }
   ],
   "source": [
    "proj_dir"
   ]
  },
  {
   "cell_type": "code",
   "execution_count": 88,
   "id": "d160452d",
   "metadata": {},
   "outputs": [],
   "source": [
    "# Convert dictionary proj_dir into a csv file\n",
    "# But save the folder paths as strings, instead of Path objects\n",
    "outputfile = \"proj_dir.csv\"\n",
    "outputpath = Path(proj_dir[\"l2_create_proj_dir\"] / outputfile)\n",
    "\n",
    "with open(outputpath, 'w') as f:  \n",
    "    writer = csv.writer(f)\n",
    "    for key, value in proj_dir.items():\n",
    "       writer.writerow([key, str(value)])"
   ]
  },
  {
   "cell_type": "code",
   "execution_count": 102,
   "id": "118482e5",
   "metadata": {},
   "outputs": [],
   "source": [
    "# Import the .csv file and convert it back to a dictionary\n",
    "test = pd.read_csv(r\"C:\\Users\\jasonjia\\Dropbox\\Projects\\conference_call\\code\\00_create_proj_dir\\proj_dir.csv\", header=None, index_col=0, squeeze=True).to_dict()"
   ]
  },
  {
   "cell_type": "code",
   "execution_count": 103,
   "id": "ed15bf31",
   "metadata": {},
   "outputs": [
    {
     "data": {
      "text/plain": [
       "{'root': 'C:\\\\Users\\\\jasonjia\\\\Dropbox\\\\Projects\\\\conference_call',\n",
       " 'l1_code': 'C:\\\\Users\\\\jasonjia\\\\Dropbox\\\\Projects\\\\conference_call\\\\code',\n",
       " 'l1_documentation': 'C:\\\\Users\\\\jasonjia\\\\Dropbox\\\\Projects\\\\conference_call\\\\documentation',\n",
       " 'l1_output': 'C:\\\\Users\\\\jasonjia\\\\Dropbox\\\\Projects\\\\conference_call\\\\output',\n",
       " 'l2_create_proj_dir': 'C:\\\\Users\\\\jasonjia\\\\Dropbox\\\\Projects\\\\conference_call\\\\code\\\\00_create_proj_dir',\n",
       " 'l2_download_cc': 'C:\\\\Users\\\\jasonjia\\\\Dropbox\\\\Projects\\\\conference_call\\\\output\\\\01_download_cc',\n",
       " 'l2_process_cc': 'C:\\\\Users\\\\jasonjia\\\\Dropbox\\\\Projects\\\\conference_call\\\\output\\\\02_process_cc',\n",
       " 'l2_firm_identification': 'C:\\\\Users\\\\jasonjia\\\\Dropbox\\\\Projects\\\\conference_call\\\\output\\\\03_firm_identification',\n",
       " 'l2_keyword_identification': 'C:\\\\Users\\\\jasonjia\\\\Dropbox\\\\Projects\\\\conference_call\\\\output\\\\04_keyword_identification',\n",
       " 'l2_extract_front_page_desc': 'C:\\\\Users\\\\jasonjia\\\\Dropbox\\\\Projects\\\\conference_call\\\\output\\\\05_extract_front_page_desc',\n",
       " 'l2_misc': 'C:\\\\Users\\\\jasonjia\\\\Dropbox\\\\Projects\\\\conference_call\\\\output\\\\misc',\n",
       " 'l3_pdf_2': 'C:\\\\Users\\\\jasonjia\\\\Dropbox\\\\Projects\\\\conference_call\\\\output\\\\01_download_cc\\\\01.1_pdf_2',\n",
       " 'l3_xls_2': 'C:\\\\Users\\\\jasonjia\\\\Dropbox\\\\Projects\\\\conference_call\\\\output\\\\01_download_cc\\\\01.1_xls_2',\n",
       " 'l3_download_cc_checks': 'C:\\\\Users\\\\jasonjia\\\\Dropbox\\\\Projects\\\\conference_call\\\\output\\\\01_download_cc\\\\checks',\n",
       " 'l3_txt_2': 'C:\\\\Users\\\\jasonjia\\\\Dropbox\\\\Projects\\\\conference_call\\\\output\\\\02_process_cc\\\\02.1_txt_2',\n",
       " 'l3_csv_2': 'C:\\\\Users\\\\jasonjia\\\\Dropbox\\\\Projects\\\\conference_call\\\\output\\\\02_process_cc\\\\02.2_csv_2',\n",
       " 'l3_process_cc_checks': 'C:\\\\Users\\\\jasonjia\\\\Dropbox\\\\Projects\\\\conference_call\\\\output\\\\02_process_cc\\\\checks',\n",
       " 'l3_compustat_sas7bdat': 'C:\\\\Users\\\\jasonjia\\\\Dropbox\\\\Projects\\\\conference_call\\\\output\\\\03_firm_identification\\\\03.1_compustat_sas7bdat',\n",
       " 'l3_hassan_raw': 'C:\\\\Users\\\\jasonjia\\\\Dropbox\\\\Projects\\\\conference_call\\\\output\\\\03_firm_identification\\\\03.2_hassan_raw',\n",
       " 'l3_compustat_processed': 'C:\\\\Users\\\\jasonjia\\\\Dropbox\\\\Projects\\\\conference_call\\\\output\\\\03_firm_identification\\\\03.3_compustat_processed',\n",
       " 'l3_hassan_processed': 'C:\\\\Users\\\\jasonjia\\\\Dropbox\\\\Projects\\\\conference_call\\\\output\\\\03_firm_identification\\\\03.3_hassan_processed',\n",
       " 'l3_cc_list_2': 'C:\\\\Users\\\\jasonjia\\\\Dropbox\\\\Projects\\\\conference_call\\\\output\\\\03_firm_identification\\\\03.4_cc_list_2',\n",
       " 'l3_cc_list_sixun': 'C:\\\\Users\\\\jasonjia\\\\Dropbox\\\\Projects\\\\conference_call\\\\output\\\\03_firm_identification\\\\03.4_cc_list_sixun',\n",
       " 'l3_empty_set_of_folders': 'C:\\\\Users\\\\jasonjia\\\\Dropbox\\\\Projects\\\\conference_call\\\\output\\\\04_keyword_identification\\\\04.1_empty_set_of_50_group_folders',\n",
       " 'l3_reference_files': 'C:\\\\Users\\\\jasonjia\\\\Dropbox\\\\Projects\\\\conference_call\\\\output\\\\04_keyword_identification\\\\04.2_reference_files',\n",
       " 'l3_filled_set_of_folders': 'C:\\\\Users\\\\jasonjia\\\\Dropbox\\\\Projects\\\\conference_call\\\\output\\\\04_keyword_identification\\\\04.3_filled_set_of_50_group_folders',\n",
       " 'l3_totalcircnew': 'C:\\\\Users\\\\jasonjia\\\\Dropbox\\\\Projects\\\\conference_call\\\\output\\\\04_keyword_identification\\\\04.4_totalcircnew',\n",
       " 'l3_cric1_newtotal': 'C:\\\\Users\\\\jasonjia\\\\Dropbox\\\\Projects\\\\conference_call\\\\output\\\\04_keyword_identification\\\\04.5_cric1_newtotal',\n",
       " 'l3_paragraph_record': 'C:\\\\Users\\\\jasonjia\\\\Dropbox\\\\Projects\\\\conference_call\\\\output\\\\04_keyword_identification\\\\04.6_paragraph_record',\n",
       " 'l3_entry_files': 'C:\\\\Users\\\\jasonjia\\\\Dropbox\\\\Projects\\\\conference_call\\\\output\\\\04_keyword_identification\\\\04.7_entry_files',\n",
       " 'l3_entry_files_combined': 'C:\\\\Users\\\\jasonjia\\\\Dropbox\\\\Projects\\\\conference_call\\\\output\\\\04_keyword_identification\\\\04.8_entry_files_combined',\n",
       " 'l3_extract_mercury': 'C:\\\\Users\\\\jasonjia\\\\Dropbox\\\\Projects\\\\conference_call\\\\output\\\\05_extract_front_page_desc\\\\05.1_converted_on_mercury',\n",
       " 'l3_extract_windows': 'C:\\\\Users\\\\jasonjia\\\\Dropbox\\\\Projects\\\\conference_call\\\\output\\\\05_extract_front_page_desc\\\\05.1_converted_on_windows_jason',\n",
       " 'l3_extract_manual': 'C:\\\\Users\\\\jasonjia\\\\Dropbox\\\\Projects\\\\conference_call\\\\output\\\\05_extract_front_page_desc\\\\05.2_converted_manually',\n",
       " 'l3_extract_xlscombined': 'C:\\\\Users\\\\jasonjia\\\\Dropbox\\\\Projects\\\\conference_call\\\\output\\\\05_extract_front_page_desc\\\\05.3_xls_combined_withfrontpagedescriptions',\n",
       " 'l3_extract_entry_files_combined': 'C:\\\\Users\\\\jasonjia\\\\Dropbox\\\\Projects\\\\conference_call\\\\output\\\\05_extract_front_page_desc\\\\05.4_entryfiles_combined'}"
      ]
     },
     "execution_count": 103,
     "metadata": {},
     "output_type": "execute_result"
    }
   ],
   "source": [
    "test"
   ]
  },
  {
   "cell_type": "code",
   "execution_count": 104,
   "id": "01237c2f",
   "metadata": {},
   "outputs": [
    {
     "data": {
      "text/plain": [
       "'C:\\\\Users\\\\jasonjia\\\\Dropbox\\\\Projects\\\\conference_call'"
      ]
     },
     "execution_count": 104,
     "metadata": {},
     "output_type": "execute_result"
    }
   ],
   "source": [
    "test[\"root\"]"
   ]
  },
  {
   "cell_type": "code",
   "execution_count": 107,
   "id": "b87a9e46",
   "metadata": {},
   "outputs": [
    {
     "data": {
      "text/plain": [
       "WindowsPath('C:/Users/jasonjia/Dropbox/Projects/conference_call')"
      ]
     },
     "execution_count": 107,
     "metadata": {},
     "output_type": "execute_result"
    }
   ],
   "source": [
    "test_root = Path(test[\"root\"])\n",
    "test_root"
   ]
  },
  {
   "cell_type": "code",
   "execution_count": null,
   "id": "d26d48a3",
   "metadata": {},
   "outputs": [],
   "source": [
    "def proj_dir(){\n",
    "    proj_dir = pd.read_csv(r\"C:\\Users\\jasonjia\\Dropbox\\Projects\\conference_call\\code\\00_create_proj_dir\\proj_dir.csv\", header=None, index_col=0, squeeze=True).to_dict()\n",
    "    return proj_dir\n",
    "}"
   ]
  }
 ],
 "metadata": {
  "kernelspec": {
   "display_name": "Python 3 (ipykernel)",
   "language": "python",
   "name": "python3"
  },
  "language_info": {
   "codemirror_mode": {
    "name": "ipython",
    "version": 3
   },
   "file_extension": ".py",
   "mimetype": "text/x-python",
   "name": "python",
   "nbconvert_exporter": "python",
   "pygments_lexer": "ipython3",
   "version": "3.9.5"
  }
 },
 "nbformat": 4,
 "nbformat_minor": 5
}
