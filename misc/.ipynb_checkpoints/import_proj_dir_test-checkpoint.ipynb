{
 "cells": [
  {
   "cell_type": "code",
   "execution_count": null,
   "id": "4c6e6bb4",
   "metadata": {},
   "outputs": [],
   "source": [
    "import os\n",
    "from pathlib import Path"
   ]
  },
  {
   "cell_type": "code",
   "execution_count": null,
   "id": "fe853676",
   "metadata": {},
   "outputs": [],
   "source": [
    "Path.cwd()"
   ]
  },
  {
   "cell_type": "code",
   "execution_count": null,
   "id": "19f570f7",
   "metadata": {},
   "outputs": [],
   "source": [
    "currentfolder = Path.cwd().name\n",
    "currentfolder"
   ]
  },
  {
   "cell_type": "code",
   "execution_count": null,
   "id": "ab61dcd6",
   "metadata": {},
   "outputs": [],
   "source": [
    "# Go to the \".../conference_call/code\" folder\n",
    "while currentfolder != \"code\":\n",
    "    os.chdir(\"..\")\n",
    "    currentpath = Path.cwd()\n",
    "    print(currentpath)\n",
    "    currentfolder = currentpath.name\n",
    "\n",
    "print(Path.cwd())"
   ]
  },
  {
   "cell_type": "code",
   "execution_count": null,
   "id": "f2673518",
   "metadata": {},
   "outputs": [],
   "source": [
    "from toolkit import import_proj_dir"
   ]
  },
  {
   "cell_type": "code",
   "execution_count": null,
   "id": "21a91614",
   "metadata": {},
   "outputs": [],
   "source": [
    "proj_dir = import_proj_dir()\n",
    "proj_dir"
   ]
  },
  {
   "cell_type": "code",
   "execution_count": null,
   "id": "95597eb4",
   "metadata": {},
   "outputs": [],
   "source": [
    "proj_dir[\"root\"]"
   ]
  },
  {
   "cell_type": "code",
   "execution_count": null,
   "id": "9be73b69",
   "metadata": {},
   "outputs": [],
   "source": [
    "proj_dir[\"l3_extract_mercury\"]"
   ]
  },
  {
   "cell_type": "code",
   "execution_count": null,
   "id": "9ae0e301",
   "metadata": {},
   "outputs": [],
   "source": [
    "import os\n",
    "from pathlib import Path\n",
    "\n",
    "# Go to the \".../conference_call/code\" folder to import toolkit\n",
    "print(Path.cwd())\n",
    "\n",
    "while Path.cwd().name != \"code\":\n",
    "    os.chdir(\"..\")\n",
    "    print(Path.cwd())\n",
    "\n",
    "import toolkit\n",
    "proj_dir = toolkit.import_proj_dir()\n",
    "proj_dir"
   ]
  },
  {
   "cell_type": "code",
   "execution_count": 1,
   "id": "e046b1f8",
   "metadata": {},
   "outputs": [
    {
     "name": "stdout",
     "output_type": "stream",
     "text": [
      "C:\\Users\\jasonjia\\Dropbox\\Projects\\conference_call\\code\\misc\n",
      "C:\\Users\\jasonjia\\Dropbox\\Projects\\conference_call\\code\n"
     ]
    },
    {
     "data": {
      "text/plain": [
       "{'root': 'C:\\\\Users\\\\jasonjia\\\\Dropbox\\\\Projects\\\\conference_call',\n",
       " 'l1_code': 'C:\\\\Users\\\\jasonjia\\\\Dropbox\\\\Projects\\\\conference_call\\\\code',\n",
       " 'l1_documentation': 'C:\\\\Users\\\\jasonjia\\\\Dropbox\\\\Projects\\\\conference_call\\\\documentation',\n",
       " 'l1_output': 'C:\\\\Users\\\\jasonjia\\\\Dropbox\\\\Projects\\\\conference_call\\\\output',\n",
       " 'l2_create_proj_dir': 'C:\\\\Users\\\\jasonjia\\\\Dropbox\\\\Projects\\\\conference_call\\\\code\\\\00_create_proj_dir',\n",
       " 'l2_download_cc': 'C:\\\\Users\\\\jasonjia\\\\Dropbox\\\\Projects\\\\conference_call\\\\output\\\\01_download_cc',\n",
       " 'l2_process_cc': 'C:\\\\Users\\\\jasonjia\\\\Dropbox\\\\Projects\\\\conference_call\\\\output\\\\02_process_cc',\n",
       " 'l2_firm_identification': 'C:\\\\Users\\\\jasonjia\\\\Dropbox\\\\Projects\\\\conference_call\\\\output\\\\03_firm_identification',\n",
       " 'l2_keyword_identification': 'C:\\\\Users\\\\jasonjia\\\\Dropbox\\\\Projects\\\\conference_call\\\\output\\\\04_keyword_identification',\n",
       " 'l2_extract_front_page_desc': 'C:\\\\Users\\\\jasonjia\\\\Dropbox\\\\Projects\\\\conference_call\\\\output\\\\05_extract_front_page_desc',\n",
       " 'l2_misc': 'C:\\\\Users\\\\jasonjia\\\\Dropbox\\\\Projects\\\\conference_call\\\\output\\\\misc',\n",
       " 'l3_pdf_2': 'C:\\\\Users\\\\jasonjia\\\\Dropbox\\\\Projects\\\\conference_call\\\\output\\\\01_download_cc\\\\01.1_pdf_2',\n",
       " 'l3_xls_2': 'C:\\\\Users\\\\jasonjia\\\\Dropbox\\\\Projects\\\\conference_call\\\\output\\\\01_download_cc\\\\01.1_xls_2',\n",
       " 'l3_download_cc_checks': 'C:\\\\Users\\\\jasonjia\\\\Dropbox\\\\Projects\\\\conference_call\\\\output\\\\01_download_cc\\\\checks',\n",
       " 'l3_txt_2': 'C:\\\\Users\\\\jasonjia\\\\Dropbox\\\\Projects\\\\conference_call\\\\output\\\\02_process_cc\\\\02.1_txt_2',\n",
       " 'l3_csv_2': 'C:\\\\Users\\\\jasonjia\\\\Dropbox\\\\Projects\\\\conference_call\\\\output\\\\02_process_cc\\\\02.2_csv_2',\n",
       " 'l3_process_cc_checks': 'C:\\\\Users\\\\jasonjia\\\\Dropbox\\\\Projects\\\\conference_call\\\\output\\\\02_process_cc\\\\checks',\n",
       " 'l3_compustat_sas7bdat': 'C:\\\\Users\\\\jasonjia\\\\Dropbox\\\\Projects\\\\conference_call\\\\output\\\\03_firm_identification\\\\03.1_compustat_sas7bdat',\n",
       " 'l3_hassan_raw': 'C:\\\\Users\\\\jasonjia\\\\Dropbox\\\\Projects\\\\conference_call\\\\output\\\\03_firm_identification\\\\03.2_hassan_raw',\n",
       " 'l3_compustat_processed': 'C:\\\\Users\\\\jasonjia\\\\Dropbox\\\\Projects\\\\conference_call\\\\output\\\\03_firm_identification\\\\03.3_compustat_processed',\n",
       " 'l3_hassan_processed': 'C:\\\\Users\\\\jasonjia\\\\Dropbox\\\\Projects\\\\conference_call\\\\output\\\\03_firm_identification\\\\03.3_hassan_processed',\n",
       " 'l3_cc_list_2': 'C:\\\\Users\\\\jasonjia\\\\Dropbox\\\\Projects\\\\conference_call\\\\output\\\\03_firm_identification\\\\03.4_cc_list_2',\n",
       " 'l3_cc_list_sixun': 'C:\\\\Users\\\\jasonjia\\\\Dropbox\\\\Projects\\\\conference_call\\\\output\\\\03_firm_identification\\\\03.4_cc_list_sixun',\n",
       " 'l3_empty_set_of_folders': 'C:\\\\Users\\\\jasonjia\\\\Dropbox\\\\Projects\\\\conference_call\\\\output\\\\04_keyword_identification\\\\04.1_empty_set_of_50_group_folders',\n",
       " 'l3_reference_files': 'C:\\\\Users\\\\jasonjia\\\\Dropbox\\\\Projects\\\\conference_call\\\\output\\\\04_keyword_identification\\\\04.2_reference_files',\n",
       " 'l3_filled_set_of_folders': 'C:\\\\Users\\\\jasonjia\\\\Dropbox\\\\Projects\\\\conference_call\\\\output\\\\04_keyword_identification\\\\04.3_filled_set_of_50_group_folders',\n",
       " 'l3_totalcircnew': 'C:\\\\Users\\\\jasonjia\\\\Dropbox\\\\Projects\\\\conference_call\\\\output\\\\04_keyword_identification\\\\04.4_totalcircnew',\n",
       " 'l3_cric1_newtotal': 'C:\\\\Users\\\\jasonjia\\\\Dropbox\\\\Projects\\\\conference_call\\\\output\\\\04_keyword_identification\\\\04.5_cric1_newtotal',\n",
       " 'l3_paragraph_record': 'C:\\\\Users\\\\jasonjia\\\\Dropbox\\\\Projects\\\\conference_call\\\\output\\\\04_keyword_identification\\\\04.6_paragraph_record',\n",
       " 'l3_entry_files': 'C:\\\\Users\\\\jasonjia\\\\Dropbox\\\\Projects\\\\conference_call\\\\output\\\\04_keyword_identification\\\\04.7_entry_files',\n",
       " 'l3_entry_files_combined': 'C:\\\\Users\\\\jasonjia\\\\Dropbox\\\\Projects\\\\conference_call\\\\output\\\\04_keyword_identification\\\\04.8_entry_files_combined',\n",
       " 'l3_extract_mercury': 'C:\\\\Users\\\\jasonjia\\\\Dropbox\\\\Projects\\\\conference_call\\\\output\\\\05_extract_front_page_desc\\\\05.1_converted_on_mercury',\n",
       " 'l3_extract_windows': 'C:\\\\Users\\\\jasonjia\\\\Dropbox\\\\Projects\\\\conference_call\\\\output\\\\05_extract_front_page_desc\\\\05.1_converted_on_windows_jason',\n",
       " 'l3_extract_manual': 'C:\\\\Users\\\\jasonjia\\\\Dropbox\\\\Projects\\\\conference_call\\\\output\\\\05_extract_front_page_desc\\\\05.2_converted_manually',\n",
       " 'l3_extract_xlscombined': 'C:\\\\Users\\\\jasonjia\\\\Dropbox\\\\Projects\\\\conference_call\\\\output\\\\05_extract_front_page_desc\\\\05.3_xls_combined_withfrontpagedescriptions',\n",
       " 'l3_extract_entry_files_combined': 'C:\\\\Users\\\\jasonjia\\\\Dropbox\\\\Projects\\\\conference_call\\\\output\\\\05_extract_front_page_desc\\\\05.4_entryfiles_combined'}"
      ]
     },
     "execution_count": 1,
     "metadata": {},
     "output_type": "execute_result"
    }
   ],
   "source": [
    "import os\n",
    "from pathlib import Path\n",
    "\n",
    "# Go to the \".../conference_call/code\" folder to import toolkit\n",
    "print(Path.cwd())\n",
    "\n",
    "while Path.cwd().name != \"code\":\n",
    "    os.chdir(\"..\")\n",
    "    print(Path.cwd())\n",
    "\n",
    "import toolkit\n",
    "proj_dir = toolkit.import_proj_dir()\n",
    "proj_dir"
   ]
  },
  {
   "cell_type": "code",
   "execution_count": null,
   "id": "e4ec4822",
   "metadata": {},
   "outputs": [],
   "source": []
  }
 ],
 "metadata": {
  "kernelspec": {
   "display_name": "Python 3 (ipykernel)",
   "language": "python",
   "name": "python3"
  },
  "language_info": {
   "codemirror_mode": {
    "name": "ipython",
    "version": 3
   },
   "file_extension": ".py",
   "mimetype": "text/x-python",
   "name": "python",
   "nbconvert_exporter": "python",
   "pygments_lexer": "ipython3",
   "version": "3.9.5"
  }
 },
 "nbformat": 4,
 "nbformat_minor": 5
}
