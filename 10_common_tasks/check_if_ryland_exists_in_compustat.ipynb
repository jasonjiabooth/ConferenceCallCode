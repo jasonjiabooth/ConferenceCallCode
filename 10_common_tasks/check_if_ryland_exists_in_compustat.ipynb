{
 "cells": [
  {
   "cell_type": "code",
   "execution_count": 33,
   "id": "00e7e497",
   "metadata": {},
   "outputs": [],
   "source": [
    "import pandas as pd\n",
    "\n",
    "df = pd.read_csv(r\"C:\\Users\\jasonjia\\Dropbox\\Projects\\conference_call\\output\\03_firm_identification\\03.3_compustat_processed\\ciqcompany_mergedwithgvkeyandcountry.csv\")"
   ]
  },
  {
   "cell_type": "code",
   "execution_count": 34,
   "id": "e4c47d15",
   "metadata": {},
   "outputs": [
    {
     "data": {
      "text/html": [
       "<div>\n",
       "<style scoped>\n",
       "    .dataframe tbody tr th:only-of-type {\n",
       "        vertical-align: middle;\n",
       "    }\n",
       "\n",
       "    .dataframe tbody tr th {\n",
       "        vertical-align: top;\n",
       "    }\n",
       "\n",
       "    .dataframe thead th {\n",
       "        text-align: right;\n",
       "    }\n",
       "</style>\n",
       "<table border=\"1\" class=\"dataframe\">\n",
       "  <thead>\n",
       "    <tr style=\"text-align: right;\">\n",
       "      <th></th>\n",
       "      <th>companyid</th>\n",
       "      <th>companyname</th>\n",
       "      <th>countryid</th>\n",
       "      <th>gvkey</th>\n",
       "      <th>country</th>\n",
       "      <th>isocountry2</th>\n",
       "    </tr>\n",
       "  </thead>\n",
       "  <tbody>\n",
       "    <tr>\n",
       "      <th>0</th>\n",
       "      <td>18493.0</td>\n",
       "      <td>DC Venture Partners</td>\n",
       "      <td>213.0</td>\n",
       "      <td>NaN</td>\n",
       "      <td>United States</td>\n",
       "      <td>US</td>\n",
       "    </tr>\n",
       "    <tr>\n",
       "      <th>1</th>\n",
       "      <td>18495.0</td>\n",
       "      <td>13i Capital Corporation</td>\n",
       "      <td>213.0</td>\n",
       "      <td>NaN</td>\n",
       "      <td>United States</td>\n",
       "      <td>US</td>\n",
       "    </tr>\n",
       "    <tr>\n",
       "      <th>2</th>\n",
       "      <td>18499.0</td>\n",
       "      <td>21 International Holdings Inc.</td>\n",
       "      <td>213.0</td>\n",
       "      <td>NaN</td>\n",
       "      <td>United States</td>\n",
       "      <td>US</td>\n",
       "    </tr>\n",
       "    <tr>\n",
       "      <th>3</th>\n",
       "      <td>18501.0</td>\n",
       "      <td>21 Invest Sgr S.p.A.</td>\n",
       "      <td>99.0</td>\n",
       "      <td>NaN</td>\n",
       "      <td>Italy</td>\n",
       "      <td>IT</td>\n",
       "    </tr>\n",
       "    <tr>\n",
       "      <th>4</th>\n",
       "      <td>18505.0</td>\n",
       "      <td>Palo Alto Venture Partners</td>\n",
       "      <td>213.0</td>\n",
       "      <td>NaN</td>\n",
       "      <td>United States</td>\n",
       "      <td>US</td>\n",
       "    </tr>\n",
       "  </tbody>\n",
       "</table>\n",
       "</div>"
      ],
      "text/plain": [
       "   companyid                     companyname  countryid  gvkey        country  \\\n",
       "0    18493.0             DC Venture Partners      213.0    NaN  United States   \n",
       "1    18495.0         13i Capital Corporation      213.0    NaN  United States   \n",
       "2    18499.0  21 International Holdings Inc.      213.0    NaN  United States   \n",
       "3    18501.0            21 Invest Sgr S.p.A.       99.0    NaN          Italy   \n",
       "4    18505.0      Palo Alto Venture Partners      213.0    NaN  United States   \n",
       "\n",
       "  isocountry2  \n",
       "0          US  \n",
       "1          US  \n",
       "2          US  \n",
       "3          IT  \n",
       "4          US  "
      ]
     },
     "execution_count": 34,
     "metadata": {},
     "output_type": "execute_result"
    }
   ],
   "source": [
    "df.head()"
   ]
  },
  {
   "cell_type": "code",
   "execution_count": 35,
   "id": "3e815f34",
   "metadata": {},
   "outputs": [
    {
     "data": {
      "text/plain": [
       "0                                         DC Venture Partners\n",
       "1                                     13i Capital Corporation\n",
       "2                              21 International Holdings Inc.\n",
       "3                                        21 Invest Sgr S.p.A.\n",
       "4                                  Palo Alto Venture Partners\n",
       "                                  ...                        \n",
       "25623988    Somers Murphy & Earl Business Advisory Service...\n",
       "25623989                                          Bo Toulouse\n",
       "25623990                        Feel Unique Beauty School Ltd\n",
       "25623991                                  Armson Property Ltd\n",
       "25623992                           Dedicate Management S.r.l.\n",
       "Name: companyname, Length: 25623993, dtype: object"
      ]
     },
     "execution_count": 35,
     "metadata": {},
     "output_type": "execute_result"
    }
   ],
   "source": [
    "companyname = df['companyname']\n",
    "companyname"
   ]
  },
  {
   "cell_type": "code",
   "execution_count": 36,
   "id": "d271afaa",
   "metadata": {},
   "outputs": [
    {
     "data": {
      "text/plain": [
       "0                                         dc venture partners\n",
       "1                                     13i capital corporation\n",
       "2                              21 international holdings inc.\n",
       "3                                        21 invest sgr s.p.a.\n",
       "4                                  palo alto venture partners\n",
       "                                  ...                        \n",
       "25623988    somers murphy & earl business advisory service...\n",
       "25623989                                          bo toulouse\n",
       "25623990                        feel unique beauty school ltd\n",
       "25623991                                  armson property ltd\n",
       "25623992                           dedicate management s.r.l.\n",
       "Name: companyname, Length: 25623993, dtype: object"
      ]
     },
     "execution_count": 36,
     "metadata": {},
     "output_type": "execute_result"
    }
   ],
   "source": [
    "companyname = companyname.str.lower()\n",
    "companyname"
   ]
  },
  {
   "cell_type": "code",
   "execution_count": 37,
   "id": "405fa608",
   "metadata": {},
   "outputs": [
    {
     "data": {
      "text/plain": [
       "0                                         dc venture partners\n",
       "1                                     13i capital corporation\n",
       "2                              21 international holdings inc.\n",
       "3                                        21 invest sgr s.p.a.\n",
       "4                                  palo alto venture partners\n",
       "                                  ...                        \n",
       "25623988    somers murphy & earl business advisory service...\n",
       "25623989                                          bo toulouse\n",
       "25623990                        feel unique beauty school ltd\n",
       "25623991                                  armson property ltd\n",
       "25623992                           dedicate management s.r.l.\n",
       "Name: companyname, Length: 25623991, dtype: object"
      ]
     },
     "execution_count": 37,
     "metadata": {},
     "output_type": "execute_result"
    }
   ],
   "source": [
    "companyname = companyname.dropna()\n",
    "companyname"
   ]
  },
  {
   "cell_type": "code",
   "execution_count": 38,
   "id": "b16ea0bb",
   "metadata": {},
   "outputs": [
    {
     "data": {
      "text/plain": [
       "1323                           maryland venture capital trust\n",
       "23538                   new venture capital group of maryland\n",
       "27097                                     bank maryland corp.\n",
       "29101                          maryland federal bancorp, inc.\n",
       "29666                                     basi maryland, inc.\n",
       "                                  ...                        \n",
       "25531118                       maryland express service, inc.\n",
       "25533258                            wend central maryland llc\n",
       "25534149    one medical cannabis growing operation, one pr...\n",
       "25547356         true line coring & cutting of maryland, inc.\n",
       "25620497                              ruckoldt & rylander ltd\n",
       "Name: companyname, Length: 3329, dtype: object"
      ]
     },
     "execution_count": 38,
     "metadata": {},
     "output_type": "execute_result"
    }
   ],
   "source": [
    "ryland = companyname[companyname.str.contains('ryland')]\n",
    "ryland"
   ]
  },
  {
   "cell_type": "code",
   "execution_count": 39,
   "id": "a156206f",
   "metadata": {},
   "outputs": [],
   "source": [
    "rylandhomes = ryland[ryland.str.contains('home')]"
   ]
  },
  {
   "cell_type": "code",
   "execution_count": 40,
   "id": "cb246963",
   "metadata": {},
   "outputs": [],
   "source": [
    "rylandhomes = rylandhomes[~(rylandhomes.str.contains('maryland'))]"
   ]
  },
  {
   "cell_type": "code",
   "execution_count": 41,
   "id": "0c8bce4a",
   "metadata": {},
   "outputs": [
    {
     "data": {
      "text/plain": [
       "188681                 ryland homes of california, inc.\n",
       "867607                          ryland homes nevada llc\n",
       "867608                     ryland homes of arizona inc.\n",
       "867610                      ryland homes of texas, inc.\n",
       "867612               ryland homes investment texas inc.\n",
       "1048498                  ryland homes insurance company\n",
       "2929617             merrylands nursing home pty limited\n",
       "2967287     ryland homes inland empire customer service\n",
       "6736503                ryland-american home fund 1988-1\n",
       "11039036         ryland homes of hollifield station llc\n",
       "18442966                   rylands nursing home limited\n",
       "Name: companyname, dtype: object"
      ]
     },
     "execution_count": 41,
     "metadata": {},
     "output_type": "execute_result"
    }
   ],
   "source": [
    "rylandhomes"
   ]
  },
  {
   "cell_type": "code",
   "execution_count": 42,
   "id": "47dd2c50",
   "metadata": {},
   "outputs": [],
   "source": [
    "rylandgroup = ryland[ryland.str.contains('group')]\n",
    "rylandgroup = rylandgroup[~(rylandgroup.str.contains('maryland'))]\n",
    "rylandgroup = rylandgroup[~(rylandgroup.str.contains('merryland'))]\n",
    "rylandgroup = rylandgroup[~(rylandgroup.str.contains('henryland'))]\n",
    "rylandgroup = rylandgroup[~(rylandgroup.str.contains('storyland'))]"
   ]
  },
  {
   "cell_type": "code",
   "execution_count": 43,
   "id": "4667cb64",
   "metadata": {},
   "outputs": [
    {
     "data": {
      "text/plain": [
       "29960                                       ryland group inc.\n",
       "685021         ryland group plc, mercedes-benz van operations\n",
       "686559      ryland group plc, two dealerships in wolverham...\n",
       "716143      ryland group plc, peugeot dealership in stoke-...\n",
       "726155                   ryland group plc, daf/ldv activities\n",
       "735240      ryland group plc, rystar aston and selly oak o...\n",
       "776869      ryland group plc, alfa romeo dealership in knowle\n",
       "784120      ryland group plc, fiat/alfa romeo dealerships ...\n",
       "829632      ryland group plc, ford coventry retail operations\n",
       "846690                ryland group plc, 3 renault dealerships\n",
       "885704      ryland group plc, ford northampton retail oper...\n",
       "1172991               ryland group ltd., nine car dealerships\n",
       "5778055                                  ryland group limited\n",
       "16252173                        ryland group services limited\n",
       "Name: companyname, dtype: object"
      ]
     },
     "execution_count": 43,
     "metadata": {},
     "output_type": "execute_result"
    }
   ],
   "source": [
    "rylandgroup"
   ]
  },
  {
   "cell_type": "code",
   "execution_count": 45,
   "id": "f6acb0cc",
   "metadata": {},
   "outputs": [
    {
     "data": {
      "text/plain": [
       "companyid               301069.0\n",
       "companyname    Ryland Group Inc.\n",
       "countryid                  213.0\n",
       "gvkey                     9302.0\n",
       "country            United States\n",
       "isocountry2                   US\n",
       "Name: 29960, dtype: object"
      ]
     },
     "execution_count": 45,
     "metadata": {},
     "output_type": "execute_result"
    }
   ],
   "source": [
    "df.iloc[29960]"
   ]
  },
  {
   "cell_type": "code",
   "execution_count": null,
   "id": "78533455",
   "metadata": {},
   "outputs": [],
   "source": []
  }
 ],
 "metadata": {
  "kernelspec": {
   "display_name": "Python 3 (ipykernel)",
   "language": "python",
   "name": "python3"
  },
  "language_info": {
   "codemirror_mode": {
    "name": "ipython",
    "version": 3
   },
   "file_extension": ".py",
   "mimetype": "text/x-python",
   "name": "python",
   "nbconvert_exporter": "python",
   "pygments_lexer": "ipython3",
   "version": "3.9.7"
  }
 },
 "nbformat": 4,
 "nbformat_minor": 5
}
