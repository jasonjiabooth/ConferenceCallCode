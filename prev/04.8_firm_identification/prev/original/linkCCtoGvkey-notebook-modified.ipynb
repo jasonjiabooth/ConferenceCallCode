{
 "cells": [
  {
   "cell_type": "code",
   "execution_count": 2,
   "id": "322ea7de",
   "metadata": {},
   "outputs": [],
   "source": [
    "using CSV\n",
    "using DataFrames\n",
    "using StringDistances\n",
    "\n",
    "# ``` parse CC datalist to match firm name to compustat gvkey and country ```\n",
    "# ``` to match 3 source are using: 1) Hassan dataset 2) compustat capital IQ companies dataset 3) compustat capital IQ ticker ```\n",
    "# ``` for unmatched firm's name, string distance comparison is using. ```"
   ]
  },
  {
   "cell_type": "code",
   "execution_count": 3,
   "id": "133ab808",
   "metadata": {},
   "outputs": [
    {
     "data": {
      "text/plain": [
       "getTicker (generic function with 1 method)"
      ]
     },
     "execution_count": 3,
     "metadata": {},
     "output_type": "execute_result"
    }
   ],
   "source": [
    "function getTicker(str) #``` tries to parse ticker from the title in .csv```\n",
    "    try\n",
    "        # f=findfirst(\" - \",str)[1]\n",
    "        f=findfirst(\" \",str)[1]\n",
    "        p=f\n",
    "        if !isnothing(findfirst(\".\",str[1:f-1]))\n",
    "            p=findfirst(\".\",str[1:f-1])[1]\n",
    "        end\n",
    "        return replace(str[1:p-1],r\"[\\W]\"=>\"\")\n",
    "    catch\n",
    "        return \"\"\n",
    "    end\n",
    "end"
   ]
  },
  {
   "cell_type": "code",
   "execution_count": 4,
   "id": "892e311d",
   "metadata": {},
   "outputs": [
    {
     "data": {
      "text/plain": [
       "deleteCorpWords (generic function with 1 method)"
      ]
     },
     "execution_count": 4,
     "metadata": {},
     "output_type": "execute_result"
    }
   ],
   "source": [
    "function deleteCorpWords(fname) #``` delete common words```\n",
    "    words=[\"earnings conference call\",\"conference call on productivity\", \"earnings release conference\", \"financial release conference\",\n",
    "        \"conference call regarding\", \"earnings conference\", \"comprehensive review\", \"final transcript\", \"edited transcript\",\n",
    "        \"week conference\", \"conference call\", \"edited brief\", \"preliminary brief\", \"earnings call\", \"earning call\",\n",
    "        \"preliminary transcript\", \"final transcript\", \"call\",\"cal\",\"merger\",\"c\", \"earning\",\"earnings\", \"to discuss\",\n",
    "        \"group\",\"plc\",\"ltd\",\"limited\",\"ag\",\"corp\",\"corporation\",\"Incorporation\",\"laboratories\",\"labs\",\"the\",\"proposed\",\"propose\",\n",
    "                        \"holdings\",\"oyj\",\"inc\",\"conference\",\"co\", \"final\",\"preliminary\",\"and\",\"&\",\n",
    "                        \"company\",\"trust\",\"investment\",\"investments\",\"sln\",\"sa\",\"s.p.a.\",\"spa\",\"transc\",\n",
    "                        \"quarter\",\"st\",\"nd\",\"rd\",\"th\",\n",
    "                        \"q\", \"jan\",\"feb\",\"mar\",\"apr\",\"may\",\"jun\",\"jul\",\"aug\",\"sep\",\"oct\",\"nov\",\"dec\",\n",
    "                        ]\n",
    "\n",
    "    fname = string(\" \",fname,\" \")\n",
    "    fname=replace(fname,r\"[0-9]\"=>\" \")\n",
    "    for w in words\n",
    "        fname=replace(fname,Regex(\"\\\\b$w\\\\b\") => \" \")\n",
    "    end\n",
    "\n",
    "    return strip(fname)\n",
    "end"
   ]
  },
  {
   "cell_type": "code",
   "execution_count": 5,
   "id": "f3c30d15",
   "metadata": {},
   "outputs": [
    {
     "data": {
      "text/plain": [
       "prepareName (generic function with 1 method)"
      ]
     },
     "execution_count": 5,
     "metadata": {},
     "output_type": "execute_result"
    }
   ],
   "source": [
    "function prepareName(fname) #\"\"\" prepare name for matching \"\"\"\n",
    "    fname=lowercase(fname)\n",
    "\n",
    "    try\n",
    "        f=findfirst(\"event transcript of\",fname)[end]\n",
    "        fname=fname[nextind(fname,f):end]\n",
    "    catch\n",
    "    end\n",
    "    try\n",
    "        f=findfirst(\"event brief of\",fname)[end]\n",
    "        fname=fname[nextind(fname,f):end]\n",
    "    catch\n",
    "    end\n",
    "\n",
    "    try\n",
    "        f=findfirst(\" - \",fname)[end]\n",
    "        fname=fname[1:f]\n",
    "    catch\n",
    "    end\n",
    "\n",
    "    fname=replace(fname,r\"\\((.*)\\)\"=>\"\")\n",
    "    fname=deleteCorpWords(fname)\n",
    "    return strip(replace(fname,r\"[.,'#-/0-9]\"=>\"\"))\n",
    "end"
   ]
  },
  {
   "cell_type": "code",
   "execution_count": 6,
   "id": "2c90f7a4",
   "metadata": {},
   "outputs": [
    {
     "data": {
      "text/plain": [
       "getGVKey_ticker (generic function with 1 method)"
      ]
     },
     "execution_count": 6,
     "metadata": {},
     "output_type": "execute_result"
    }
   ],
   "source": [
    "function getGVkeyH(fname)\n",
    "    try\n",
    "        return gvkey_dict_h[prepareName(fname)]\n",
    "    catch\n",
    "        return 0\n",
    "    end\n",
    "end\n",
    "\n",
    "function getGVkeyC(fname)\n",
    "    try\n",
    "        return gvkey_dict_c[prepareName(fname)]\n",
    "    catch\n",
    "        return 0\n",
    "    end\n",
    "end\n",
    "\n",
    "function getGVKey_ticker(ticker)\n",
    "    try\n",
    "        return ticker_gvkey_uniq[ticker]\n",
    "    catch\n",
    "        return 0\n",
    "    end\n",
    "end"
   ]
  },
  {
   "cell_type": "code",
   "execution_count": 7,
   "id": "f2741e02",
   "metadata": {},
   "outputs": [
    {
     "data": {
      "text/plain": [
       "GuesNameTicker! (generic function with 1 method)"
      ]
     },
     "execution_count": 7,
     "metadata": {},
     "output_type": "execute_result"
    }
   ],
   "source": [
    "function GuesNameTicker!(dfCC) #lookf through set of company names by tikers. (some tickers has several names) ```\n",
    "    global cash_dict\n",
    "    # dfCC[!,:prob].=1.\n",
    "    # dfCC[!,:gues_by_dticker].=0\n",
    "    # dfCC[!,:gues_name].=\"\"\n",
    "    for r in eachrow(dfCC)\n",
    "\n",
    "            if r.gvkey==0\n",
    "                firmname=prepareName(r.Title)\n",
    "                #check cash\n",
    "                if haskey(cash_dict,firmname)\n",
    "                    cash=cash_dict[firmname]\n",
    "                    r.prob=cash[1]\n",
    "                    r.gues_name=cash[2]\n",
    "                    r.gvkey = cash[3]\n",
    "                    cash[4]==1 ? r.gues_by_dticker=1 : r.gues_by_dticker=0\n",
    "\n",
    "                else\n",
    "                    # println(r.ticker)\n",
    "                    possible_compname= dfCompT[dfCompT.tickersymbol.==r.ticker,:] #set of possible company names\n",
    "                    if size(possible_compname)[1]>1\n",
    "                        prob=0\n",
    "                        best_match=\"\"\n",
    "                        gvkey_match=0\n",
    "                        for pn in eachrow(possible_compname)\n",
    "                            p=compare(prepareName(pn.companyname),firmname,Jaro())\n",
    "                            if p>prob\n",
    "                                 prob=p\n",
    "                                 best_match=pn.companyname\n",
    "                                 gvkey_match=pn.gvkey\n",
    "                            end\n",
    "                        end\n",
    "                        if prob>0.8\n",
    "                            r.prob=prob\n",
    "                            r.gues_name=best_match\n",
    "                            r.gvkey=gvkey_match\n",
    "                            r.gues_by_dticker=1\n",
    "                            cash_dict[firmname]=[prob,best_match,gvkey_match,1]\n",
    "                        end\n",
    "                    end\n",
    "                end\n",
    "            end\n",
    "    end\n",
    "end"
   ]
  },
  {
   "cell_type": "code",
   "execution_count": 8,
   "id": "24b82dc9",
   "metadata": {},
   "outputs": [
    {
     "data": {
      "text/plain": [
       "GuesName! (generic function with 1 method)"
      ]
     },
     "execution_count": 8,
     "metadata": {},
     "output_type": "execute_result"
    }
   ],
   "source": [
    "function GuesName!(dfCC)# \"\"\" mactch companies name by the best matched\"\"\"\n",
    "    # dfCC[!,:prob].=1.\n",
    "    # dfCC[!,:gues_name].=\"\"\n",
    "    global cash_dict\n",
    "    for r in eachrow(dfCC)\n",
    "        if r.gvkey==0\n",
    "            fname=prepareName(r.Title)\n",
    "            #check cash\n",
    "            if haskey(cash_dict,fname)\n",
    "                cash=cash_dict[fname]\n",
    "                r.prob=cash[1]\n",
    "                r.gues_name=cash[2]\n",
    "                r.gvkey = cash[3]\n",
    "                cash[4]==1 ? r.gues_by_dticker=1 : r.gues_by_dticker=0\n",
    "            else\n",
    "                best_match=firm_names[1]\n",
    "                gvkey_match=gvkey_dict_h[best_match]\n",
    "                prob=compare(fname, best_match, Jaro())\n",
    "                for f in firm_names[2:end]\n",
    "                    p=compare(fname, f, Jaro())\n",
    "                    if p>prob\n",
    "                      prob=p\n",
    "                      best_match=f\n",
    "                      gvkey_match = haskey(gvkey_dict_h,best_match) ? gvkey_dict_h[best_match] : gvkey_dict_c[best_match]\n",
    "                    end\n",
    "                end\n",
    "                r.prob=prob\n",
    "                r.gvkey=gvkey_match\n",
    "                r.gues_name=best_match\n",
    "                cash_dict[fname]=[prob,best_match,gvkey_match,0]\n",
    "            end\n",
    "        end\n",
    "    end\n",
    "end"
   ]
  },
  {
   "cell_type": "code",
   "execution_count": 9,
   "id": "4bf02a4b",
   "metadata": {},
   "outputs": [
    {
     "data": {
      "text/plain": [
       "MergeGvkey! (generic function with 1 method)"
      ]
     },
     "execution_count": 9,
     "metadata": {},
     "output_type": "execute_result"
    }
   ],
   "source": [
    "function MergeGvkey!(dfCC) #\"\"\" create the main gvkey based on three keys: hassan, compustat, tickers \"\"\"\n",
    "    dfCC[!,:gvkey].=0\n",
    "    for r in eachrow(dfCC)\n",
    "        if !((r.gvkey_t.==0) .& (r.gvkey_h.==0) .& (r.gvkey_cj0))\n",
    "            r.gvkey=r.gvkey_c\n",
    "            if r.gvkey==0\n",
    "                r.gvkey=r.gvkey_h\n",
    "                if r.gvkey==0\n",
    "                    r.gvkey=r.gvkey_t\n",
    "                end\n",
    "            end\n",
    "        end\n",
    "    end\n",
    "end"
   ]
  },
  {
   "cell_type": "code",
   "execution_count": 10,
   "id": "0c6357ed",
   "metadata": {},
   "outputs": [
    {
     "data": {
      "text/plain": [
       "matchFile (generic function with 1 method)"
      ]
     },
     "execution_count": 10,
     "metadata": {},
     "output_type": "execute_result"
    }
   ],
   "source": [
    "function  matchFile(filename)\n",
    "    #read Call csv file\n",
    "    try\n",
    "        dfCC=CSV.read(\"$filename.csv\",copycols=true)\n",
    "\n",
    "        #parse ticker from SubTitile\n",
    "        dfCC[!,:ticker]=getTicker.(dfCC.Subtitle)\n",
    "        #match three sources gvkeys\n",
    "        dfCC[!,:gvkey_t].= getGVKey_ticker.(dfCC[:,:ticker])\n",
    "        dfCC[!,:gvkey_h]=getGVkeyH.(dfCC.Title)\n",
    "        dfCC[!,:gvkey_c]=getGVkeyC.(dfCC.Title)\n",
    "\n",
    "\n",
    "\n",
    "        #Merge into one main gvkey\n",
    "        MergeGvkey!(dfCC)\n",
    "        #match firms without gvkey\n",
    "        dfCC[!,:prob].=1.\n",
    "        dfCC[!,:gues_by_dticker].=0\n",
    "        dfCC[!,:gues_name].=\"\"\n",
    "\n",
    "        GuesNameTicker!(dfCC)\n",
    "        GuesName!(dfCC)\n",
    "        #println(dfCC[:,[:gvkey_c,:gvkey_h,:gvkey_t,:gvkey,:prob,:Title,:gues_name]])\n",
    "\n",
    "        dfCC=join(dfCC,dfCompGvkeyUniqu[:,[:gvkey,:countryid,:country]], on = :gvkey, kind = :inner)\n",
    "        dfCC[!,:filename].=filename\n",
    "        select!(dfCC,Not(:Call))\n",
    "        return dfCC\n",
    "    catch\n",
    "    end\n",
    "end"
   ]
  },
  {
   "cell_type": "code",
   "execution_count": 11,
   "id": "ac475db8",
   "metadata": {},
   "outputs": [
    {
     "data": {
      "text/plain": [
       "DoFolder (generic function with 1 method)"
      ]
     },
     "execution_count": 11,
     "metadata": {},
     "output_type": "execute_result"
    }
   ],
   "source": [
    "function DoFolder(year)\n",
    "    dfList=DataFrame()\n",
    "    files=readdir()\n",
    "    \n",
    "    for file in files\n",
    "        println(file)\n",
    "        \n",
    "        # if file[end-2:end]==\"csv\"\n",
    "        if (file[1:4]==string(year))\n",
    "            try\n",
    "                dfCC=matchFile(file[1:end-4])\n",
    "                append!(dfList,dfCC)\n",
    "                # println(\"$file done \")\n",
    "            catch e\n",
    "                println(\"$file error\", e)\n",
    "            end\n",
    "        end\n",
    "    end\n",
    "    \n",
    "    # return dfList\n",
    "    sort!(dfList,:prob)\n",
    "    CSV.write(\"CC_List$year.csv\",dfList)\n",
    "end"
   ]
  },
  {
   "cell_type": "code",
   "execution_count": 12,
   "id": "f1878c13",
   "metadata": {},
   "outputs": [
    {
     "name": "stdout",
     "output_type": "stream",
     "text": [
      "start linking CC to GVKEY\n"
     ]
    }
   ],
   "source": [
    "println(\"start linking CC to GVKEY\")\n",
    "\n",
    "# \"\"\" SET Current Folder \"\"\"\n",
    "cd(\"C:\\\\Users\\\\jasonjia\\\\Dropbox\\\\Projects\\\\ConferenceCall\\\\Output\\\\ConferenceCall\\\\Csv\")"
   ]
  },
  {
   "cell_type": "code",
   "execution_count": 13,
   "id": "532fd874",
   "metadata": {},
   "outputs": [],
   "source": [
    "# \"\"\"Prepare dictionaries and variables\"\"\"\n",
    "dfSV_hassan=CSV.read(\"C:\\\\Users\\\\jasonjia\\\\Dropbox\\\\Projects\\\\ConferenceCall\\\\Output\\\\FirmIdentification\\\\Hassan\\\\Hassanfile_raw_updated2019030_truncated.csv\", DataFrame)"
   ]
  },
  {
   "cell_type": "code",
   "execution_count": null,
   "id": "25105730",
   "metadata": {},
   "outputs": [
    {
     "data": {
      "text/html": [
       "<table class=\"data-frame\"><thead><tr><th></th><th>companyid</th><th>companyname</th><th>countryid</th><th>gvkey</th><th>country</th></tr><tr><th></th><th>Float64</th><th>String?</th><th>Float64?</th><th>Float64?</th><th>String63?</th></tr></thead><tbody><p>25,623,993 rows × 7 columns (omitted printing of 2 columns)</p><tr><th>1</th><td>18493.0</td><td>DC Venture Partners</td><td>213.0</td><td><em>missing</em></td><td>United States</td></tr><tr><th>2</th><td>18495.0</td><td>13i Capital Corporation</td><td>213.0</td><td><em>missing</em></td><td>United States</td></tr><tr><th>3</th><td>18499.0</td><td>21 International Holdings Inc.</td><td>213.0</td><td><em>missing</em></td><td>United States</td></tr><tr><th>4</th><td>18501.0</td><td>21 Invest Sgr S.p.A.</td><td>99.0</td><td><em>missing</em></td><td>Italy</td></tr><tr><th>5</th><td>18505.0</td><td>Palo Alto Venture Partners</td><td>213.0</td><td><em>missing</em></td><td>United States</td></tr><tr><th>6</th><td>18507.0</td><td>2M Invest A/S</td><td>55.0</td><td>235716.0</td><td>Denmark</td></tr><tr><th>7</th><td>18509.0</td><td>2nd Generation Capital LLC</td><td>213.0</td><td><em>missing</em></td><td>United States</td></tr><tr><th>8</th><td>18511.0</td><td>3i Group plc</td><td>212.0</td><td>210835.0</td><td>United Kingdom</td></tr><tr><th>9</th><td>18513.0</td><td>4C Ventures</td><td>213.0</td><td><em>missing</em></td><td>United States</td></tr><tr><th>10</th><td>18515.0</td><td>Pappas Capital, LLC</td><td>213.0</td><td><em>missing</em></td><td>United States</td></tr><tr><th>11</th><td>18517.0</td><td>Aabaar Venture Capital</td><td>213.0</td><td><em>missing</em></td><td>United States</td></tr><tr><th>12</th><td>18519.0</td><td>AAM Capital Partners, L.P.</td><td>213.0</td><td><em>missing</em></td><td>United States</td></tr><tr><th>13</th><td>18523.0</td><td>AB SBIC Inc.</td><td>213.0</td><td><em>missing</em></td><td>United States</td></tr><tr><th>14</th><td>18525.0</td><td>Abacus Ventures Pte. Ltd.</td><td>182.0</td><td><em>missing</em></td><td>Singapore</td></tr><tr><th>15</th><td>18527.0</td><td>ABB Ltd</td><td>195.0</td><td>210418.0</td><td>Switzerland</td></tr><tr><th>16</th><td>18529.0</td><td>Abbott Capital Management, LLC</td><td>213.0</td><td><em>missing</em></td><td>United States</td></tr><tr><th>17</th><td>18531.0</td><td>Aberlyn Capital Management Company</td><td>213.0</td><td><em>missing</em></td><td>United States</td></tr><tr><th>18</th><td>18533.0</td><td>Abingworth LLP</td><td>212.0</td><td><em>missing</em></td><td>United Kingdom</td></tr><tr><th>19</th><td>18535.0</td><td>ABN AMRO Capital USA, Inc.</td><td>213.0</td><td><em>missing</em></td><td>United States</td></tr><tr><th>20</th><td>18539.0</td><td>ABN AMRO Private Equity (US)</td><td>213.0</td><td><em>missing</em></td><td>United States</td></tr><tr><th>21</th><td>18543.0</td><td>ABP Acquisition Corp.</td><td>213.0</td><td><em>missing</em></td><td>United States</td></tr><tr><th>22</th><td>18545.0</td><td>ABRY Partners, LLC</td><td>213.0</td><td><em>missing</em></td><td>United States</td></tr><tr><th>23</th><td>18547.0</td><td>ABS Capital Partners, Inc.</td><td>213.0</td><td><em>missing</em></td><td>United States</td></tr><tr><th>24</th><td>18549.0</td><td>Calvert Capital Management Company</td><td>213.0</td><td><em>missing</em></td><td>United States</td></tr><tr><th>&vellip;</th><td>&vellip;</td><td>&vellip;</td><td>&vellip;</td><td>&vellip;</td><td>&vellip;</td></tr></tbody></table>"
      ],
      "text/latex": [
       "\\begin{tabular}{r|cccccc}\n",
       "\t& companyid & companyname & countryid & gvkey & country & \\\\\n",
       "\t\\hline\n",
       "\t& Float64 & String? & Float64? & Float64? & String63? & \\\\\n",
       "\t\\hline\n",
       "\t1 & 18493.0 & DC Venture Partners & 213.0 & \\emph{missing} & United States & $\\dots$ \\\\\n",
       "\t2 & 18495.0 & 13i Capital Corporation & 213.0 & \\emph{missing} & United States & $\\dots$ \\\\\n",
       "\t3 & 18499.0 & 21 International Holdings Inc. & 213.0 & \\emph{missing} & United States & $\\dots$ \\\\\n",
       "\t4 & 18501.0 & 21 Invest Sgr S.p.A. & 99.0 & \\emph{missing} & Italy & $\\dots$ \\\\\n",
       "\t5 & 18505.0 & Palo Alto Venture Partners & 213.0 & \\emph{missing} & United States & $\\dots$ \\\\\n",
       "\t6 & 18507.0 & 2M Invest A/S & 55.0 & 235716.0 & Denmark & $\\dots$ \\\\\n",
       "\t7 & 18509.0 & 2nd Generation Capital LLC & 213.0 & \\emph{missing} & United States & $\\dots$ \\\\\n",
       "\t8 & 18511.0 & 3i Group plc & 212.0 & 210835.0 & United Kingdom & $\\dots$ \\\\\n",
       "\t9 & 18513.0 & 4C Ventures & 213.0 & \\emph{missing} & United States & $\\dots$ \\\\\n",
       "\t10 & 18515.0 & Pappas Capital, LLC & 213.0 & \\emph{missing} & United States & $\\dots$ \\\\\n",
       "\t11 & 18517.0 & Aabaar Venture Capital & 213.0 & \\emph{missing} & United States & $\\dots$ \\\\\n",
       "\t12 & 18519.0 & AAM Capital Partners, L.P. & 213.0 & \\emph{missing} & United States & $\\dots$ \\\\\n",
       "\t13 & 18523.0 & AB SBIC Inc. & 213.0 & \\emph{missing} & United States & $\\dots$ \\\\\n",
       "\t14 & 18525.0 & Abacus Ventures Pte. Ltd. & 182.0 & \\emph{missing} & Singapore & $\\dots$ \\\\\n",
       "\t15 & 18527.0 & ABB Ltd & 195.0 & 210418.0 & Switzerland & $\\dots$ \\\\\n",
       "\t16 & 18529.0 & Abbott Capital Management, LLC & 213.0 & \\emph{missing} & United States & $\\dots$ \\\\\n",
       "\t17 & 18531.0 & Aberlyn Capital Management Company & 213.0 & \\emph{missing} & United States & $\\dots$ \\\\\n",
       "\t18 & 18533.0 & Abingworth LLP & 212.0 & \\emph{missing} & United Kingdom & $\\dots$ \\\\\n",
       "\t19 & 18535.0 & ABN AMRO Capital USA, Inc. & 213.0 & \\emph{missing} & United States & $\\dots$ \\\\\n",
       "\t20 & 18539.0 & ABN AMRO Private Equity (US) & 213.0 & \\emph{missing} & United States & $\\dots$ \\\\\n",
       "\t21 & 18543.0 & ABP Acquisition Corp. & 213.0 & \\emph{missing} & United States & $\\dots$ \\\\\n",
       "\t22 & 18545.0 & ABRY Partners, LLC & 213.0 & \\emph{missing} & United States & $\\dots$ \\\\\n",
       "\t23 & 18547.0 & ABS Capital Partners, Inc. & 213.0 & \\emph{missing} & United States & $\\dots$ \\\\\n",
       "\t24 & 18549.0 & Calvert Capital Management Company & 213.0 & \\emph{missing} & United States & $\\dots$ \\\\\n",
       "\t$\\dots$ & $\\dots$ & $\\dots$ & $\\dots$ & $\\dots$ & $\\dots$ &  \\\\\n",
       "\\end{tabular}\n"
      ],
      "text/plain": [
       "25623993×7 DataFrame. Omitted printing of 6 columns\n",
       "│ Row      │ companyid │\n",
       "│          │ \u001b[90mFloat64\u001b[39m   │\n",
       "├──────────┼───────────┤\n",
       "│ 1        │ 18493.0   │\n",
       "│ 2        │ 18495.0   │\n",
       "│ 3        │ 18499.0   │\n",
       "│ 4        │ 18501.0   │\n",
       "│ 5        │ 18505.0   │\n",
       "│ 6        │ 18507.0   │\n",
       "│ 7        │ 18509.0   │\n",
       "⋮\n",
       "│ 25623986 │ 1.68103e9 │\n",
       "│ 25623987 │ 1.68103e9 │\n",
       "│ 25623988 │ 1.68103e9 │\n",
       "│ 25623989 │ 1.68103e9 │\n",
       "│ 25623990 │ 1.68103e9 │\n",
       "│ 25623991 │ 1.68103e9 │\n",
       "│ 25623992 │ 1.68103e9 │\n",
       "│ 25623993 │ 1.68103e9 │"
      ]
     },
     "metadata": {},
     "output_type": "display_data"
    }
   ],
   "source": [
    "dfComp=CSV.read(\"C:\\\\Users\\\\jasonjia\\\\Dropbox\\\\Projects\\\\ConferenceCall\\\\Output\\\\FirmIdentification\\\\compustat_csv\\\\ciqcompany_mergedwithgvkeyandcountry_andnaivetickers.csv\",copycols=true, DataFrame)\n",
    "# copycols = True makes a copy of the df, so that it can be edited and isn't read-only."
   ]
  },
  {
   "cell_type": "code",
   "execution_count": null,
   "id": "c1b97a5a",
   "metadata": {},
   "outputs": [
    {
     "data": {
      "text/html": [
       "<table class=\"data-frame\"><thead><tr><th></th><th>companyid</th><th>companyname</th><th>countryid</th><th>gvkey</th></tr><tr><th></th><th>Float64</th><th>String</th><th>Float64</th><th>Float64</th></tr></thead><tbody><p>105,410 rows × 7 columns (omitted printing of 3 columns)</p><tr><th>1</th><td>18507.0</td><td>2M Invest A/S</td><td>55.0</td><td>235716.0</td></tr><tr><th>2</th><td>18511.0</td><td>3i Group plc</td><td>212.0</td><td>210835.0</td></tr><tr><th>3</th><td>18527.0</td><td>ABB Ltd</td><td>195.0</td><td>210418.0</td></tr><tr><th>4</th><td>18671.0</td><td>Albemarle Corporation</td><td>213.0</td><td>29751.0</td></tr><tr><th>5</th><td>18711.0</td><td>The Allstate Corporation</td><td>213.0</td><td>28349.0</td></tr><tr><th>6</th><td>18729.0</td><td>The Alpine Group, Inc.</td><td>213.0</td><td>1331.0</td></tr><tr><th>7</th><td>18749.0</td><td>Amazon.com, Inc.</td><td>213.0</td><td>64768.0</td></tr><tr><th>8</th><td>18759.0</td><td>American Capital, Ltd.</td><td>213.0</td><td>65345.0</td></tr><tr><th>9</th><td>18833.0</td><td>Apollo Global Management, Inc.</td><td>213.0</td><td>184254.0</td></tr><tr><th>10</th><td>18921.0</td><td>AT&amp;T Corp.</td><td>213.0</td><td>1581.0</td></tr><tr><th>11</th><td>18965.0</td><td>Avalon Advanced Materials Inc.</td><td>37.0</td><td>105475.0</td></tr><tr><th>12</th><td>19007.0</td><td>Baker Hughes Holdings LLC</td><td>213.0</td><td>1976.0</td></tr><tr><th>13</th><td>19033.0</td><td>BancFirst Corporation</td><td>213.0</td><td>28022.0</td></tr><tr><th>14</th><td>19049.0</td><td>Bank of America Corporation</td><td>213.0</td><td>7647.0</td></tr><tr><th>15</th><td>19053.0</td><td>Bank of Montreal</td><td>37.0</td><td>15580.0</td></tr><tr><th>16</th><td>19081.0</td><td>Barnett Banks, Inc.</td><td>213.0</td><td>2051.0</td></tr><tr><th>17</th><td>19095.0</td><td>Bausch &amp; Lomb Incorporated</td><td>213.0</td><td>2085.0</td></tr><tr><th>18</th><td>19109.0</td><td>Truist Financial Corporation</td><td>213.0</td><td>11856.0</td></tr><tr><th>19</th><td>19161.0</td><td>Proton Laboratories, Inc.</td><td>213.0</td><td>143377.0</td></tr><tr><th>20</th><td>19209.0</td><td>BJ Services Company LLC</td><td>213.0</td><td>22794.0</td></tr><tr><th>21</th><td>19347.0</td><td>Deutsche Bank Alex. Brown Inc.</td><td>213.0</td><td>12261.0</td></tr><tr><th>22</th><td>19425.0</td><td>Cambridge Technology Partners (Massachusetts), Inc.</td><td>213.0</td><td>28130.0</td></tr><tr><th>23</th><td>19431.0</td><td>Candover Investments plc</td><td>212.0</td><td>201019.0</td></tr><tr><th>24</th><td>19437.0</td><td>Capital Associates, Inc.</td><td>213.0</td><td>13208.0</td></tr><tr><th>&vellip;</th><td>&vellip;</td><td>&vellip;</td><td>&vellip;</td><td>&vellip;</td></tr></tbody></table>"
      ],
      "text/latex": [
       "\\begin{tabular}{r|ccccc}\n",
       "\t& companyid & companyname & countryid & gvkey & \\\\\n",
       "\t\\hline\n",
       "\t& Float64 & String & Float64 & Float64 & \\\\\n",
       "\t\\hline\n",
       "\t1 & 18507.0 & 2M Invest A/S & 55.0 & 235716.0 & $\\dots$ \\\\\n",
       "\t2 & 18511.0 & 3i Group plc & 212.0 & 210835.0 & $\\dots$ \\\\\n",
       "\t3 & 18527.0 & ABB Ltd & 195.0 & 210418.0 & $\\dots$ \\\\\n",
       "\t4 & 18671.0 & Albemarle Corporation & 213.0 & 29751.0 & $\\dots$ \\\\\n",
       "\t5 & 18711.0 & The Allstate Corporation & 213.0 & 28349.0 & $\\dots$ \\\\\n",
       "\t6 & 18729.0 & The Alpine Group, Inc. & 213.0 & 1331.0 & $\\dots$ \\\\\n",
       "\t7 & 18749.0 & Amazon.com, Inc. & 213.0 & 64768.0 & $\\dots$ \\\\\n",
       "\t8 & 18759.0 & American Capital, Ltd. & 213.0 & 65345.0 & $\\dots$ \\\\\n",
       "\t9 & 18833.0 & Apollo Global Management, Inc. & 213.0 & 184254.0 & $\\dots$ \\\\\n",
       "\t10 & 18921.0 & AT\\&T Corp. & 213.0 & 1581.0 & $\\dots$ \\\\\n",
       "\t11 & 18965.0 & Avalon Advanced Materials Inc. & 37.0 & 105475.0 & $\\dots$ \\\\\n",
       "\t12 & 19007.0 & Baker Hughes Holdings LLC & 213.0 & 1976.0 & $\\dots$ \\\\\n",
       "\t13 & 19033.0 & BancFirst Corporation & 213.0 & 28022.0 & $\\dots$ \\\\\n",
       "\t14 & 19049.0 & Bank of America Corporation & 213.0 & 7647.0 & $\\dots$ \\\\\n",
       "\t15 & 19053.0 & Bank of Montreal & 37.0 & 15580.0 & $\\dots$ \\\\\n",
       "\t16 & 19081.0 & Barnett Banks, Inc. & 213.0 & 2051.0 & $\\dots$ \\\\\n",
       "\t17 & 19095.0 & Bausch \\& Lomb Incorporated & 213.0 & 2085.0 & $\\dots$ \\\\\n",
       "\t18 & 19109.0 & Truist Financial Corporation & 213.0 & 11856.0 & $\\dots$ \\\\\n",
       "\t19 & 19161.0 & Proton Laboratories, Inc. & 213.0 & 143377.0 & $\\dots$ \\\\\n",
       "\t20 & 19209.0 & BJ Services Company LLC & 213.0 & 22794.0 & $\\dots$ \\\\\n",
       "\t21 & 19347.0 & Deutsche Bank Alex. Brown Inc. & 213.0 & 12261.0 & $\\dots$ \\\\\n",
       "\t22 & 19425.0 & Cambridge Technology Partners (Massachusetts), Inc. & 213.0 & 28130.0 & $\\dots$ \\\\\n",
       "\t23 & 19431.0 & Candover Investments plc & 212.0 & 201019.0 & $\\dots$ \\\\\n",
       "\t24 & 19437.0 & Capital Associates, Inc. & 213.0 & 13208.0 & $\\dots$ \\\\\n",
       "\t$\\dots$ & $\\dots$ & $\\dots$ & $\\dots$ & $\\dots$ &  \\\\\n",
       "\\end{tabular}\n"
      ],
      "text/plain": [
       "105410×7 DataFrame. Omitted printing of 6 columns\n",
       "│ Row    │ companyid │\n",
       "│        │ \u001b[90mFloat64\u001b[39m   │\n",
       "├────────┼───────────┤\n",
       "│ 1      │ 18507.0   │\n",
       "│ 2      │ 18511.0   │\n",
       "│ 3      │ 18527.0   │\n",
       "│ 4      │ 18671.0   │\n",
       "│ 5      │ 18711.0   │\n",
       "│ 6      │ 18729.0   │\n",
       "│ 7      │ 18749.0   │\n",
       "⋮\n",
       "│ 105403 │ 1.67913e9 │\n",
       "│ 105404 │ 1.67922e9 │\n",
       "│ 105405 │ 1.6795e9  │\n",
       "│ 105406 │ 1.67959e9 │\n",
       "│ 105407 │ 1.6796e9  │\n",
       "│ 105408 │ 1.67987e9 │\n",
       "│ 105409 │ 1.68002e9 │\n",
       "│ 105410 │ 1.68006e9 │"
      ]
     },
     "metadata": {},
     "output_type": "display_data"
    }
   ],
   "source": [
    "dropmissing(dfComp) # Most firms in dfcompustat are actually missing a gvkey."
   ]
  },
  {
   "cell_type": "code",
   "execution_count": null,
   "id": "47d38840",
   "metadata": {},
   "outputs": [
    {
     "data": {
      "text/html": [
       "<table class=\"data-frame\"><thead><tr><th></th><th>companyid</th><th>companyname</th><th>countryid</th><th>gvkey</th><th>country</th></tr><tr><th></th><th>Float64</th><th>String?</th><th>Float64?</th><th>Float64?</th><th>String63?</th></tr></thead><tbody><p>112,721 rows × 7 columns (omitted printing of 2 columns)</p><tr><th>1</th><td>18493.0</td><td>DC Venture Partners</td><td>213.0</td><td><em>missing</em></td><td>United States</td></tr><tr><th>2</th><td>18507.0</td><td>2M Invest A/S</td><td>55.0</td><td>235716.0</td><td>Denmark</td></tr><tr><th>3</th><td>18511.0</td><td>3i Group plc</td><td>212.0</td><td>210835.0</td><td>United Kingdom</td></tr><tr><th>4</th><td>18527.0</td><td>ABB Ltd</td><td>195.0</td><td>210418.0</td><td>Switzerland</td></tr><tr><th>5</th><td>18671.0</td><td>Albemarle Corporation</td><td>213.0</td><td>29751.0</td><td>United States</td></tr><tr><th>6</th><td>18711.0</td><td>The Allstate Corporation</td><td>213.0</td><td>28349.0</td><td>United States</td></tr><tr><th>7</th><td>18729.0</td><td>The Alpine Group, Inc.</td><td>213.0</td><td>1331.0</td><td>United States</td></tr><tr><th>8</th><td>18749.0</td><td>Amazon.com, Inc.</td><td>213.0</td><td>64768.0</td><td>United States</td></tr><tr><th>9</th><td>18759.0</td><td>American Capital, Ltd.</td><td>213.0</td><td>65345.0</td><td>United States</td></tr><tr><th>10</th><td>18833.0</td><td>Apollo Global Management, Inc.</td><td>213.0</td><td>184254.0</td><td>United States</td></tr><tr><th>11</th><td>18921.0</td><td>AT&amp;T Corp.</td><td>213.0</td><td>1581.0</td><td>United States</td></tr><tr><th>12</th><td>18965.0</td><td>Avalon Advanced Materials Inc.</td><td>37.0</td><td>105475.0</td><td>Canada</td></tr><tr><th>13</th><td>19007.0</td><td>Baker Hughes Holdings LLC</td><td>213.0</td><td>1976.0</td><td>United States</td></tr><tr><th>14</th><td>19033.0</td><td>BancFirst Corporation</td><td>213.0</td><td>28022.0</td><td>United States</td></tr><tr><th>15</th><td>19049.0</td><td>Bank of America Corporation</td><td>213.0</td><td>7647.0</td><td>United States</td></tr><tr><th>16</th><td>19053.0</td><td>Bank of Montreal</td><td>37.0</td><td>15580.0</td><td>Canada</td></tr><tr><th>17</th><td>19081.0</td><td>Barnett Banks, Inc.</td><td>213.0</td><td>2051.0</td><td>United States</td></tr><tr><th>18</th><td>19095.0</td><td>Bausch &amp; Lomb Incorporated</td><td>213.0</td><td>2085.0</td><td>United States</td></tr><tr><th>19</th><td>19109.0</td><td>Truist Financial Corporation</td><td>213.0</td><td>11856.0</td><td>United States</td></tr><tr><th>20</th><td>19161.0</td><td>Proton Laboratories, Inc.</td><td>213.0</td><td>143377.0</td><td>United States</td></tr><tr><th>21</th><td>19209.0</td><td>BJ Services Company LLC</td><td>213.0</td><td>22794.0</td><td>United States</td></tr><tr><th>22</th><td>19251.0</td><td>Booth Creek Ski Holdings, Inc.</td><td>213.0</td><td>128418.0</td><td>United States</td></tr><tr><th>23</th><td>19347.0</td><td>Deutsche Bank Alex. Brown Inc.</td><td>213.0</td><td>12261.0</td><td>United States</td></tr><tr><th>24</th><td>19411.0</td><td>Calvert Investment Management, Inc.</td><td>213.0</td><td>161483.0</td><td>United States</td></tr><tr><th>&vellip;</th><td>&vellip;</td><td>&vellip;</td><td>&vellip;</td><td>&vellip;</td><td>&vellip;</td></tr></tbody></table>"
      ],
      "text/latex": [
       "\\begin{tabular}{r|cccccc}\n",
       "\t& companyid & companyname & countryid & gvkey & country & \\\\\n",
       "\t\\hline\n",
       "\t& Float64 & String? & Float64? & Float64? & String63? & \\\\\n",
       "\t\\hline\n",
       "\t1 & 18493.0 & DC Venture Partners & 213.0 & \\emph{missing} & United States & $\\dots$ \\\\\n",
       "\t2 & 18507.0 & 2M Invest A/S & 55.0 & 235716.0 & Denmark & $\\dots$ \\\\\n",
       "\t3 & 18511.0 & 3i Group plc & 212.0 & 210835.0 & United Kingdom & $\\dots$ \\\\\n",
       "\t4 & 18527.0 & ABB Ltd & 195.0 & 210418.0 & Switzerland & $\\dots$ \\\\\n",
       "\t5 & 18671.0 & Albemarle Corporation & 213.0 & 29751.0 & United States & $\\dots$ \\\\\n",
       "\t6 & 18711.0 & The Allstate Corporation & 213.0 & 28349.0 & United States & $\\dots$ \\\\\n",
       "\t7 & 18729.0 & The Alpine Group, Inc. & 213.0 & 1331.0 & United States & $\\dots$ \\\\\n",
       "\t8 & 18749.0 & Amazon.com, Inc. & 213.0 & 64768.0 & United States & $\\dots$ \\\\\n",
       "\t9 & 18759.0 & American Capital, Ltd. & 213.0 & 65345.0 & United States & $\\dots$ \\\\\n",
       "\t10 & 18833.0 & Apollo Global Management, Inc. & 213.0 & 184254.0 & United States & $\\dots$ \\\\\n",
       "\t11 & 18921.0 & AT\\&T Corp. & 213.0 & 1581.0 & United States & $\\dots$ \\\\\n",
       "\t12 & 18965.0 & Avalon Advanced Materials Inc. & 37.0 & 105475.0 & Canada & $\\dots$ \\\\\n",
       "\t13 & 19007.0 & Baker Hughes Holdings LLC & 213.0 & 1976.0 & United States & $\\dots$ \\\\\n",
       "\t14 & 19033.0 & BancFirst Corporation & 213.0 & 28022.0 & United States & $\\dots$ \\\\\n",
       "\t15 & 19049.0 & Bank of America Corporation & 213.0 & 7647.0 & United States & $\\dots$ \\\\\n",
       "\t16 & 19053.0 & Bank of Montreal & 37.0 & 15580.0 & Canada & $\\dots$ \\\\\n",
       "\t17 & 19081.0 & Barnett Banks, Inc. & 213.0 & 2051.0 & United States & $\\dots$ \\\\\n",
       "\t18 & 19095.0 & Bausch \\& Lomb Incorporated & 213.0 & 2085.0 & United States & $\\dots$ \\\\\n",
       "\t19 & 19109.0 & Truist Financial Corporation & 213.0 & 11856.0 & United States & $\\dots$ \\\\\n",
       "\t20 & 19161.0 & Proton Laboratories, Inc. & 213.0 & 143377.0 & United States & $\\dots$ \\\\\n",
       "\t21 & 19209.0 & BJ Services Company LLC & 213.0 & 22794.0 & United States & $\\dots$ \\\\\n",
       "\t22 & 19251.0 & Booth Creek Ski Holdings, Inc. & 213.0 & 128418.0 & United States & $\\dots$ \\\\\n",
       "\t23 & 19347.0 & Deutsche Bank Alex. Brown Inc. & 213.0 & 12261.0 & United States & $\\dots$ \\\\\n",
       "\t24 & 19411.0 & Calvert Investment Management, Inc. & 213.0 & 161483.0 & United States & $\\dots$ \\\\\n",
       "\t$\\dots$ & $\\dots$ & $\\dots$ & $\\dots$ & $\\dots$ & $\\dots$ &  \\\\\n",
       "\\end{tabular}\n"
      ],
      "text/plain": [
       "112721×7 DataFrame. Omitted printing of 6 columns\n",
       "│ Row    │ companyid │\n",
       "│        │ \u001b[90mFloat64\u001b[39m   │\n",
       "├────────┼───────────┤\n",
       "│ 1      │ 18493.0   │\n",
       "│ 2      │ 18507.0   │\n",
       "│ 3      │ 18511.0   │\n",
       "│ 4      │ 18527.0   │\n",
       "│ 5      │ 18671.0   │\n",
       "│ 6      │ 18711.0   │\n",
       "│ 7      │ 18729.0   │\n",
       "⋮\n",
       "│ 112714 │ 1.67913e9 │\n",
       "│ 112715 │ 1.67922e9 │\n",
       "│ 112716 │ 1.6795e9  │\n",
       "│ 112717 │ 1.67959e9 │\n",
       "│ 112718 │ 1.6796e9  │\n",
       "│ 112719 │ 1.67987e9 │\n",
       "│ 112720 │ 1.68002e9 │\n",
       "│ 112721 │ 1.68006e9 │"
      ]
     },
     "metadata": {},
     "output_type": "display_data"
    }
   ],
   "source": [
    "dfCompGvkeyUniqu=unique(dfComp,:gvkey) # remove all duplicates of gvkey, including missing entries"
   ]
  },
  {
   "cell_type": "code",
   "execution_count": null,
   "id": "fabcf329",
   "metadata": {},
   "outputs": [
    {
     "data": {
      "text/html": [
       "<table class=\"data-frame\"><thead><tr><th></th><th>companyid</th><th>companyname</th><th>countryid</th><th>gvkey</th><th>country</th></tr><tr><th></th><th>Float64</th><th>String?</th><th>Float64?</th><th>Float64?</th><th>String63?</th></tr></thead><tbody><p>316,837 rows × 7 columns (omitted printing of 2 columns)</p><tr><th>1</th><td>18507.0</td><td>2M Invest A/S</td><td>55.0</td><td>235716.0</td><td>Denmark</td></tr><tr><th>2</th><td>18511.0</td><td>3i Group plc</td><td>212.0</td><td>210835.0</td><td>United Kingdom</td></tr><tr><th>3</th><td>18527.0</td><td>ABB Ltd</td><td>195.0</td><td>210418.0</td><td>Switzerland</td></tr><tr><th>4</th><td>18671.0</td><td>Albemarle Corporation</td><td>213.0</td><td>29751.0</td><td>United States</td></tr><tr><th>5</th><td>18711.0</td><td>The Allstate Corporation</td><td>213.0</td><td>28349.0</td><td>United States</td></tr><tr><th>6</th><td>18729.0</td><td>The Alpine Group, Inc.</td><td>213.0</td><td>1331.0</td><td>United States</td></tr><tr><th>7</th><td>18749.0</td><td>Amazon.com, Inc.</td><td>213.0</td><td>64768.0</td><td>United States</td></tr><tr><th>8</th><td>18759.0</td><td>American Capital, Ltd.</td><td>213.0</td><td>65345.0</td><td>United States</td></tr><tr><th>9</th><td>18833.0</td><td>Apollo Global Management, Inc.</td><td>213.0</td><td>184254.0</td><td>United States</td></tr><tr><th>10</th><td>18921.0</td><td>AT&amp;T Corp.</td><td>213.0</td><td>1581.0</td><td>United States</td></tr><tr><th>11</th><td>18965.0</td><td>Avalon Advanced Materials Inc.</td><td>37.0</td><td>105475.0</td><td>Canada</td></tr><tr><th>12</th><td>19007.0</td><td>Baker Hughes Holdings LLC</td><td>213.0</td><td>1976.0</td><td>United States</td></tr><tr><th>13</th><td>19033.0</td><td>BancFirst Corporation</td><td>213.0</td><td>28022.0</td><td>United States</td></tr><tr><th>14</th><td>19049.0</td><td>Bank of America Corporation</td><td>213.0</td><td>7647.0</td><td>United States</td></tr><tr><th>15</th><td>19053.0</td><td>Bank of Montreal</td><td>37.0</td><td>15580.0</td><td>Canada</td></tr><tr><th>16</th><td>19071.0</td><td>Barclays Capital PLC</td><td>212.0</td><td><em>missing</em></td><td>United Kingdom</td></tr><tr><th>17</th><td>19081.0</td><td>Barnett Banks, Inc.</td><td>213.0</td><td>2051.0</td><td>United States</td></tr><tr><th>18</th><td>19095.0</td><td>Bausch &amp; Lomb Incorporated</td><td>213.0</td><td>2085.0</td><td>United States</td></tr><tr><th>19</th><td>19109.0</td><td>Truist Financial Corporation</td><td>213.0</td><td>11856.0</td><td>United States</td></tr><tr><th>20</th><td>19161.0</td><td>Proton Laboratories, Inc.</td><td>213.0</td><td>143377.0</td><td>United States</td></tr><tr><th>21</th><td>19209.0</td><td>BJ Services Company LLC</td><td>213.0</td><td>22794.0</td><td>United States</td></tr><tr><th>22</th><td>19347.0</td><td>Deutsche Bank Alex. Brown Inc.</td><td>213.0</td><td>12261.0</td><td>United States</td></tr><tr><th>23</th><td>19365.0</td><td>Business Development Bank of Canada</td><td>37.0</td><td><em>missing</em></td><td>Canada</td></tr><tr><th>24</th><td>19395.0</td><td>CAI Capital Partners</td><td>37.0</td><td><em>missing</em></td><td>Canada</td></tr><tr><th>&vellip;</th><td>&vellip;</td><td>&vellip;</td><td>&vellip;</td><td>&vellip;</td><td>&vellip;</td></tr></tbody></table>"
      ],
      "text/latex": [
       "\\begin{tabular}{r|cccccc}\n",
       "\t& companyid & companyname & countryid & gvkey & country & \\\\\n",
       "\t\\hline\n",
       "\t& Float64 & String? & Float64? & Float64? & String63? & \\\\\n",
       "\t\\hline\n",
       "\t1 & 18507.0 & 2M Invest A/S & 55.0 & 235716.0 & Denmark & $\\dots$ \\\\\n",
       "\t2 & 18511.0 & 3i Group plc & 212.0 & 210835.0 & United Kingdom & $\\dots$ \\\\\n",
       "\t3 & 18527.0 & ABB Ltd & 195.0 & 210418.0 & Switzerland & $\\dots$ \\\\\n",
       "\t4 & 18671.0 & Albemarle Corporation & 213.0 & 29751.0 & United States & $\\dots$ \\\\\n",
       "\t5 & 18711.0 & The Allstate Corporation & 213.0 & 28349.0 & United States & $\\dots$ \\\\\n",
       "\t6 & 18729.0 & The Alpine Group, Inc. & 213.0 & 1331.0 & United States & $\\dots$ \\\\\n",
       "\t7 & 18749.0 & Amazon.com, Inc. & 213.0 & 64768.0 & United States & $\\dots$ \\\\\n",
       "\t8 & 18759.0 & American Capital, Ltd. & 213.0 & 65345.0 & United States & $\\dots$ \\\\\n",
       "\t9 & 18833.0 & Apollo Global Management, Inc. & 213.0 & 184254.0 & United States & $\\dots$ \\\\\n",
       "\t10 & 18921.0 & AT\\&T Corp. & 213.0 & 1581.0 & United States & $\\dots$ \\\\\n",
       "\t11 & 18965.0 & Avalon Advanced Materials Inc. & 37.0 & 105475.0 & Canada & $\\dots$ \\\\\n",
       "\t12 & 19007.0 & Baker Hughes Holdings LLC & 213.0 & 1976.0 & United States & $\\dots$ \\\\\n",
       "\t13 & 19033.0 & BancFirst Corporation & 213.0 & 28022.0 & United States & $\\dots$ \\\\\n",
       "\t14 & 19049.0 & Bank of America Corporation & 213.0 & 7647.0 & United States & $\\dots$ \\\\\n",
       "\t15 & 19053.0 & Bank of Montreal & 37.0 & 15580.0 & Canada & $\\dots$ \\\\\n",
       "\t16 & 19071.0 & Barclays Capital PLC & 212.0 & \\emph{missing} & United Kingdom & $\\dots$ \\\\\n",
       "\t17 & 19081.0 & Barnett Banks, Inc. & 213.0 & 2051.0 & United States & $\\dots$ \\\\\n",
       "\t18 & 19095.0 & Bausch \\& Lomb Incorporated & 213.0 & 2085.0 & United States & $\\dots$ \\\\\n",
       "\t19 & 19109.0 & Truist Financial Corporation & 213.0 & 11856.0 & United States & $\\dots$ \\\\\n",
       "\t20 & 19161.0 & Proton Laboratories, Inc. & 213.0 & 143377.0 & United States & $\\dots$ \\\\\n",
       "\t21 & 19209.0 & BJ Services Company LLC & 213.0 & 22794.0 & United States & $\\dots$ \\\\\n",
       "\t22 & 19347.0 & Deutsche Bank Alex. Brown Inc. & 213.0 & 12261.0 & United States & $\\dots$ \\\\\n",
       "\t23 & 19365.0 & Business Development Bank of Canada & 37.0 & \\emph{missing} & Canada & $\\dots$ \\\\\n",
       "\t24 & 19395.0 & CAI Capital Partners & 37.0 & \\emph{missing} & Canada & $\\dots$ \\\\\n",
       "\t$\\dots$ & $\\dots$ & $\\dots$ & $\\dots$ & $\\dots$ & $\\dots$ &  \\\\\n",
       "\\end{tabular}\n"
      ],
      "text/plain": [
       "316837×7 DataFrame. Omitted printing of 6 columns\n",
       "│ Row    │ companyid │\n",
       "│        │ \u001b[90mFloat64\u001b[39m   │\n",
       "├────────┼───────────┤\n",
       "│ 1      │ 18507.0   │\n",
       "│ 2      │ 18511.0   │\n",
       "│ 3      │ 18527.0   │\n",
       "│ 4      │ 18671.0   │\n",
       "│ 5      │ 18711.0   │\n",
       "│ 6      │ 18729.0   │\n",
       "│ 7      │ 18749.0   │\n",
       "⋮\n",
       "│ 316830 │ 1.68048e9 │\n",
       "│ 316831 │ 1.6805e9  │\n",
       "│ 316832 │ 1.68058e9 │\n",
       "│ 316833 │ 1.6806e9  │\n",
       "│ 316834 │ 1.68066e9 │\n",
       "│ 316835 │ 1.68067e9 │\n",
       "│ 316836 │ 1.68067e9 │\n",
       "│ 316837 │ 1.68071e9 │"
      ]
     },
     "metadata": {},
     "output_type": "display_data"
    }
   ],
   "source": [
    "dfCompT=dropmissing(dfComp,:ticker) #drop companies without tickers"
   ]
  },
  {
   "cell_type": "code",
   "execution_count": null,
   "id": "89a3f34e",
   "metadata": {},
   "outputs": [
    {
     "data": {
      "text/plain": [
       "Dict{SubString{String}, Int64} with 13123 entries:\n",
       "  \"clear secure\"                   => 38954\n",
       "  \"supercom\"                       => 177058\n",
       "  \"us bancorp\"                     => 4723\n",
       "  \"realty income\"                  => 30822\n",
       "  \"cyries energy\"                  => 160814\n",
       "  \"acme packet\"                    => 175111\n",
       "  \"bluelinx\"                       => 161813\n",
       "  \"nordic mining asa\"              => 289983\n",
       "  \"goodman sub   australia\"        => 203030\n",
       "  \"coca cola hbc\"                  => 221261\n",
       "  \"wpp\"                            => 14605\n",
       "  \"merus   international\"          => 170359\n",
       "  \"oceania healthcare\"             => 324125\n",
       "  \"global partners lp\"             => 163935\n",
       "  \"ado properties\"                 => 319938\n",
       "  \"canal\"                          => 2982\n",
       "  \"burckhardt compression holding\" => 278299\n",
       "  \"pdf solutions\"                  => 144437\n",
       "  \"hoegh lng partners lp\"          => 21048\n",
       "  ⋮                                => ⋮"
      ]
     },
     "metadata": {},
     "output_type": "display_data"
    }
   ],
   "source": [
    "gvkey_dict_h = Dict(prepareName(row.company_name) => row.gvkey  for row in eachrow(dfSV_hassan))"
   ]
  },
  {
   "cell_type": "code",
   "execution_count": null,
   "id": "3690c126",
   "metadata": {},
   "outputs": [
    {
     "ename": "LoadError",
     "evalue": "UndefVarError: dfComp not defined",
     "output_type": "error",
     "traceback": [
      "UndefVarError: dfComp not defined",
      "",
      "Stacktrace:",
      " [1] top-level scope",
      "   @ In[1]:1",
      " [2] eval",
      "   @ .\\boot.jl:360 [inlined]",
      " [3] include_string(mapexpr::typeof(REPL.softscope), mod::Module, code::String, filename::String)",
      "   @ Base .\\loading.jl:1116"
     ]
    }
   ],
   "source": [
    "gvkey_dict_c = Dict(prepareName(row.companyname) => row.gvkey  for row in eachrow(dfComp))"
   ]
  },
  {
   "cell_type": "code",
   "execution_count": null,
   "id": "c9a69faa",
   "metadata": {},
   "outputs": [],
   "source": [
    "tickers=unique(dfCompT.tickersymbol) # unique tickers"
   ]
  },
  {
   "cell_type": "code",
   "execution_count": null,
   "id": "7282c66d",
   "metadata": {},
   "outputs": [],
   "source": [
    "ticker_gvkey_uniq=Dict()"
   ]
  },
  {
   "cell_type": "code",
   "execution_count": null,
   "id": "1c094afb",
   "metadata": {},
   "outputs": [],
   "source": [
    "for t in tickers #create dictionary with tickers, that are unique\n",
    "    gvk=dfCompT[dfCompT.tickersymbol.==t,:].gvkey\n",
    "    size(gvk)[1]==1 ? push!(ticker_gvkey_uniq,t=>gvk[1]) : nothing\n",
    "end"
   ]
  },
  {
   "cell_type": "code",
   "execution_count": null,
   "id": "f414b8fd",
   "metadata": {},
   "outputs": [],
   "source": [
    "firm_names_h=[k for k in keys(gvkey_dict_h)]\n",
    "firm_names_c=[k for k in keys(gvkey_dict_c)]\n",
    "firm_names=vcat(firm_names_h,firm_names_c)\n"
   ]
  },
  {
   "cell_type": "code",
   "execution_count": null,
   "id": "223a399d",
   "metadata": {},
   "outputs": [],
   "source": [
    "global cash_dict = Dict() # cash is already matched firms name\n",
    "# \"\"\" ************************************************************************ \"\"\""
   ]
  },
  {
   "cell_type": "code",
   "execution_count": null,
   "id": "9294576b",
   "metadata": {},
   "outputs": [],
   "source": [
    "# \"\"\" main code \"\"\"\n",
    "# cd(\"C:\\\\CC2010\")\n",
    "for i in 2001:1:2010\n",
    "     @time DoFolder(2010)\n",
    "end\n",
    "\n",
    "# @time dfList=DoFolder()\n",
    "# sort!(dfList,:prob)\n",
    "# CSV.write(\"CC_List.csv\",dfList)\n",
    "# \"\"\" END \"\""
   ]
  },
  {
   "cell_type": "code",
   "execution_count": null,
   "id": "d16f7f71",
   "metadata": {},
   "outputs": [],
   "source": []
  }
 ],
 "metadata": {
  "kernelspec": {
   "display_name": "Julia 1.6.2",
   "language": "julia",
   "name": "julia-1.6"
  },
  "language_info": {
   "file_extension": ".jl",
   "mimetype": "application/julia",
   "name": "julia",
   "version": "1.6.2"
  }
 },
 "nbformat": 4,
 "nbformat_minor": 5
}
