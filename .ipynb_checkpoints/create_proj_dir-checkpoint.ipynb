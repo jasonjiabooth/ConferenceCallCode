{
 "cells": [
  {
   "cell_type": "code",
   "execution_count": 27,
   "id": "be48abe4",
   "metadata": {},
   "outputs": [],
   "source": [
    "from pathlib import Path\n",
    "import pandas as pd\n",
    "import json\n",
    "\n",
    "# Naming of variables follows terminology of a tree - root, level 1, level 2, ...\n",
    "# A folder's children = files and sub-folders in the folder."
   ]
  },
  {
   "cell_type": "code",
   "execution_count": 2,
   "id": "95e0893e",
   "metadata": {},
   "outputs": [
    {
     "data": {
      "text/plain": [
       "{}"
      ]
     },
     "execution_count": 2,
     "metadata": {},
     "output_type": "execute_result"
    }
   ],
   "source": [
    "# Create dictionary that will hold all the folder names and paths\n",
    "# where key = name, value = folderpath\n",
    "proj_dir = {}\n",
    "proj_dir"
   ]
  },
  {
   "cell_type": "code",
   "execution_count": 3,
   "id": "4398e907",
   "metadata": {},
   "outputs": [
    {
     "data": {
      "text/plain": [
       "WindowsPath('C:/Users/jasonjia/Dropbox/Projects/conference_call')"
      ]
     },
     "execution_count": 3,
     "metadata": {},
     "output_type": "execute_result"
    }
   ],
   "source": [
    "# Manual: write down root\n",
    "proj_dir[\"root\"] = Path(r\"C:\\Users\\jasonjia\\Dropbox\\Projects\\conference_call\")"
   ]
  },
  {
   "cell_type": "code",
   "execution_count": 4,
   "id": "b65a54bc",
   "metadata": {},
   "outputs": [
    {
     "data": {
      "text/plain": [
       "[True]"
      ]
     },
     "execution_count": 4,
     "metadata": {},
     "output_type": "execute_result"
    }
   ],
   "source": [
    "# Check if root exists\n",
    "root_set = set(proj_dir.values())\n",
    "[root_folder.exists() for root_folder in root_set]"
   ]
  },
  {
   "cell_type": "code",
   "execution_count": 13,
   "id": "62d974f1",
   "metadata": {},
   "outputs": [
    {
     "data": {
      "text/plain": [
       "[WindowsPath('C:/Users/jasonjia/Dropbox/Projects/conference_call')]"
      ]
     },
     "execution_count": 13,
     "metadata": {},
     "output_type": "execute_result"
    }
   ],
   "source": [
    "# Print root folder path\n",
    "[root_folder for root_folder in root_set]"
   ]
  },
  {
   "cell_type": "code",
   "execution_count": 5,
   "id": "b175b83d",
   "metadata": {},
   "outputs": [],
   "source": [
    "# Manual: write down l1 folders\n",
    "proj_dir[\"l1_code\"] = Path(proj_dir[\"root\"] / \"code\")\n",
    "proj_dir[\"l1_documentation\"] = Path(proj_dir[\"root\"] / \"documentation\")\n",
    "proj_dir[\"l1_output\"] = Path(proj_dir[\"root\"] / \"output\")"
   ]
  },
  {
   "cell_type": "code",
   "execution_count": 6,
   "id": "939e117f",
   "metadata": {},
   "outputs": [
    {
     "data": {
      "text/plain": [
       "[True, True, True]"
      ]
     },
     "execution_count": 6,
     "metadata": {},
     "output_type": "execute_result"
    }
   ],
   "source": [
    "# Check if l1 folder paths exist - take the non-intersection of sets\n",
    "l1_set = set(proj_dir.values()) ^ root_set\n",
    "[l1_folder.exists() for l1_folder in l1_set]"
   ]
  },
  {
   "cell_type": "code",
   "execution_count": 15,
   "id": "c7105f7c",
   "metadata": {},
   "outputs": [
    {
     "data": {
      "text/plain": [
       "['code', 'documentation', 'output']"
      ]
     },
     "execution_count": 15,
     "metadata": {},
     "output_type": "execute_result"
    }
   ],
   "source": [
    "# Print l1 folder names\n",
    "[l1_folder.name for l1_folder in l1_set]"
   ]
  },
  {
   "cell_type": "code",
   "execution_count": 16,
   "id": "3e6791ad",
   "metadata": {},
   "outputs": [
    {
     "name": "stdout",
     "output_type": "stream",
     "text": [
      "Parent: code\n",
      ".git\n",
      ".idea\n",
      ".ipynb_checkpoints\n",
      "01_download_data\n",
      "02_process_cc_pdf_to_csv\n",
      "03_firm_identification\n",
      "04_keyword_identification\n",
      "05_extract_desc_in_front_page\n",
      "10_common_tasks\n",
      "11_download_specified_reports\n",
      "misc\n",
      "Untitled.ipynb\n",
      "\n",
      "Parent: documentation\n",
      "conferencecall_stage1-3_documentation.pdf\n",
      "conferencecall_stage1-3_documentation.tex\n",
      "conferencecall_stage4_documentation.pdf\n",
      "figures\n",
      "\n",
      "Parent: output\n",
      "01_download_cc\n",
      "02_process_cc\n",
      "03_firm_identification\n",
      "04_keyword_identification\n",
      "05_extract_front_page_desc\n",
      "BadList.csv\n",
      "misc\n",
      "\n"
     ]
    }
   ],
   "source": [
    "# Print out children of each l1_folder\n",
    "for l1_folder in l1_set:\n",
    "    print(\"Parent:\", l1_folder.name)\n",
    "    for child in l1_folder.iterdir(): \n",
    "        print(child.name)\n",
    "    print(\"\")"
   ]
  },
  {
   "cell_type": "code",
   "execution_count": 17,
   "id": "13402107",
   "metadata": {},
   "outputs": [],
   "source": [
    "# Manual: write down l2 folders\n",
    "proj_dir[\"l2_download_cc\"] = Path(proj_dir[\"l1_output\"] / \"01_download_cc\")\n",
    "proj_dir[\"l2_process_cc\"] = Path(proj_dir[\"l1_output\"] / \"02_process_cc\")\n",
    "proj_dir[\"l2_firm_identification\"] = Path(proj_dir[\"l1_output\"] / \"03_firm_identification\")\n",
    "proj_dir[\"l2_keyword_identification\"] = Path(proj_dir[\"l1_output\"] / \"04_keyword_identification\")\n",
    "proj_dir[\"l2_extract_front_page_desc\"] = Path(proj_dir[\"l1_output\"] / \"05_extract_front_page_desc\")\n",
    "proj_dir[\"l2_misc\"] = Path(proj_dir[\"l1_output\"] / \"misc\")"
   ]
  },
  {
   "cell_type": "code",
   "execution_count": 20,
   "id": "9f4f4658",
   "metadata": {},
   "outputs": [
    {
     "data": {
      "text/plain": [
       "[True, True, True, True, True, True]"
      ]
     },
     "execution_count": 20,
     "metadata": {},
     "output_type": "execute_result"
    }
   ],
   "source": [
    "# Check if l2 folder paths exist - take the non-intersection of the sets\n",
    "l2_set = set(proj_dir.values()) ^ l1_set ^ root_set\n",
    "[l2_folder.exists() for l2_folder in l2_set]"
   ]
  },
  {
   "cell_type": "code",
   "execution_count": 21,
   "id": "4001de8d",
   "metadata": {},
   "outputs": [
    {
     "data": {
      "text/plain": [
       "['01_download_cc',\n",
       " '02_process_cc',\n",
       " '03_firm_identification',\n",
       " '05_extract_front_page_desc',\n",
       " '04_keyword_identification',\n",
       " 'misc']"
      ]
     },
     "execution_count": 21,
     "metadata": {},
     "output_type": "execute_result"
    }
   ],
   "source": [
    "# Print l2 folder names\n",
    "[l2_folder.name for l2_folder in l2_set]"
   ]
  },
  {
   "cell_type": "code",
   "execution_count": 22,
   "id": "5539cbcb",
   "metadata": {},
   "outputs": [
    {
     "name": "stdout",
     "output_type": "stream",
     "text": [
      "Parent: 01_download_cc\n",
      "01.1_pdf_2\n",
      "01.1_xls_2\n",
      "checks\n",
      "currentvsprev_foldernames.txt\n",
      "\n",
      "Parent: 02_process_cc\n",
      "02.1_txt_2\n",
      "02.2_csv_2\n",
      "checks\n",
      "misc\n",
      "\n",
      "Parent: 03_firm_identification\n",
      "03.1_compustat_sas7bdat\n",
      "03.2_hassan_raw\n",
      "03.3_compustat_processed\n",
      "03.3_hassan_processed\n",
      "03.4_cc_list_2\n",
      "03.4_cc_list_sixun\n",
      "misc\n",
      "prev_20210924\n",
      "readme.docx\n",
      "\n",
      "Parent: 05_extract_front_page_desc\n",
      "05.1_converted_on_mercury\n",
      "05.1_converted_on_windows_jason\n",
      "05.2_converted_manually\n",
      "05.3_xls_combined_withfrontpagedescriptions\n",
      "05.4_entryfiles_combined\n",
      "misc\n",
      "\n",
      "Parent: 04_keyword_identification\n",
      "04.1_empty_set_of_50_group_folders\n",
      "04.2_reference_files\n",
      "04.3_filled_set_of_50_group_folders\n",
      "04.4_totalcircnew\n",
      "04.5_cric1_newtotal\n",
      "04.6_paragraph_record\n",
      "04.7_entry_files\n",
      "04.8_entry_files_combined\n",
      "misc\n",
      "Test Set of 50 Group Folders\n",
      "uploaded_on_shared_drive_with_kilian\n",
      "\n",
      "Parent: misc\n",
      "breakupreportidsintochunksof25\n",
      "Checkreportidstallywithtitles\n",
      "DataClean\n",
      "extractremainingparasfromcc_doesntwork\n",
      "FileZilla\n",
      "One-off Conference Call Lookups\n",
      "Previous Versions\n",
      "RetrieveMissingDates\n",
      "\n"
     ]
    }
   ],
   "source": [
    "# Print out children of each l2_folder\n",
    "for l2_folder in l2_set:\n",
    "    print(\"Parent:\", l2_folder.name)\n",
    "    for child in l2_folder.iterdir(): \n",
    "        print(child.name)\n",
    "    print(\"\")"
   ]
  },
  {
   "cell_type": "code",
   "execution_count": 23,
   "id": "cebe8419",
   "metadata": {},
   "outputs": [],
   "source": [
    "# Manual: write down l3 folders\n",
    "\n",
    "# Children of l2_download_cc\n",
    "l2_download_cc = proj_dir[\"l2_download_cc\"]\n",
    "\n",
    "proj_dir[\"l3_pdf_2\"] = Path(l2_download_cc / \"01.1_pdf_2\")\n",
    "proj_dir[\"l3_xls_2\"] = Path(l2_download_cc / \"01.1_xls_2\")\n",
    "proj_dir[\"l3_download_cc_checks\"] = Path(l2_download_cc / \"checks\")\n",
    "\n",
    "# Children of l2_process_cc\n",
    "l2_process_cc = proj_dir[\"l2_process_cc\"]\n",
    "\n",
    "proj_dir[\"l3_txt_2\"] = Path(l2_process_cc / \"02.1_txt_2\")\n",
    "proj_dir[\"l3_csv_2\"] = Path(l2_process_cc / \"02.2_csv_2\")\n",
    "proj_dir[\"l3_process_cc_checks\"] = Path(l2_process_cc / \"checks\")\n",
    "\n",
    "# Children of l2_firm_identification\n",
    "l2_firm_identification = proj_dir[\"l2_firm_identification\"]\n",
    "\n",
    "proj_dir[\"l3_compustat_sas7bdat\"] = Path(l2_firm_identification / \"03.1_compustat_sas7bdat\")\n",
    "proj_dir[\"l3_hassan_raw\"] = Path(l2_firm_identification / \"03.2_hassan_raw\")\n",
    "proj_dir[\"l3_compustat_processed\"] = Path(l2_firm_identification / \"03.3_compustat_processed\")\n",
    "proj_dir[\"l3_hassan_processed\"] = Path(l2_firm_identification / \"03.3_hassan_processed\")\n",
    "proj_dir[\"l3_cc_list_2\"] = Path(l2_firm_identification / \"03.4_cc_list_2\")\n",
    "proj_dir[\"l3_cc_list_sixun\"] = Path(l2_firm_identification / \"03.4_cc_list_sixun\")\n",
    "\n",
    "# Children of l2_keyword_identification\n",
    "l2_keyword_identification = proj_dir[\"l2_keyword_identification\"]\n",
    "\n",
    "proj_dir[\"l3_empty_set_of_folders\"] = Path(l2_keyword_identification / \"04.1_empty_set_of_50_group_folders\")\n",
    "proj_dir[\"l3_reference_files\"] = Path(l2_keyword_identification / \"04.2_reference_files\")\n",
    "proj_dir[\"l3_filled_set_of_folders\"] = Path(l2_keyword_identification / \"04.3_filled_set_of_50_group_folders\")\n",
    "proj_dir[\"l3_totalcircnew\"] = Path(l2_keyword_identification / \"04.4_totalcircnew\")\n",
    "proj_dir[\"l3_cric1_newtotal\"] = Path(l2_keyword_identification / \"04.5_cric1_newtotal\")\n",
    "proj_dir[\"l3_paragraph_record\"] = Path(l2_keyword_identification / \"04.6_paragraph_record\")\n",
    "proj_dir[\"l3_entry_files\"] = Path(l2_keyword_identification / \"04.7_entry_files\")\n",
    "proj_dir[\"l3_entry_files_combined\"] = Path(l2_keyword_identification / \"04.8_entry_files_combined\")\n",
    "\n",
    "# Children of l2_extract_front_page_desc\n",
    "l2_extract_front_page_desc = proj_dir[\"l2_extract_front_page_desc\"]\n",
    "\n",
    "proj_dir[\"l3_extract_mercury\"] = Path(l2_extract_front_page_desc / \"05.1_converted_on_mercury\")\n",
    "proj_dir[\"l3_extract_windows\"] = Path(l2_extract_front_page_desc / \"05.1_converted_on_windows_jason\")\n",
    "proj_dir[\"l3_extract_manual\"] = Path(l2_extract_front_page_desc / \"05.2_converted_manually\")\n",
    "proj_dir[\"l3_extract_xlscombined\"] = Path(l2_extract_front_page_desc / \"05.3_xls_combined_withfrontpagedescriptions\")\n",
    "proj_dir[\"l3_extract_entry_files_combined\"] = Path(l2_extract_front_page_desc / \"05.4_entryfiles_combined\")"
   ]
  },
  {
   "cell_type": "code",
   "execution_count": 24,
   "id": "abe52358",
   "metadata": {},
   "outputs": [
    {
     "data": {
      "text/plain": [
       "[True,\n",
       " True,\n",
       " True,\n",
       " True,\n",
       " True,\n",
       " True,\n",
       " True,\n",
       " True,\n",
       " True,\n",
       " True,\n",
       " True,\n",
       " True,\n",
       " True,\n",
       " True,\n",
       " True,\n",
       " True,\n",
       " True,\n",
       " True,\n",
       " True,\n",
       " True,\n",
       " True,\n",
       " True,\n",
       " True,\n",
       " True,\n",
       " True]"
      ]
     },
     "execution_count": 24,
     "metadata": {},
     "output_type": "execute_result"
    }
   ],
   "source": [
    "# Check if l3 folder paths exist - take the non-intersection of the sets\n",
    "l3_set = set(proj_dir.values()) ^ l2_set ^ l1_set ^ root_set\n",
    "[l3_folder.exists() for l3_folder in l3_set]"
   ]
  },
  {
   "cell_type": "code",
   "execution_count": 25,
   "id": "620432fc",
   "metadata": {},
   "outputs": [
    {
     "data": {
      "text/plain": [
       "['03.4_cc_list_2',\n",
       " '05.1_converted_on_windows_jason',\n",
       " '04.4_totalcircnew',\n",
       " '01.1_pdf_2',\n",
       " '04.6_paragraph_record',\n",
       " '05.4_entryfiles_combined',\n",
       " '03.1_compustat_sas7bdat',\n",
       " '03.3_compustat_processed',\n",
       " '04.5_cric1_newtotal',\n",
       " '04.2_reference_files',\n",
       " '01.1_xls_2',\n",
       " '02.2_csv_2',\n",
       " '05.1_converted_on_mercury',\n",
       " '05.3_xls_combined_withfrontpagedescriptions',\n",
       " '03.2_hassan_raw',\n",
       " '05.2_converted_manually',\n",
       " '03.4_cc_list_sixun',\n",
       " '03.3_hassan_processed',\n",
       " '04.3_filled_set_of_50_group_folders',\n",
       " '04.7_entry_files',\n",
       " '04.8_entry_files_combined',\n",
       " 'checks',\n",
       " 'checks',\n",
       " '04.1_empty_set_of_50_group_folders',\n",
       " '02.1_txt_2']"
      ]
     },
     "execution_count": 25,
     "metadata": {},
     "output_type": "execute_result"
    }
   ],
   "source": [
    "# Print l3 folder names\n",
    "[l3_folder.name for l3_folder in l3_set]"
   ]
  },
  {
   "cell_type": "code",
   "execution_count": 26,
   "id": "6d6629fb",
   "metadata": {},
   "outputs": [
    {
     "data": {
      "text/plain": [
       "{'root': WindowsPath('C:/Users/jasonjia/Dropbox/Projects/conference_call'),\n",
       " 'l1_code': WindowsPath('C:/Users/jasonjia/Dropbox/Projects/conference_call/code'),\n",
       " 'l1_documentation': WindowsPath('C:/Users/jasonjia/Dropbox/Projects/conference_call/documentation'),\n",
       " 'l1_output': WindowsPath('C:/Users/jasonjia/Dropbox/Projects/conference_call/output'),\n",
       " 'l2_download_cc': WindowsPath('C:/Users/jasonjia/Dropbox/Projects/conference_call/output/01_download_cc'),\n",
       " 'l2_process_cc': WindowsPath('C:/Users/jasonjia/Dropbox/Projects/conference_call/output/02_process_cc'),\n",
       " 'l2_firm_identification': WindowsPath('C:/Users/jasonjia/Dropbox/Projects/conference_call/output/03_firm_identification'),\n",
       " 'l2_keyword_identification': WindowsPath('C:/Users/jasonjia/Dropbox/Projects/conference_call/output/04_keyword_identification'),\n",
       " 'l2_extract_front_page_desc': WindowsPath('C:/Users/jasonjia/Dropbox/Projects/conference_call/output/05_extract_front_page_desc'),\n",
       " 'l2_misc': WindowsPath('C:/Users/jasonjia/Dropbox/Projects/conference_call/output/misc'),\n",
       " 'l3_pdf_2': WindowsPath('C:/Users/jasonjia/Dropbox/Projects/conference_call/output/01_download_cc/01.1_pdf_2'),\n",
       " 'l3_xls_2': WindowsPath('C:/Users/jasonjia/Dropbox/Projects/conference_call/output/01_download_cc/01.1_xls_2'),\n",
       " 'l3_download_cc_checks': WindowsPath('C:/Users/jasonjia/Dropbox/Projects/conference_call/output/01_download_cc/checks'),\n",
       " 'l3_txt_2': WindowsPath('C:/Users/jasonjia/Dropbox/Projects/conference_call/output/02_process_cc/02.1_txt_2'),\n",
       " 'l3_csv_2': WindowsPath('C:/Users/jasonjia/Dropbox/Projects/conference_call/output/02_process_cc/02.2_csv_2'),\n",
       " 'l3_process_cc_checks': WindowsPath('C:/Users/jasonjia/Dropbox/Projects/conference_call/output/02_process_cc/checks'),\n",
       " 'l3_compustat_sas7bdat': WindowsPath('C:/Users/jasonjia/Dropbox/Projects/conference_call/output/03_firm_identification/03.1_compustat_sas7bdat'),\n",
       " 'l3_hassan_raw': WindowsPath('C:/Users/jasonjia/Dropbox/Projects/conference_call/output/03_firm_identification/03.2_hassan_raw'),\n",
       " 'l3_compustat_processed': WindowsPath('C:/Users/jasonjia/Dropbox/Projects/conference_call/output/03_firm_identification/03.3_compustat_processed'),\n",
       " 'l3_hassan_processed': WindowsPath('C:/Users/jasonjia/Dropbox/Projects/conference_call/output/03_firm_identification/03.3_hassan_processed'),\n",
       " 'l3_cc_list_2': WindowsPath('C:/Users/jasonjia/Dropbox/Projects/conference_call/output/03_firm_identification/03.4_cc_list_2'),\n",
       " 'l3_cc_list_sixun': WindowsPath('C:/Users/jasonjia/Dropbox/Projects/conference_call/output/03_firm_identification/03.4_cc_list_sixun'),\n",
       " 'l3_empty_set_of_folders': WindowsPath('C:/Users/jasonjia/Dropbox/Projects/conference_call/output/04_keyword_identification/04.1_empty_set_of_50_group_folders'),\n",
       " 'l3_reference_files': WindowsPath('C:/Users/jasonjia/Dropbox/Projects/conference_call/output/04_keyword_identification/04.2_reference_files'),\n",
       " 'l3_filled_set_of_folders': WindowsPath('C:/Users/jasonjia/Dropbox/Projects/conference_call/output/04_keyword_identification/04.3_filled_set_of_50_group_folders'),\n",
       " 'l3_totalcircnew': WindowsPath('C:/Users/jasonjia/Dropbox/Projects/conference_call/output/04_keyword_identification/04.4_totalcircnew'),\n",
       " 'l3_cric1_newtotal': WindowsPath('C:/Users/jasonjia/Dropbox/Projects/conference_call/output/04_keyword_identification/04.5_cric1_newtotal'),\n",
       " 'l3_paragraph_record': WindowsPath('C:/Users/jasonjia/Dropbox/Projects/conference_call/output/04_keyword_identification/04.6_paragraph_record'),\n",
       " 'l3_entry_files': WindowsPath('C:/Users/jasonjia/Dropbox/Projects/conference_call/output/04_keyword_identification/04.7_entry_files'),\n",
       " 'l3_entry_files_combined': WindowsPath('C:/Users/jasonjia/Dropbox/Projects/conference_call/output/04_keyword_identification/04.8_entry_files_combined'),\n",
       " 'l3_extract_mercury': WindowsPath('C:/Users/jasonjia/Dropbox/Projects/conference_call/output/05_extract_front_page_desc/05.1_converted_on_mercury'),\n",
       " 'l3_extract_windows': WindowsPath('C:/Users/jasonjia/Dropbox/Projects/conference_call/output/05_extract_front_page_desc/05.1_converted_on_windows_jason'),\n",
       " 'l3_extract_manual': WindowsPath('C:/Users/jasonjia/Dropbox/Projects/conference_call/output/05_extract_front_page_desc/05.2_converted_manually'),\n",
       " 'l3_extract_xlscombined': WindowsPath('C:/Users/jasonjia/Dropbox/Projects/conference_call/output/05_extract_front_page_desc/05.3_xls_combined_withfrontpagedescriptions'),\n",
       " 'l3_extract_entry_files_combined': WindowsPath('C:/Users/jasonjia/Dropbox/Projects/conference_call/output/05_extract_front_page_desc/05.4_entryfiles_combined')}"
      ]
     },
     "execution_count": 26,
     "metadata": {},
     "output_type": "execute_result"
    }
   ],
   "source": [
    "proj_dir"
   ]
  },
  {
   "cell_type": "code",
   "execution_count": null,
   "id": "57e25028",
   "metadata": {},
   "outputs": [],
   "source": [
    "# convert dictionary proj_dir into a json file\n",
    "# create a json object and write the json object into a json file\n",
    "json = json.dumps(proj_dir)\n",
    "f = open(\"proj_dir.json\",\"w\")\n",
    "f.write(json)\n",
    "f.close()"
   ]
  }
 ],
 "metadata": {
  "kernelspec": {
   "display_name": "Python 3 (ipykernel)",
   "language": "python",
   "name": "python3"
  },
  "language_info": {
   "codemirror_mode": {
    "name": "ipython",
    "version": 3
   },
   "file_extension": ".py",
   "mimetype": "text/x-python",
   "name": "python",
   "nbconvert_exporter": "python",
   "pygments_lexer": "ipython3",
   "version": "3.9.5"
  }
 },
 "nbformat": 4,
 "nbformat_minor": 5
}
